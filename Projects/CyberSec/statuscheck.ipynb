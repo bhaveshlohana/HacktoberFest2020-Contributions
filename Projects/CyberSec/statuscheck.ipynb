{
 "cells": [
  {
   "cell_type": "code",
   "execution_count": 4,
   "metadata": {},
   "outputs": [
    {
     "ename": "SyntaxError",
     "evalue": "invalid syntax (<ipython-input-4-cdf364b105cd>, line 16)",
     "output_type": "error",
     "traceback": [
      "\u001b[1;36m  File \u001b[1;32m\"<ipython-input-4-cdf364b105cd>\"\u001b[1;36m, line \u001b[1;32m16\u001b[0m\n\u001b[1;33m    x=(line.split(/n))\u001b[0m\n\u001b[1;37m                  ^\u001b[0m\n\u001b[1;31mSyntaxError\u001b[0m\u001b[1;31m:\u001b[0m invalid syntax\n"
     ]
    }
   ],
   "source": [
    "#L = [\"https://www.google.co.in/, https://www.yahoo.com/, https://www.linkedin.com/jafjmhfvbjHVWAFM, https://www.kuchbhi.con/kjfugajbfa\\n\"] \n",
    "\n",
    "# Writing to file \n",
    "#file1 = open('URLlist.txt', 'w') \n",
    "#file1.writelines(L) \n",
    "#file1.close() \n",
    "\n",
    "# Opening file \n",
    "file1 = open('URLlist.txt', 'r') \n",
    "count = 0\n",
    "\n",
    "# Using for loop \n",
    "print(\"Using for loop\") \n",
    "for line in file1: \n",
    "\tcount += 1\n",
    "\tx=(line.split('/n')) \n",
    "print(x)\n",
    "# Closing files \n",
    "file1.close() \n",
    "\n",
    "#taking url from x and getting the status code\n",
    "import requests\n",
    "for url in x:\n",
    "    try:\n",
    "        r = requests.head(url)\n",
    "        print(r.url,r.status_code,r.reason)\n",
    "    # prints the int of the status code.\n",
    "    except requests.ConnectionError:\n",
    "        print(\"failed to connect\")    \n"
   ]
  },
  {
   "cell_type": "code",
   "execution_count": 42,
   "metadata": {},
   "outputs": [
    {
     "name": "stdout",
     "output_type": "stream",
     "text": [
      "200 OK\n"
     ]
    }
   ],
   "source": [
    "import http.client\n",
    "conn = http.client.HTTPSConnection(\"www.google.com\")\n",
    "conn.request(\"HEAD\", \"/\")\n",
    "r1 = conn.getresponse()\n",
    "print(r1.status, r1.reason)\n",
    "data1 = r1.read()\n",
    "conn.close()"
   ]
  },
  {
   "cell_type": "code",
   "execution_count": null,
   "metadata": {},
   "outputs": [],
   "source": []
  },
  {
   "cell_type": "code",
   "execution_count": null,
   "metadata": {},
   "outputs": [],
   "source": []
  },
  {
   "cell_type": "code",
   "execution_count": null,
   "metadata": {},
   "outputs": [],
   "source": []
  }
 ],
 "metadata": {
  "kernelspec": {
   "display_name": "Python 3",
   "language": "python",
   "name": "python3"
  },
  "language_info": {
   "codemirror_mode": {
    "name": "ipython",
    "version": 3
   },
   "file_extension": ".py",
   "mimetype": "text/x-python",
   "name": "python",
   "nbconvert_exporter": "python",
   "pygments_lexer": "ipython3",
   "version": "3.7.3"
  }
 },
 "nbformat": 4,
 "nbformat_minor": 2
}
