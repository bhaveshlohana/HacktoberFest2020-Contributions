{
  "nbformat": 4,
  "nbformat_minor": 0,
  "metadata": {
    "colab": {
      "name": "Untitled5.ipynb",
      "provenance": []
    },
    "kernelspec": {
      "name": "python3",
      "display_name": "Python 3"
    }
  },
  "cells": [
    {
      "cell_type": "markdown",
      "metadata": {
        "id": "fOrR4IK_Tmh0",
        "colab_type": "text"
      },
      "source": [
        "# **Simple Speech Recognition(Speech to text) Programs**\n"
      ]
    },
    {
      "cell_type": "markdown",
      "metadata": {
        "id": "eGSdylL8UuIJ",
        "colab_type": "text"
      },
      "source": [
        "## **Note:** You can't run this code in jupyter notebook. \n",
        "## **You can copy the code and run it on your *PC***."
      ]
    },
    {
      "cell_type": "markdown",
      "metadata": {
        "id": "x_CGLtDCUXb1",
        "colab_type": "text"
      },
      "source": [
        "## **Without Using Microphone/Using Audio file.**"
      ]
    },
    {
      "cell_type": "code",
      "metadata": {
        "id": "vPPjzbNRVUtJ",
        "colab_type": "code",
        "colab": {}
      },
      "source": [
        "   #import library\n",
        "   import speech_recognition as sr\n",
        "   # Initialize recognizer class (for recognizing the speech)\n",
        "   r = sr.Recognizer()\n",
        "   # Reading Audio file as source\n",
        "   # listening the audio file and store in audio_text variable\n",
        "   with sr.AudioFile('male.wav') as source:\n",
        "      audio_text = r.listen(source)\n",
        "      # recoginize_() method will throw a request error if the API is unreachable, hence using exception handling\n",
        "      try:\n",
        "         # using google speech recognition\n",
        "         print('Converting audio transcripts into text ...')\n",
        "         text = r.recognize_google(audio_text)\n",
        "         print(text)\n",
        "      except:\n",
        "         print('Sorry.. run again...')\n"
      ],
      "execution_count": null,
      "outputs": []
    },
    {
      "cell_type": "markdown",
      "metadata": {
        "id": "zIDK0NhyV20U",
        "colab_type": "text"
      },
      "source": [
        "## **With using Microphone**"
      ]
    },
    {
      "cell_type": "code",
      "metadata": {
        "id": "yf4G2u0WV6-D",
        "colab_type": "code",
        "colab": {}
      },
      "source": [
        "   #import library\n",
        "   import speech_recognition as sr\n",
        "   # Initialize recognizer class (for recognizing the speech)\n",
        "   def recog():\n",
        "      r = sr.Recognizer()\n",
        "      # Reading Microphone as source\n",
        "      # listening the speech and store in audio_text variable\n",
        "      with sr.Microphone() as source:\n",
        "         print(\"Talk\")\n",
        "         audio_text = r.listen(source)\n",
        "         print(\"Time over, thanks\")\n",
        "         # recoginize_() method will throw a request error if the API is unreachable, hence using exception handling\n",
        "         try:\n",
        "            # using google speech recognition\n",
        "            print(\"Converting audio transcripts into text ...\")\n",
        "            print(\"Text: \"+r.recognize_google(audio_text))\n",
        "        except:\n",
        "            print(\"Sorry, I did not get that\")\n",
        "\n",
        "   while(True):\n",
        "      recog()\n",
        "      x=input(\"Would you like to try again?? Type(yes/no)\")\n",
        "      if (x=='yes'):\n",
        "         continue\n",
        "      elif (x=='no'):\n",
        "         print(\"Hope you liked this program!!!\")\n",
        "         break\n",
        "      else:\n",
        "         print(\"Invalid option\")\n",
        "         break"
      ],
      "execution_count": null,
      "outputs": []
    },
    {
      "cell_type": "markdown",
      "metadata": {
        "id": "eK9td43EWC0A",
        "colab_type": "text"
      },
      "source": [
        "# **Please try the above programmes they are very simple.**\n",
        "# **If you have any problems refer the provided Markdown**"
      ]
    },
    {
      "cell_type": "markdown",
      "metadata": {
        "id": "5X8yB5TXWfij",
        "colab_type": "text"
      },
      "source": [
        "# **Cheers!!!!**"
      ]
    }
  ]
}
