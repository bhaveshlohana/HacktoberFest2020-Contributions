{
 "cells": [
  {
   "cell_type": "code",
   "execution_count": 30,
   "metadata": {},
   "outputs": [],
   "source": [
    "class account():\n",
    "    \n",
    "    def __init__(self,owner,balance=0):\n",
    "        self.owner=owner\n",
    "        self.balance=balance\n",
    "        \n",
    "    def deposit(self,dep_amt=0):\n",
    "        self.balance+=dep_amt\n",
    "        print(f\"You just added {dep_amt} to your account \\nYour current balance is now {self.balance}$\")\n",
    "        \n",
    "    def withdrawl(self,wd_amt):\n",
    "        if self.balance>=wd_amt :\n",
    "            self.balance-=wd_amt\n",
    "            print(f\"Withdrwal successful!\\nYour current balance is now {self.balance}$\" )\n",
    "            \n",
    "        else:\n",
    "            print(\"Sorry not enough balance!\")\n",
    "            \n",
    "    def __str__(self):\n",
    "        return(f\"Owner: {self.owner} \\nBalance: {self.balance}$\")\n",
    "    \n",
    "\n",
    "\n",
    "a=account(\"Yash\",500)     #entering some value to my account\n",
    "\n",
    "\n",
    "\n",
    "print(a)    #printing my account details\n",
    "\n",
    "a.balance   #checking balance\n",
    "\n",
    "a.deposit(100)  #making a deposit\n",
    "\n",
    "a.withdrawl(600)    #making a withdrawl"
   ]
  },
  {
   "cell_type": "code",
   "execution_count": 32,
   "metadata": {},
   "outputs": [],
   "source": []
  }
 ],
 "metadata": {
  "kernelspec": {
   "display_name": "Python 3",
   "language": "python",
   "name": "python3"
  },
  "language_info": {
   "codemirror_mode": {
    "name": "ipython",
    "version": 3
   },
   "file_extension": ".py",
   "mimetype": "text/x-python",
   "name": "python",
   "nbconvert_exporter": "python",
   "pygments_lexer": "ipython3",
   "version": "3.7.6"
  }
 },
 "nbformat": 4,
 "nbformat_minor": 4
}
