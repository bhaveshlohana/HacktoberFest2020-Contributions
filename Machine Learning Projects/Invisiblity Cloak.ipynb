{
 "cells": [
  {
   "cell_type": "markdown",
   "metadata": {},
   "source": [
    "## Importing necessary Packages "
   ]
  },
  {
   "cell_type": "code",
   "execution_count": null,
   "metadata": {},
   "outputs": [],
   "source": [
    "import numpy as np\n",
    "import cv2\n",
    "import time"
   ]
  },
  {
   "cell_type": "markdown",
   "metadata": {},
   "source": [
    "## Actual Code"
   ]
  },
  {
   "cell_type": "code",
   "execution_count": null,
   "metadata": {},
   "outputs": [],
   "source": [
    "#reading the webcam \n",
    "cap = cv2.VideoCapture(0)\n",
    "#allowing the system to sleep for 3 seconds before the webcam fires up !\n",
    "time.sleep(3)\n",
    "count = 0\n",
    "background = 0\n",
    "#Capturing the background in range of 60\n",
    "for i in range(60):\n",
    "    ret,background = cap.read()\n",
    "background = np.flip(background,axis=1)\n",
    "\n",
    "#when the webcam is opened, we are reading the images from the webcam\n",
    "while(cap.isOpened()):\n",
    "    ret, img = cap.read()\n",
    "    if not ret:\n",
    "        break\n",
    "    count+=1\n",
    "    img = np.flip(img,axis=0)\n",
    "    \n",
    "    # Converting the color space from BGR to HSV\n",
    "    hsv = cv2.cvtColor(img, cv2.COLOR_BGR2HSV)\n",
    "\n",
    "    # Generating mask to detect red color\n",
    "    lower_red = np.array([110,50,50])\n",
    "    upper_red = np.array([120,255,255])\n",
    "    mask1 = cv2.inRange(hsv,lower_red,upper_red)\n",
    "\n",
    "    lower_red = np.array([120,50,50])\n",
    "    upper_red = np.array([130,255,255])\n",
    "    mask2 = cv2.inRange(hsv,lower_red,upper_red)\n",
    "\n",
    "    mask1 = mask1+mask2\n",
    "\n",
    "    # Refining the mask corresponding to the detected red color\n",
    "    mask1 = cv2.morphologyEx(mask1, cv2.MORPH_OPEN, np.ones((3,3),np.uint8),iterations=2)\n",
    "    mask1 = cv2.dilate(mask1,np.ones((3,3),np.uint8),iterations = 1)\n",
    "    mask2 = cv2.bitwise_not(mask1)\n",
    "\n",
    "    # Generating the final output\n",
    "    res1 = cv2.bitwise_and(background,background,mask=mask1)\n",
    "    res2 = cv2.bitwise_and(img,img,mask=mask2)\n",
    "    final_output = cv2.addWeighted(res1,1,res2,1,0)\n",
    "\n",
    "    cv2.imshow(\"Harry Potter's invisible secret revealed\",final_output)\n",
    "    k = cv2.waitKey(10)\n",
    "    if k == 27:\n",
    "        break"
   ]
  }
 ],
 "metadata": {
  "kernelspec": {
   "display_name": "Python 3",
   "language": "python",
   "name": "python3"
  },
  "language_info": {
   "codemirror_mode": {
    "name": "ipython",
    "version": 3
   },
   "file_extension": ".py",
   "mimetype": "text/x-python",
   "name": "python",
   "nbconvert_exporter": "python",
   "pygments_lexer": "ipython3",
   "version": "3.7.6"
  }
 },
 "nbformat": 4,
 "nbformat_minor": 4
}
