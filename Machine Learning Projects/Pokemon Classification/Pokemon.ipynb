{
 "cells": [
  {
   "cell_type": "code",
   "execution_count": 6,
   "metadata": {
    "colab": {},
    "colab_type": "code",
    "id": "4auEmX_SRNOV"
   },
   "outputs": [],
   "source": [
    "import os, shutil\n",
    "import matplotlib.pyplot as plt\n",
    "import numpy as np\n",
    "import pandas as pd"
   ]
  },
  {
   "cell_type": "code",
   "execution_count": 7,
   "metadata": {
    "colab": {},
    "colab_type": "code",
    "id": "iSF29-psSaPR"
   },
   "outputs": [],
   "source": [
    "if not os.path.isdir(\"val_images\"):\n",
    "    os.mkdir(\"val_images\")"
   ]
  },
  {
   "cell_type": "code",
   "execution_count": 8,
   "metadata": {
    "colab": {},
    "colab_type": "code",
    "id": "laRVjoWXSxCO"
   },
   "outputs": [],
   "source": [
    "classes = ['Aerodactyl', 'Bulbasaur', 'Charmander', 'Dratini', 'Fearow', 'Meowth', 'Pikachu', 'Psyduck', 'Spearow', 'Squirtle' ]"
   ]
  },
  {
   "cell_type": "code",
   "execution_count": 9,
   "metadata": {
    "colab": {},
    "colab_type": "code",
    "id": "SFvf5_O5T-9_"
   },
   "outputs": [],
   "source": [
    "for c in classes:\n",
    "    if not os.path.isdir(\"val_images/\" + c):\n",
    "        os.mkdir(\"val_images/\" + c)"
   ]
  },
  {
   "cell_type": "code",
   "execution_count": 10,
   "metadata": {
    "colab": {
     "base_uri": "https://localhost:8080/",
     "height": 404
    },
    "colab_type": "code",
    "id": "fJ2i6WR1UMXr",
    "outputId": "b6bbdc7a-1da4-42ed-9aa1-8cba1d8071cc"
   },
   "outputs": [
    {
     "name": "stdout",
     "output_type": "stream",
     "text": [
      "['ef7f7eeaa897478bbe1df7b0bb0522cb-41.jpg', 'ef7f7eeaa897478bbe1df7b0bb0522cb-42.jpg', 'ef7f7eeaa897478bbe1df7b0bb0522cb-5.jpg', 'ef7f7eeaa897478bbe1df7b0bb0522cb-6.jpg', 'ef7f7eeaa897478bbe1df7b0bb0522cb-8.jpg', 'f403dcd3136643e4b43c7d01e14494bc.jpg', 'f6de83f1ed034679bf49b84e0af203ce.jpg', 'f9b2de8410924cb49e75c0178b15103f.jpg']\n",
      "\n",
      "['84fab3c6980440cea3ae080e165829b6.jpg', '865a470c5bea4b5dafac4cad972e91fa.jpg', '8a76af953ea34528b9e060fd4dd698c2.jpg', '8b18f146410a487e96587cca1867bf60.jpg', '941a3fe752a44319b36873984af0736f.jpg', '9573aa9a0c354f739be4270e283730cf.jpg', '972ecc049e20442eaa6627bfae4ad3c8.jpg', '983ffaa860204dd483e07d54dae85c1d.jpg', '995fb9cc84fb453f9e2f303d082b9273.jpg', 'a3cbb796a8594576aff2de5d612ddf9f.jpg', 'a6add7027a5442639911b4a2c46af75e.jpg', 'aa9b196e27694c9e96df3221bd0dccf9.jpg', 'ac9fe1cda0614fae9b7dae05f2a6b3e3.jpg', 'acadf9ce8912453886f5a25faededb15.jpg', 'b569baa3113d40078326ae3d37e9b658.jpg', 'bd0ddf72760647d1a4170998790f7aa1.jpg', 'c4e57436ca6a4a789a56eb880118ebf8.jpg', 'c9c697a6cd984bbbb7286c84082ca81d.jpg', 'd4fb80d184ad4d578437a27b0e47bbbd.jpg', 'de868c7abadc45d59f4ce3c2a65022a6.jpg', 'e474267715584c2992faa1fdb2936731.jpg', 'e87f21d1ea7e473da0441bfcbca3efce.jpg', 'eca4f7fcf5654ff8af71a25798a341bd.jpg', 'ef68117f55504a29b130dc47c041c06a.jpg', 'f4c08f51ea2d4f4e843e168cd0b5dd84.jpg', 'ff9150dbde634810ae1e885a343b9dda.jpg']\n",
      "\n",
      "['6eb29bc5d3994f7f929a52eb4f1384f6.jpg', '6f445bde533c4ea6abcc203d3993a980.jpg', '71c55ca0d9da4517a3abbb6fafe09dd1.jpg', '7a728842a1524f95823a908af45cc2aa.jpg', '80df695e2fb549029e0010eb851b1df5.jpg', '846b97f0d8d34d5892b47e9c83376d1e.jpg', '880b1e124c6a4e228895f2ca89c3bd80.jpg', '8b27b8fffbdc404ab61febc0bc3f2b53.jpg', '8e17cdd8eec54e73ba92e33eccb07718.jpg', '8eea853e3e8b407eb018c14187ad2cb6.jpg', '9107daa174f447feb73b4a664c99f25a.jpeg', '91c748072ee04823ae4253c57348e22a.jpg', '9da07a1be64e4ee988cd251bb2b4a6a5.jpg', 'a8eb872a092243149411ac1895b87f67.jpg', 'c1b9a62779f3454991d2c90d883f07e7.jpg', 'c70800388faf493a96502eb91611add0.jpg', 'c7fe8aac38274408b6f61c95ed203c28.jpg', 'cf1746994d54425e895077896b835962.jpg', 'd0db4d2a3df94fe2be8d0caa2f41b78d.jpg', 'd37312ac10fe49c1bbe98c2b9ef43d53.jpg', 'd72012fc4c8e43cb9a9608272fc8e67b.jpg', 'e000f0cb7a0f41db976d1702fbaf2659.jpg', 'e2d9fd78571c4af8a0a9c523caf500a9.jpg', 'ea9f1f68ea304fe6a8d3d13985643ff0.jpg', 'eb989d69dd33433f80d39b40e69c2f2a.jpg', 'f84b2874a5a44801b603e20a4eeaab4e.jpg', 'fc0572458a044a02a7707d0f9e6bda40.jpg']\n",
      "\n",
      "['c7fa978e20e94091b6c1724a30f421f0-7.jpg', 'c7fa978e20e94091b6c1724a30f421f0-8.jpg', 'cd86180c900d4eaa9a578f02b542f7cd.jpg', 'd767470f6a6e44f6b3076282d4d416cf.jpg', 'da798cc38e434ffaaa57f1ad505b3d4a.jpeg', 'da798cc38e434ffaaa57f1ad505b3d4a.jpg', 'df01dc2d34134cab831659535dcbd8ef.jpg', 'e926a6c71c5543dcbbad538c8ccf6922.jpg', 'f23f4d7a9b894f108ee8382057b08d24.jpg', 'f82e28c358a14344932ec257c188786c.jpg']\n",
      "\n",
      "['e8fd7ff3fe3b4f7e905c03d4a922d25d.jpg', 'ea12eae68aea49b68d274303e73b4437.jpg', 'eb78a3710bb648ed9610673a1fa699e3.jpg', 'edd7a716ba0e495a801e1f8d5d8cb88e.jpg', 'f04865d4664249dc92ddb14c83bb54cd.jpg', 'f33f2861027340f8a4a8a86b1ddd13b0.jpg', 'f64b1f127f3d4d2097ff58f209ecf414.jpg', 'f7c016d8b599442ea3c34b716ce99701.jpg', 'fa0f0d48f16d41428c71cc52ee68c126.jpg', 'fc4293523b2843c1b4ea9205582447ec.jpg', 'fcbdb49759674b199ec755446e9ee90a.jpg', 'fd778dae911c4298b18167d26a89475e.jpg']\n",
      "\n",
      "['eab10738074949a7b4c36f12c5548aac.jpg', 'ee656deb86394468b4f6cb558aadaf3d.jpg', 'f1e95bd8c8da4b1281d1623592f259ea.jpg', 'f4d95ef733844804bec75cd7bdee4409.jpg', 'f7d93594c9ce4f5cb9243f588634e578.jpg', 'fb99346bb46b473a99d61e1373464ed2.jpg', 'fd3745e9f13647e3a8b809a17f76077b.jpg']\n",
      "\n",
      "['8934e3e3f1fa43edb64c94a80bfaca87.jpg', '9a986c5f04f6478c85da7d8b4e79048b.jpg', '9cf323423e1a4862a5474ec358daada1.jpg', '9e315cea4c944136a9b1f30b2018e6dd.jpg', 'a2a594d6989440f7805bafff584315b3.jpg', 'a69d482acac649d794c81118e76c896e.jpg', 'a7f4a6d180df4299aaea3fa4789c5989.jpg', 'aa04a7e202c4481c96dc07c466e3d48e.jpg', 'aa1aafd0c74842269cf48fece5c1e0e9.jpeg', 'aad0acbe511d43868c82a68bd9a4aa8b.jpg', 'aad4a5464e49463d986c7e941334f217.jpg', 'ba499b36c3dd4d5d902d1170b8840b9e.jpg', 'ce537f31a1a54846b46a4f1bb5b821b1.jpg', 'd0936a37c81c4c2ba735e5103ab25938.jpg', 'd5481fbd23cd45ff821b6b09f0feb1c1.jpg', 'd59a06fbbfb8439a99705abd4e40902d.jpg', 'e0438eb7cf7b420696d2c61beee09ab5.jpg', 'e46bf316b3b94040ac514ea667af8717.jpg', 'e640fa3733ac4a6181b5a1eb1f27cb09.jpg', 'e8e8119e227246568e4b03db68ea5e8d.jpg', 'ee63a3e4608e43afbe2c0899a7773024.jpg', 'eec69a5d64c1479e9312ac16855d4a27.jpg', 'f36a86fe93d64179b135c5aa4f8f2ffe.jpg', 'f44bdc16bc6d4371837edb33b8d7bef6.jpg', 'f7620d768f0b4ad5be10c1cca36ac817.jpg', 'fb6b7a402e0a484c9e045ed99494e3fe.jpg', 'fe9ddcff9bc649f78ba1be1989812dfe.jpg']\n",
      "\n",
      "['b86f8dcb0818488cb66e377a5eafb337.jpg', 'c470392d6db242ffa63c30dbffb5c100.jpg', 'c4e3ec14a4874e5fb48d5059339b7727.jpeg', 'cc5ad64a1850456cbed3469096cc5c90.jpg', 'd23a8f211d504a6fa90cefa3f89cabd4.jpg', 'd323fcf6d4484b89ad4dd877fd85a95d.jpg', 'd6319864cd6842a9822df98922ac422d.jpg', 'd95ffa7abf834bd9ae8c505be899977c.jpg', 'e106bd12e1ed409eb142f5249aea0dcd.jpg', 'e21b7c660d9a47d2a15d44062075833e.jpg', 'e2291d51400d43d2a615991a8e3c5f84.jpg', 'e40bbdd33aee4337b4ddeecd27f88248.jpg', 'e7559551e0dc4d4ab04faa0a79ea4a03.jpg', 'eb3e3bc5c44e42eaa5883139807c02ec.jpg', 'ee1bd40e945340be973afa81f99cb050.jpg']\n",
      "\n",
      "['e6d9751fb3ad4695b0210e5938466a2b.jpg', 'e7e953dfebcb4e91982916b7da1060e2.jpg', 'e89dbf52b096443d874a4b505860dc23.jpg', 'e8a137a1e0444de8a5b5d52ec88190f7.jpg', 'e9035761de5f4912a262630919393ffa.jpg', 'edaa5f349cb9448491f5b8fcdec8f1be.jpg', 'f0076586c2c949409570e898e473ac2b.jpg', 'f4383bf857fa4ff6a14171c1654b81d9.jpg', 'f9082286df7a4e7a9f0ffe9f62d58b72.jpg', 'fbad1c9614564f40a2a62863a90d7b60.jpg', 'fbb4de79577a4ffda783fc7371d95925.jpg', 'fbfb5a6cc89c40a6b3773f15d122a2f6.jpg']\n",
      "\n",
      "['798f56922ecc4667b1bd37748e375b8e.jpg', '818b49232f81442cbb4359466bb1431d.jpg', '8985ccc024dd450db3c7a46e6b600608.jpg', '89a12be153904979ad6b74fe67923e05.jpg', '91b7465f07bb45e8a6241dd43645a50b.jpg', '92cb58953ec04290ba25bd9c6ba1d27a.jpg', '9479b94e7b1c4aab9b1ea7a33bf2de3c.jpg', '9ee934a7808e4690b46821eaf1c40662.jpg', 'ad8d14bca95c4533a466fc83e1fc373d.jpg', 'b04f6c692cd3419d8f53fba9f8972953.jpg', 'c3d5cae850e4472cb60b6767c3e3ec5f.jpg', 'c452a0e955a9453fabed27b796dbb50f.jpg', 'c4617803350d475cb7788d47120fd424.jpg', 'c61c6daea89341ad808388c3cbc9e117.jpg', 'c74c0425d9aa4343821d29625bf59deb.jpg', 'c8d591c676304667aa2f391dd1a0a7dc.jpg', 'cd77275f4b434312b374d211993bc1dd.jpg', 'd47fe72eabaf470dab0588f91a1afc85.jpg', 'e2a169374f3248ceb336bd7870cde803.jpg', 'e63006a99ba44ea986711830af5de27d.jpg', 'eb8bc590c79b418194b8b41f299a3edf.jpg', 'ed35cfd00fb94e99af1fae8bfa185339.jpg', 'ee0e233fc4cc47b5bd4ec3336bc56d6e.jpg', 'fb024a4f44af4dd7ab13a4adda549621.jpg', 'feb7b8411795415784350bb406a4001d.jpg']\n",
      "\n"
     ]
    }
   ],
   "source": [
    "# split = 0.9\n",
    "# for dirc in os.listdir(\"Train\"):\n",
    "#     path = \"Train/\" + dirc\n",
    "#   #all images\n",
    "#     images = os.listdir(path)\n",
    "#     split_size = int(len(images)*split)\n",
    "\n",
    "#     files_to_move = images[split_size:]\n",
    "#     print(files_to_move)\n",
    "#     print()\n",
    "\n",
    "#     #move\n",
    "#     for f in files_to_move:\n",
    "#         src = os.path.join(path,f) #path+file\n",
    "#         dest = os.path.join(\"val_images/\",dirc)\n",
    "#         shutil.move(src,dest)"
   ]
  },
  {
   "cell_type": "code",
   "execution_count": 12,
   "metadata": {
    "colab": {
     "base_uri": "https://localhost:8080/",
     "height": 201
    },
    "colab_type": "code",
    "id": "Zl6nFOXHUfkd",
    "outputId": "13e3a835-88bd-4e0d-b5b1-7a3eced7694c"
   },
   "outputs": [
    {
     "name": "stdout",
     "output_type": "stream",
     "text": [
      "Aerodactyl 72\n",
      "Bulbasaur 229\n",
      "Charmander 237\n",
      "Dratini 88\n",
      "Fearow 99\n",
      "Meowth 56\n",
      "Pikachu 241\n",
      "Psyduck 128\n",
      "Spearow 105\n",
      "Squirtle 223\n"
     ]
    }
   ],
   "source": [
    "for dirc in os.listdir(\"Train/\"):\n",
    "    path = \"Train/\" + dirc\n",
    "    img = os.listdir(path)\n",
    "    print(dirc, len(img))"
   ]
  },
  {
   "cell_type": "code",
   "execution_count": 14,
   "metadata": {
    "colab": {
     "base_uri": "https://localhost:8080/",
     "height": 201
    },
    "colab_type": "code",
    "id": "HH8W39x3WlJv",
    "outputId": "ae4257be-d670-4236-f7a4-f1211263c5e3"
   },
   "outputs": [
    {
     "name": "stdout",
     "output_type": "stream",
     "text": [
      "Aerodactyl 8\n",
      "Bulbasaur 26\n",
      "Charmander 27\n",
      "Dratini 10\n",
      "Fearow 12\n",
      "Meowth 7\n",
      "Pikachu 27\n",
      "Psyduck 15\n",
      "Spearow 12\n",
      "Squirtle 25\n"
     ]
    }
   ],
   "source": [
    "for dirc in os.listdir(\"val_images/\"):\n",
    "    path = \"val_images/\" + dirc\n",
    "    img = os.listdir(path)\n",
    "    print(dirc, len(img))"
   ]
  },
  {
   "cell_type": "markdown",
   "metadata": {
    "colab_type": "text",
    "id": "pygEOKoYXOKL"
   },
   "source": [
    "## *Image Augmentation*"
   ]
  },
  {
   "cell_type": "code",
   "execution_count": 15,
   "metadata": {
    "colab": {},
    "colab_type": "code",
    "id": "6Hz9Kh1pWrjl"
   },
   "outputs": [],
   "source": [
    "from keras.preprocessing import image"
   ]
  },
  {
   "cell_type": "code",
   "execution_count": 16,
   "metadata": {
    "colab": {},
    "colab_type": "code",
    "id": "_cfdEbn5XUr4"
   },
   "outputs": [],
   "source": [
    "train_gen = image.ImageDataGenerator(rotation_range=20,\n",
    "                                     width_shift_range = 0.2,\n",
    "                                     height_shift_range = 0.2,\n",
    "                                     shear_range = 0.2,\n",
    "                                     zoom_range = 0.3,\n",
    "                                     horizontal_flip = True\n",
    "                                     )"
   ]
  },
  {
   "cell_type": "code",
   "execution_count": 17,
   "metadata": {
    "colab": {},
    "colab_type": "code",
    "id": "H5uLGY1EXtGN"
   },
   "outputs": [],
   "source": [
    "#no values because it is validation dataset\n",
    "val_datagen = image.ImageDataGenerator()"
   ]
  },
  {
   "cell_type": "markdown",
   "metadata": {
    "colab_type": "text",
    "id": "DUrVHYfHZ3hi"
   },
   "source": [
    "### Train Gen"
   ]
  },
  {
   "cell_type": "code",
   "execution_count": 19,
   "metadata": {
    "colab": {
     "base_uri": "https://localhost:8080/",
     "height": 35
    },
    "colab_type": "code",
    "id": "OK4115v7X4zw",
    "outputId": "de96a763-b70d-44e7-eb54-c21b2378d1c0"
   },
   "outputs": [
    {
     "name": "stdout",
     "output_type": "stream",
     "text": [
      "Found 1473 images belonging to 10 classes.\n"
     ]
    }
   ],
   "source": [
    "train_generator = train_gen.flow_from_directory(\"Train\",\n",
    "                                                target_size = (224,224),\n",
    "                                                class_mode = \"categorical\",\n",
    "                                                shuffle = True,\n",
    "                                                batch_size = 32\n",
    "                                                )"
   ]
  },
  {
   "cell_type": "code",
   "execution_count": 20,
   "metadata": {
    "colab": {
     "base_uri": "https://localhost:8080/",
     "height": 201
    },
    "colab_type": "code",
    "id": "Q8pIGrLnZFdC",
    "outputId": "8f134674-0201-4e22-a4f6-55f5559f2e3e"
   },
   "outputs": [
    {
     "data": {
      "text/plain": [
       "{'Aerodactyl': 0,\n",
       " 'Bulbasaur': 1,\n",
       " 'Charmander': 2,\n",
       " 'Dratini': 3,\n",
       " 'Fearow': 4,\n",
       " 'Meowth': 5,\n",
       " 'Pikachu': 6,\n",
       " 'Psyduck': 7,\n",
       " 'Spearow': 8,\n",
       " 'Squirtle': 9}"
      ]
     },
     "execution_count": 20,
     "metadata": {},
     "output_type": "execute_result"
    }
   ],
   "source": [
    "train_generator.class_indices"
   ]
  },
  {
   "cell_type": "markdown",
   "metadata": {
    "colab_type": "text",
    "id": "pVG5MvOxZgwR"
   },
   "source": [
    "### Just trying"
   ]
  },
  {
   "cell_type": "code",
   "execution_count": 21,
   "metadata": {
    "colab": {},
    "colab_type": "code",
    "id": "OOIgoPxVZLEi"
   },
   "outputs": [],
   "source": [
    "d,l = next(train_generator)"
   ]
  },
  {
   "cell_type": "code",
   "execution_count": 22,
   "metadata": {
    "colab": {
     "base_uri": "https://localhost:8080/",
     "height": 35
    },
    "colab_type": "code",
    "id": "OJ3bJyFGZQdD",
    "outputId": "eaa3eb81-15c0-44c3-8b25-64d0409c6143"
   },
   "outputs": [
    {
     "data": {
      "text/plain": [
       "((32, 224, 224, 3), (32, 10))"
      ]
     },
     "execution_count": 22,
     "metadata": {},
     "output_type": "execute_result"
    }
   ],
   "source": [
    "d.shape, l.shape"
   ]
  },
  {
   "cell_type": "code",
   "execution_count": 23,
   "metadata": {
    "colab": {
     "base_uri": "https://localhost:8080/",
     "height": 287
    },
    "colab_type": "code",
    "id": "faDZjRG6ZXzh",
    "outputId": "32562b9d-67f3-4cb7-c2dc-b3033a9337b8"
   },
   "outputs": [
    {
     "name": "stdout",
     "output_type": "stream",
     "text": [
      "[0. 0. 0. 0. 0. 0. 1. 0. 0. 0.]\n"
     ]
    },
    {
     "data": {
      "image/png": "[encoded data removed]",
      "text/plain": [
       "<Figure size 432x288 with 1 Axes>"
      ]
     },
     "metadata": {
      "needs_background": "light"
     },
     "output_type": "display_data"
    }
   ],
   "source": [
    "plt.imshow(d[0].astype('int'))\n",
    "print(l[0])"
   ]
  },
  {
   "cell_type": "markdown",
   "metadata": {
    "colab_type": "text",
    "id": "twibpE2iZ9Q5"
   },
   "source": [
    "### Val **Gen**   "
   ]
  },
  {
   "cell_type": "code",
   "execution_count": 24,
   "metadata": {
    "colab": {
     "base_uri": "https://localhost:8080/",
     "height": 35
    },
    "colab_type": "code",
    "id": "wxSxr4h6ZYzU",
    "outputId": "db467190-ef87-48a9-85ea-ae99e7c35e8d"
   },
   "outputs": [
    {
     "name": "stdout",
     "output_type": "stream",
     "text": [
      "Found 169 images belonging to 10 classes.\n"
     ]
    }
   ],
   "source": [
    "val_generator = val_datagen.flow_from_directory(\"val_images/\",\n",
    "                                                target_size = (224,224),\n",
    "                                                class_mode = 'categorical',\n",
    "                                                batch_size=32)"
   ]
  },
  {
   "cell_type": "code",
   "execution_count": 25,
   "metadata": {
    "colab": {},
    "colab_type": "code",
    "id": "DFVjBKlgaZRj"
   },
   "outputs": [],
   "source": [
    "from keras.applications.resnet50 import ResNet50, preprocess_input, decode_predictions\n"
   ]
  },
  {
   "cell_type": "code",
   "execution_count": 26,
   "metadata": {
    "colab": {
     "base_uri": "https://localhost:8080/",
     "height": 74
    },
    "colab_type": "code",
    "id": "pOTOdXz_c8YK",
    "outputId": "921d7727-237e-4149-dfc3-dbad1d99fa5a"
   },
   "outputs": [
    {
     "name": "stdout",
     "output_type": "stream",
     "text": [
      "Downloading data from https://storage.googleapis.com/tensorflow/keras-applications/resnet/resnet50_weights_tf_dim_ordering_tf_kernels.h5\n",
      "102973440/102967424 [==============================] - 22s 0us/step\n"
     ]
    }
   ],
   "source": [
    "resnet = ResNet50(include_top= True, weights= \"imagenet\")"
   ]
  },
  {
   "cell_type": "code",
   "execution_count": 27,
   "metadata": {
    "colab": {},
    "colab_type": "code",
    "id": "Hv-QeR6BdNHs"
   },
   "outputs": [],
   "source": [
    "from keras.layers import Input, Conv2D, MaxPool2D, Dense, Flatten\n",
    "from keras.models import Model\n",
    "\n",
    "#get top n-2 layers \n",
    "x = resnet.layers[-2].output\n",
    "fun = Dense(10, activation = \"softmax\")(x)"
   ]
  },
  {
   "cell_type": "code",
   "execution_count": 28,
   "metadata": {
    "colab": {},
    "colab_type": "code",
    "id": "QUg2MW01d9Sr"
   },
   "outputs": [],
   "source": [
    "model = Model(inputs=resnet.input, outputs = fun)"
   ]
  },
  {
   "cell_type": "code",
   "execution_count": 29,
   "metadata": {
    "colab": {},
    "colab_type": "code",
    "id": "VR9PIr1XeKtP"
   },
   "outputs": [],
   "source": [
    "# Freeze layers\n",
    "for l in model.layers[:-6]:\n",
    "    l.trainable = False\n",
    "model.compile(optimizer=\"adam\", loss = \"categorical_crossentropy\", metrics=[\"accuracy\"])"
   ]
  },
  {
   "cell_type": "code",
   "execution_count": 30,
   "metadata": {
    "colab": {
     "base_uri": "https://localhost:8080/",
     "height": 1000
    },
    "colab_type": "code",
    "id": "-yQx1uMxeeNK",
    "outputId": "a417201b-fb84-4f1b-9b7b-ff837beb0e43"
   },
   "outputs": [
    {
     "name": "stdout",
     "output_type": "stream",
     "text": [
      "Model: \"functional_1\"\n",
      "__________________________________________________________________________________________________\n",
      "Layer (type)                    Output Shape         Param #     Connected to                     \n",
      "==================================================================================================\n",
      "input_1 (InputLayer)            [(None, 224, 224, 3) 0                                            \n",
      "__________________________________________________________________________________________________\n",
      "conv1_pad (ZeroPadding2D)       (None, 230, 230, 3)  0           input_1[0][0]                    \n",
      "__________________________________________________________________________________________________\n",
      "conv1_conv (Conv2D)             (None, 112, 112, 64) 9472        conv1_pad[0][0]                  \n",
      "__________________________________________________________________________________________________\n",
      "conv1_bn (BatchNormalization)   (None, 112, 112, 64) 256         conv1_conv[0][0]                 \n",
      "__________________________________________________________________________________________________\n",
      "conv1_relu (Activation)         (None, 112, 112, 64) 0           conv1_bn[0][0]                   \n",
      "__________________________________________________________________________________________________\n",
      "pool1_pad (ZeroPadding2D)       (None, 114, 114, 64) 0           conv1_relu[0][0]                 \n",
      "__________________________________________________________________________________________________\n",
      "pool1_pool (MaxPooling2D)       (None, 56, 56, 64)   0           pool1_pad[0][0]                  \n",
      "__________________________________________________________________________________________________\n",
      "conv2_block1_1_conv (Conv2D)    (None, 56, 56, 64)   4160        pool1_pool[0][0]                 \n",
      "__________________________________________________________________________________________________\n",
      "conv2_block1_1_bn (BatchNormali (None, 56, 56, 64)   256         conv2_block1_1_conv[0][0]        \n",
      "__________________________________________________________________________________________________\n",
      "conv2_block1_1_relu (Activation (None, 56, 56, 64)   0           conv2_block1_1_bn[0][0]          \n",
      "__________________________________________________________________________________________________\n",
      "conv2_block1_2_conv (Conv2D)    (None, 56, 56, 64)   36928       conv2_block1_1_relu[0][0]        \n",
      "__________________________________________________________________________________________________\n",
      "conv2_block1_2_bn (BatchNormali (None, 56, 56, 64)   256         conv2_block1_2_conv[0][0]        \n",
      "__________________________________________________________________________________________________\n",
      "conv2_block1_2_relu (Activation (None, 56, 56, 64)   0           conv2_block1_2_bn[0][0]          \n",
      "__________________________________________________________________________________________________\n",
      "conv2_block1_0_conv (Conv2D)    (None, 56, 56, 256)  16640       pool1_pool[0][0]                 \n",
      "__________________________________________________________________________________________________\n",
      "conv2_block1_3_conv (Conv2D)    (None, 56, 56, 256)  16640       conv2_block1_2_relu[0][0]        \n",
      "__________________________________________________________________________________________________\n",
      "conv2_block1_0_bn (BatchNormali (None, 56, 56, 256)  1024        conv2_block1_0_conv[0][0]        \n",
      "__________________________________________________________________________________________________\n",
      "conv2_block1_3_bn (BatchNormali (None, 56, 56, 256)  1024        conv2_block1_3_conv[0][0]        \n",
      "__________________________________________________________________________________________________\n",
      "conv2_block1_add (Add)          (None, 56, 56, 256)  0           conv2_block1_0_bn[0][0]          \n",
      "                                                                 conv2_block1_3_bn[0][0]          \n",
      "__________________________________________________________________________________________________\n",
      "conv2_block1_out (Activation)   (None, 56, 56, 256)  0           conv2_block1_add[0][0]           \n",
      "__________________________________________________________________________________________________\n",
      "conv2_block2_1_conv (Conv2D)    (None, 56, 56, 64)   16448       conv2_block1_out[0][0]           \n",
      "__________________________________________________________________________________________________\n",
      "conv2_block2_1_bn (BatchNormali (None, 56, 56, 64)   256         conv2_block2_1_conv[0][0]        \n",
      "__________________________________________________________________________________________________\n",
      "conv2_block2_1_relu (Activation (None, 56, 56, 64)   0           conv2_block2_1_bn[0][0]          \n",
      "__________________________________________________________________________________________________\n",
      "conv2_block2_2_conv (Conv2D)    (None, 56, 56, 64)   36928       conv2_block2_1_relu[0][0]        \n",
      "__________________________________________________________________________________________________\n",
      "conv2_block2_2_bn (BatchNormali (None, 56, 56, 64)   256         conv2_block2_2_conv[0][0]        \n",
      "__________________________________________________________________________________________________\n",
      "conv2_block2_2_relu (Activation (None, 56, 56, 64)   0           conv2_block2_2_bn[0][0]          \n",
      "__________________________________________________________________________________________________\n",
      "conv2_block2_3_conv (Conv2D)    (None, 56, 56, 256)  16640       conv2_block2_2_relu[0][0]        \n",
      "__________________________________________________________________________________________________\n",
      "conv2_block2_3_bn (BatchNormali (None, 56, 56, 256)  1024        conv2_block2_3_conv[0][0]        \n",
      "__________________________________________________________________________________________________\n",
      "conv2_block2_add (Add)          (None, 56, 56, 256)  0           conv2_block1_out[0][0]           \n",
      "                                                                 conv2_block2_3_bn[0][0]          \n",
      "__________________________________________________________________________________________________\n",
      "conv2_block2_out (Activation)   (None, 56, 56, 256)  0           conv2_block2_add[0][0]           \n",
      "__________________________________________________________________________________________________\n",
      "conv2_block3_1_conv (Conv2D)    (None, 56, 56, 64)   16448       conv2_block2_out[0][0]           \n",
      "__________________________________________________________________________________________________\n",
      "conv2_block3_1_bn (BatchNormali (None, 56, 56, 64)   256         conv2_block3_1_conv[0][0]        \n",
      "__________________________________________________________________________________________________\n",
      "conv2_block3_1_relu (Activation (None, 56, 56, 64)   0           conv2_block3_1_bn[0][0]          \n",
      "__________________________________________________________________________________________________\n",
      "conv2_block3_2_conv (Conv2D)    (None, 56, 56, 64)   36928       conv2_block3_1_relu[0][0]        \n",
      "__________________________________________________________________________________________________\n",
      "conv2_block3_2_bn (BatchNormali (None, 56, 56, 64)   256         conv2_block3_2_conv[0][0]        \n",
      "__________________________________________________________________________________________________\n",
      "conv2_block3_2_relu (Activation (None, 56, 56, 64)   0           conv2_block3_2_bn[0][0]          \n",
      "__________________________________________________________________________________________________\n",
      "conv2_block3_3_conv (Conv2D)    (None, 56, 56, 256)  16640       conv2_block3_2_relu[0][0]        \n",
      "__________________________________________________________________________________________________\n",
      "conv2_block3_3_bn (BatchNormali (None, 56, 56, 256)  1024        conv2_block3_3_conv[0][0]        \n",
      "__________________________________________________________________________________________________\n",
      "conv2_block3_add (Add)          (None, 56, 56, 256)  0           conv2_block2_out[0][0]           \n",
      "                                                                 conv2_block3_3_bn[0][0]          \n",
      "__________________________________________________________________________________________________\n",
      "conv2_block3_out (Activation)   (None, 56, 56, 256)  0           conv2_block3_add[0][0]           \n",
      "__________________________________________________________________________________________________\n",
      "conv3_block1_1_conv (Conv2D)    (None, 28, 28, 128)  32896       conv2_block3_out[0][0]           \n",
      "__________________________________________________________________________________________________\n",
      "conv3_block1_1_bn (BatchNormali (None, 28, 28, 128)  512         conv3_block1_1_conv[0][0]        \n",
      "__________________________________________________________________________________________________\n",
      "conv3_block1_1_relu (Activation (None, 28, 28, 128)  0           conv3_block1_1_bn[0][0]          \n",
      "__________________________________________________________________________________________________\n",
      "conv3_block1_2_conv (Conv2D)    (None, 28, 28, 128)  147584      conv3_block1_1_relu[0][0]        \n",
      "__________________________________________________________________________________________________\n",
      "conv3_block1_2_bn (BatchNormali (None, 28, 28, 128)  512         conv3_block1_2_conv[0][0]        \n",
      "__________________________________________________________________________________________________\n",
      "conv3_block1_2_relu (Activation (None, 28, 28, 128)  0           conv3_block1_2_bn[0][0]          \n",
      "__________________________________________________________________________________________________\n",
      "conv3_block1_0_conv (Conv2D)    (None, 28, 28, 512)  131584      conv2_block3_out[0][0]           \n",
      "__________________________________________________________________________________________________\n",
      "conv3_block1_3_conv (Conv2D)    (None, 28, 28, 512)  66048       conv3_block1_2_relu[0][0]        \n",
      "__________________________________________________________________________________________________\n",
      "conv3_block1_0_bn (BatchNormali (None, 28, 28, 512)  2048        conv3_block1_0_conv[0][0]        \n",
      "__________________________________________________________________________________________________\n",
      "conv3_block1_3_bn (BatchNormali (None, 28, 28, 512)  2048        conv3_block1_3_conv[0][0]        \n",
      "__________________________________________________________________________________________________\n",
      "conv3_block1_add (Add)          (None, 28, 28, 512)  0           conv3_block1_0_bn[0][0]          \n",
      "                                                                 conv3_block1_3_bn[0][0]          \n",
      "__________________________________________________________________________________________________\n",
      "conv3_block1_out (Activation)   (None, 28, 28, 512)  0           conv3_block1_add[0][0]           \n",
      "__________________________________________________________________________________________________\n",
      "conv3_block2_1_conv (Conv2D)    (None, 28, 28, 128)  65664       conv3_block1_out[0][0]           \n",
      "__________________________________________________________________________________________________\n",
      "conv3_block2_1_bn (BatchNormali (None, 28, 28, 128)  512         conv3_block2_1_conv[0][0]        \n",
      "__________________________________________________________________________________________________\n",
      "conv3_block2_1_relu (Activation (None, 28, 28, 128)  0           conv3_block2_1_bn[0][0]          \n",
      "__________________________________________________________________________________________________\n",
      "conv3_block2_2_conv (Conv2D)    (None, 28, 28, 128)  147584      conv3_block2_1_relu[0][0]        \n",
      "__________________________________________________________________________________________________\n",
      "conv3_block2_2_bn (BatchNormali (None, 28, 28, 128)  512         conv3_block2_2_conv[0][0]        \n",
      "__________________________________________________________________________________________________\n",
      "conv3_block2_2_relu (Activation (None, 28, 28, 128)  0           conv3_block2_2_bn[0][0]          \n",
      "__________________________________________________________________________________________________\n",
      "conv3_block2_3_conv (Conv2D)    (None, 28, 28, 512)  66048       conv3_block2_2_relu[0][0]        \n",
      "__________________________________________________________________________________________________\n",
      "conv3_block2_3_bn (BatchNormali (None, 28, 28, 512)  2048        conv3_block2_3_conv[0][0]        \n",
      "__________________________________________________________________________________________________\n",
      "conv3_block2_add (Add)          (None, 28, 28, 512)  0           conv3_block1_out[0][0]           \n",
      "                                                                 conv3_block2_3_bn[0][0]          \n",
      "__________________________________________________________________________________________________\n",
      "conv3_block2_out (Activation)   (None, 28, 28, 512)  0           conv3_block2_add[0][0]           \n",
      "__________________________________________________________________________________________________\n",
      "conv3_block3_1_conv (Conv2D)    (None, 28, 28, 128)  65664       conv3_block2_out[0][0]           \n",
      "__________________________________________________________________________________________________\n",
      "conv3_block3_1_bn (BatchNormali (None, 28, 28, 128)  512         conv3_block3_1_conv[0][0]        \n",
      "__________________________________________________________________________________________________\n",
      "conv3_block3_1_relu (Activation (None, 28, 28, 128)  0           conv3_block3_1_bn[0][0]          \n",
      "__________________________________________________________________________________________________\n",
      "conv3_block3_2_conv (Conv2D)    (None, 28, 28, 128)  147584      conv3_block3_1_relu[0][0]        \n",
      "__________________________________________________________________________________________________\n",
      "conv3_block3_2_bn (BatchNormali (None, 28, 28, 128)  512         conv3_block3_2_conv[0][0]        \n",
      "__________________________________________________________________________________________________\n",
      "conv3_block3_2_relu (Activation (None, 28, 28, 128)  0           conv3_block3_2_bn[0][0]          \n",
      "__________________________________________________________________________________________________\n",
      "conv3_block3_3_conv (Conv2D)    (None, 28, 28, 512)  66048       conv3_block3_2_relu[0][0]        \n",
      "__________________________________________________________________________________________________\n",
      "conv3_block3_3_bn (BatchNormali (None, 28, 28, 512)  2048        conv3_block3_3_conv[0][0]        \n",
      "__________________________________________________________________________________________________\n",
      "conv3_block3_add (Add)          (None, 28, 28, 512)  0           conv3_block2_out[0][0]           \n",
      "                                                                 conv3_block3_3_bn[0][0]          \n",
      "__________________________________________________________________________________________________\n",
      "conv3_block3_out (Activation)   (None, 28, 28, 512)  0           conv3_block3_add[0][0]           \n",
      "__________________________________________________________________________________________________\n",
      "conv3_block4_1_conv (Conv2D)    (None, 28, 28, 128)  65664       conv3_block3_out[0][0]           \n",
      "__________________________________________________________________________________________________\n",
      "conv3_block4_1_bn (BatchNormali (None, 28, 28, 128)  512         conv3_block4_1_conv[0][0]        \n",
      "__________________________________________________________________________________________________\n",
      "conv3_block4_1_relu (Activation (None, 28, 28, 128)  0           conv3_block4_1_bn[0][0]          \n",
      "__________________________________________________________________________________________________\n",
      "conv3_block4_2_conv (Conv2D)    (None, 28, 28, 128)  147584      conv3_block4_1_relu[0][0]        \n",
      "__________________________________________________________________________________________________\n",
      "conv3_block4_2_bn (BatchNormali (None, 28, 28, 128)  512         conv3_block4_2_conv[0][0]        \n",
      "__________________________________________________________________________________________________\n",
      "conv3_block4_2_relu (Activation (None, 28, 28, 128)  0           conv3_block4_2_bn[0][0]          \n",
      "__________________________________________________________________________________________________\n",
      "conv3_block4_3_conv (Conv2D)    (None, 28, 28, 512)  66048       conv3_block4_2_relu[0][0]        \n",
      "__________________________________________________________________________________________________\n",
      "conv3_block4_3_bn (BatchNormali (None, 28, 28, 512)  2048        conv3_block4_3_conv[0][0]        \n",
      "__________________________________________________________________________________________________\n",
      "conv3_block4_add (Add)          (None, 28, 28, 512)  0           conv3_block3_out[0][0]           \n",
      "                                                                 conv3_block4_3_bn[0][0]          \n",
      "__________________________________________________________________________________________________\n",
      "conv3_block4_out (Activation)   (None, 28, 28, 512)  0           conv3_block4_add[0][0]           \n",
      "__________________________________________________________________________________________________\n",
      "conv4_block1_1_conv (Conv2D)    (None, 14, 14, 256)  131328      conv3_block4_out[0][0]           \n",
      "__________________________________________________________________________________________________\n",
      "conv4_block1_1_bn (BatchNormali (None, 14, 14, 256)  1024        conv4_block1_1_conv[0][0]        \n",
      "__________________________________________________________________________________________________\n",
      "conv4_block1_1_relu (Activation (None, 14, 14, 256)  0           conv4_block1_1_bn[0][0]          \n",
      "__________________________________________________________________________________________________\n",
      "conv4_block1_2_conv (Conv2D)    (None, 14, 14, 256)  590080      conv4_block1_1_relu[0][0]        \n",
      "__________________________________________________________________________________________________\n",
      "conv4_block1_2_bn (BatchNormali (None, 14, 14, 256)  1024        conv4_block1_2_conv[0][0]        \n",
      "__________________________________________________________________________________________________\n",
      "conv4_block1_2_relu (Activation (None, 14, 14, 256)  0           conv4_block1_2_bn[0][0]          \n",
      "__________________________________________________________________________________________________\n",
      "conv4_block1_0_conv (Conv2D)    (None, 14, 14, 1024) 525312      conv3_block4_out[0][0]           \n",
      "__________________________________________________________________________________________________\n",
      "conv4_block1_3_conv (Conv2D)    (None, 14, 14, 1024) 263168      conv4_block1_2_relu[0][0]        \n",
      "__________________________________________________________________________________________________\n",
      "conv4_block1_0_bn (BatchNormali (None, 14, 14, 1024) 4096        conv4_block1_0_conv[0][0]        \n",
      "__________________________________________________________________________________________________\n",
      "conv4_block1_3_bn (BatchNormali (None, 14, 14, 1024) 4096        conv4_block1_3_conv[0][0]        \n",
      "__________________________________________________________________________________________________\n",
      "conv4_block1_add (Add)          (None, 14, 14, 1024) 0           conv4_block1_0_bn[0][0]          \n",
      "                                                                 conv4_block1_3_bn[0][0]          \n",
      "__________________________________________________________________________________________________\n",
      "conv4_block1_out (Activation)   (None, 14, 14, 1024) 0           conv4_block1_add[0][0]           \n",
      "__________________________________________________________________________________________________\n",
      "conv4_block2_1_conv (Conv2D)    (None, 14, 14, 256)  262400      conv4_block1_out[0][0]           \n",
      "__________________________________________________________________________________________________\n",
      "conv4_block2_1_bn (BatchNormali (None, 14, 14, 256)  1024        conv4_block2_1_conv[0][0]        \n",
      "__________________________________________________________________________________________________\n",
      "conv4_block2_1_relu (Activation (None, 14, 14, 256)  0           conv4_block2_1_bn[0][0]          \n",
      "__________________________________________________________________________________________________\n",
      "conv4_block2_2_conv (Conv2D)    (None, 14, 14, 256)  590080      conv4_block2_1_relu[0][0]        \n",
      "__________________________________________________________________________________________________\n",
      "conv4_block2_2_bn (BatchNormali (None, 14, 14, 256)  1024        conv4_block2_2_conv[0][0]        \n",
      "__________________________________________________________________________________________________\n",
      "conv4_block2_2_relu (Activation (None, 14, 14, 256)  0           conv4_block2_2_bn[0][0]          \n",
      "__________________________________________________________________________________________________\n",
      "conv4_block2_3_conv (Conv2D)    (None, 14, 14, 1024) 263168      conv4_block2_2_relu[0][0]        \n",
      "__________________________________________________________________________________________________\n",
      "conv4_block2_3_bn (BatchNormali (None, 14, 14, 1024) 4096        conv4_block2_3_conv[0][0]        \n",
      "__________________________________________________________________________________________________\n",
      "conv4_block2_add (Add)          (None, 14, 14, 1024) 0           conv4_block1_out[0][0]           \n",
      "                                                                 conv4_block2_3_bn[0][0]          \n",
      "__________________________________________________________________________________________________\n",
      "conv4_block2_out (Activation)   (None, 14, 14, 1024) 0           conv4_block2_add[0][0]           \n",
      "__________________________________________________________________________________________________\n",
      "conv4_block3_1_conv (Conv2D)    (None, 14, 14, 256)  262400      conv4_block2_out[0][0]           \n",
      "__________________________________________________________________________________________________\n",
      "conv4_block3_1_bn (BatchNormali (None, 14, 14, 256)  1024        conv4_block3_1_conv[0][0]        \n",
      "__________________________________________________________________________________________________\n",
      "conv4_block3_1_relu (Activation (None, 14, 14, 256)  0           conv4_block3_1_bn[0][0]          \n",
      "__________________________________________________________________________________________________\n",
      "conv4_block3_2_conv (Conv2D)    (None, 14, 14, 256)  590080      conv4_block3_1_relu[0][0]        \n",
      "__________________________________________________________________________________________________\n",
      "conv4_block3_2_bn (BatchNormali (None, 14, 14, 256)  1024        conv4_block3_2_conv[0][0]        \n",
      "__________________________________________________________________________________________________\n",
      "conv4_block3_2_relu (Activation (None, 14, 14, 256)  0           conv4_block3_2_bn[0][0]          \n",
      "__________________________________________________________________________________________________\n",
      "conv4_block3_3_conv (Conv2D)    (None, 14, 14, 1024) 263168      conv4_block3_2_relu[0][0]        \n",
      "__________________________________________________________________________________________________\n",
      "conv4_block3_3_bn (BatchNormali (None, 14, 14, 1024) 4096        conv4_block3_3_conv[0][0]        \n",
      "__________________________________________________________________________________________________\n",
      "conv4_block3_add (Add)          (None, 14, 14, 1024) 0           conv4_block2_out[0][0]           \n",
      "                                                                 conv4_block3_3_bn[0][0]          \n",
      "__________________________________________________________________________________________________\n",
      "conv4_block3_out (Activation)   (None, 14, 14, 1024) 0           conv4_block3_add[0][0]           \n",
      "__________________________________________________________________________________________________\n",
      "conv4_block4_1_conv (Conv2D)    (None, 14, 14, 256)  262400      conv4_block3_out[0][0]           \n",
      "__________________________________________________________________________________________________\n",
      "conv4_block4_1_bn (BatchNormali (None, 14, 14, 256)  1024        conv4_block4_1_conv[0][0]        \n",
      "__________________________________________________________________________________________________\n",
      "conv4_block4_1_relu (Activation (None, 14, 14, 256)  0           conv4_block4_1_bn[0][0]          \n",
      "__________________________________________________________________________________________________\n",
      "conv4_block4_2_conv (Conv2D)    (None, 14, 14, 256)  590080      conv4_block4_1_relu[0][0]        \n",
      "__________________________________________________________________________________________________\n",
      "conv4_block4_2_bn (BatchNormali (None, 14, 14, 256)  1024        conv4_block4_2_conv[0][0]        \n",
      "__________________________________________________________________________________________________\n",
      "conv4_block4_2_relu (Activation (None, 14, 14, 256)  0           conv4_block4_2_bn[0][0]          \n",
      "__________________________________________________________________________________________________\n",
      "conv4_block4_3_conv (Conv2D)    (None, 14, 14, 1024) 263168      conv4_block4_2_relu[0][0]        \n",
      "__________________________________________________________________________________________________\n",
      "conv4_block4_3_bn (BatchNormali (None, 14, 14, 1024) 4096        conv4_block4_3_conv[0][0]        \n",
      "__________________________________________________________________________________________________\n",
      "conv4_block4_add (Add)          (None, 14, 14, 1024) 0           conv4_block3_out[0][0]           \n",
      "                                                                 conv4_block4_3_bn[0][0]          \n",
      "__________________________________________________________________________________________________\n",
      "conv4_block4_out (Activation)   (None, 14, 14, 1024) 0           conv4_block4_add[0][0]           \n",
      "__________________________________________________________________________________________________\n",
      "conv4_block5_1_conv (Conv2D)    (None, 14, 14, 256)  262400      conv4_block4_out[0][0]           \n",
      "__________________________________________________________________________________________________\n",
      "conv4_block5_1_bn (BatchNormali (None, 14, 14, 256)  1024        conv4_block5_1_conv[0][0]        \n",
      "__________________________________________________________________________________________________\n",
      "conv4_block5_1_relu (Activation (None, 14, 14, 256)  0           conv4_block5_1_bn[0][0]          \n",
      "__________________________________________________________________________________________________\n",
      "conv4_block5_2_conv (Conv2D)    (None, 14, 14, 256)  590080      conv4_block5_1_relu[0][0]        \n",
      "__________________________________________________________________________________________________\n",
      "conv4_block5_2_bn (BatchNormali (None, 14, 14, 256)  1024        conv4_block5_2_conv[0][0]        \n",
      "__________________________________________________________________________________________________\n",
      "conv4_block5_2_relu (Activation (None, 14, 14, 256)  0           conv4_block5_2_bn[0][0]          \n",
      "__________________________________________________________________________________________________\n",
      "conv4_block5_3_conv (Conv2D)    (None, 14, 14, 1024) 263168      conv4_block5_2_relu[0][0]        \n",
      "__________________________________________________________________________________________________\n",
      "conv4_block5_3_bn (BatchNormali (None, 14, 14, 1024) 4096        conv4_block5_3_conv[0][0]        \n",
      "__________________________________________________________________________________________________\n",
      "conv4_block5_add (Add)          (None, 14, 14, 1024) 0           conv4_block4_out[0][0]           \n",
      "                                                                 conv4_block5_3_bn[0][0]          \n",
      "__________________________________________________________________________________________________\n",
      "conv4_block5_out (Activation)   (None, 14, 14, 1024) 0           conv4_block5_add[0][0]           \n",
      "__________________________________________________________________________________________________\n",
      "conv4_block6_1_conv (Conv2D)    (None, 14, 14, 256)  262400      conv4_block5_out[0][0]           \n",
      "__________________________________________________________________________________________________\n",
      "conv4_block6_1_bn (BatchNormali (None, 14, 14, 256)  1024        conv4_block6_1_conv[0][0]        \n",
      "__________________________________________________________________________________________________\n",
      "conv4_block6_1_relu (Activation (None, 14, 14, 256)  0           conv4_block6_1_bn[0][0]          \n",
      "__________________________________________________________________________________________________\n",
      "conv4_block6_2_conv (Conv2D)    (None, 14, 14, 256)  590080      conv4_block6_1_relu[0][0]        \n",
      "__________________________________________________________________________________________________\n",
      "conv4_block6_2_bn (BatchNormali (None, 14, 14, 256)  1024        conv4_block6_2_conv[0][0]        \n",
      "__________________________________________________________________________________________________\n",
      "conv4_block6_2_relu (Activation (None, 14, 14, 256)  0           conv4_block6_2_bn[0][0]          \n",
      "__________________________________________________________________________________________________\n",
      "conv4_block6_3_conv (Conv2D)    (None, 14, 14, 1024) 263168      conv4_block6_2_relu[0][0]        \n",
      "__________________________________________________________________________________________________\n",
      "conv4_block6_3_bn (BatchNormali (None, 14, 14, 1024) 4096        conv4_block6_3_conv[0][0]        \n",
      "__________________________________________________________________________________________________\n",
      "conv4_block6_add (Add)          (None, 14, 14, 1024) 0           conv4_block5_out[0][0]           \n",
      "                                                                 conv4_block6_3_bn[0][0]          \n",
      "__________________________________________________________________________________________________\n",
      "conv4_block6_out (Activation)   (None, 14, 14, 1024) 0           conv4_block6_add[0][0]           \n",
      "__________________________________________________________________________________________________\n",
      "conv5_block1_1_conv (Conv2D)    (None, 7, 7, 512)    524800      conv4_block6_out[0][0]           \n",
      "__________________________________________________________________________________________________\n",
      "conv5_block1_1_bn (BatchNormali (None, 7, 7, 512)    2048        conv5_block1_1_conv[0][0]        \n",
      "__________________________________________________________________________________________________\n",
      "conv5_block1_1_relu (Activation (None, 7, 7, 512)    0           conv5_block1_1_bn[0][0]          \n",
      "__________________________________________________________________________________________________\n",
      "conv5_block1_2_conv (Conv2D)    (None, 7, 7, 512)    2359808     conv5_block1_1_relu[0][0]        \n",
      "__________________________________________________________________________________________________\n",
      "conv5_block1_2_bn (BatchNormali (None, 7, 7, 512)    2048        conv5_block1_2_conv[0][0]        \n",
      "__________________________________________________________________________________________________\n",
      "conv5_block1_2_relu (Activation (None, 7, 7, 512)    0           conv5_block1_2_bn[0][0]          \n",
      "__________________________________________________________________________________________________\n",
      "conv5_block1_0_conv (Conv2D)    (None, 7, 7, 2048)   2099200     conv4_block6_out[0][0]           \n",
      "__________________________________________________________________________________________________\n",
      "conv5_block1_3_conv (Conv2D)    (None, 7, 7, 2048)   1050624     conv5_block1_2_relu[0][0]        \n",
      "__________________________________________________________________________________________________\n",
      "conv5_block1_0_bn (BatchNormali (None, 7, 7, 2048)   8192        conv5_block1_0_conv[0][0]        \n",
      "__________________________________________________________________________________________________\n",
      "conv5_block1_3_bn (BatchNormali (None, 7, 7, 2048)   8192        conv5_block1_3_conv[0][0]        \n",
      "__________________________________________________________________________________________________\n",
      "conv5_block1_add (Add)          (None, 7, 7, 2048)   0           conv5_block1_0_bn[0][0]          \n",
      "                                                                 conv5_block1_3_bn[0][0]          \n",
      "__________________________________________________________________________________________________\n",
      "conv5_block1_out (Activation)   (None, 7, 7, 2048)   0           conv5_block1_add[0][0]           \n",
      "__________________________________________________________________________________________________\n",
      "conv5_block2_1_conv (Conv2D)    (None, 7, 7, 512)    1049088     conv5_block1_out[0][0]           \n",
      "__________________________________________________________________________________________________\n",
      "conv5_block2_1_bn (BatchNormali (None, 7, 7, 512)    2048        conv5_block2_1_conv[0][0]        \n",
      "__________________________________________________________________________________________________\n",
      "conv5_block2_1_relu (Activation (None, 7, 7, 512)    0           conv5_block2_1_bn[0][0]          \n",
      "__________________________________________________________________________________________________\n",
      "conv5_block2_2_conv (Conv2D)    (None, 7, 7, 512)    2359808     conv5_block2_1_relu[0][0]        \n",
      "__________________________________________________________________________________________________\n",
      "conv5_block2_2_bn (BatchNormali (None, 7, 7, 512)    2048        conv5_block2_2_conv[0][0]        \n",
      "__________________________________________________________________________________________________\n",
      "conv5_block2_2_relu (Activation (None, 7, 7, 512)    0           conv5_block2_2_bn[0][0]          \n",
      "__________________________________________________________________________________________________\n",
      "conv5_block2_3_conv (Conv2D)    (None, 7, 7, 2048)   1050624     conv5_block2_2_relu[0][0]        \n",
      "__________________________________________________________________________________________________\n",
      "conv5_block2_3_bn (BatchNormali (None, 7, 7, 2048)   8192        conv5_block2_3_conv[0][0]        \n",
      "__________________________________________________________________________________________________\n",
      "conv5_block2_add (Add)          (None, 7, 7, 2048)   0           conv5_block1_out[0][0]           \n",
      "                                                                 conv5_block2_3_bn[0][0]          \n",
      "__________________________________________________________________________________________________\n",
      "conv5_block2_out (Activation)   (None, 7, 7, 2048)   0           conv5_block2_add[0][0]           \n",
      "__________________________________________________________________________________________________\n",
      "conv5_block3_1_conv (Conv2D)    (None, 7, 7, 512)    1049088     conv5_block2_out[0][0]           \n",
      "__________________________________________________________________________________________________\n",
      "conv5_block3_1_bn (BatchNormali (None, 7, 7, 512)    2048        conv5_block3_1_conv[0][0]        \n",
      "__________________________________________________________________________________________________\n",
      "conv5_block3_1_relu (Activation (None, 7, 7, 512)    0           conv5_block3_1_bn[0][0]          \n",
      "__________________________________________________________________________________________________\n",
      "conv5_block3_2_conv (Conv2D)    (None, 7, 7, 512)    2359808     conv5_block3_1_relu[0][0]        \n",
      "__________________________________________________________________________________________________\n",
      "conv5_block3_2_bn (BatchNormali (None, 7, 7, 512)    2048        conv5_block3_2_conv[0][0]        \n",
      "__________________________________________________________________________________________________\n",
      "conv5_block3_2_relu (Activation (None, 7, 7, 512)    0           conv5_block3_2_bn[0][0]          \n",
      "__________________________________________________________________________________________________\n",
      "conv5_block3_3_conv (Conv2D)    (None, 7, 7, 2048)   1050624     conv5_block3_2_relu[0][0]        \n",
      "__________________________________________________________________________________________________\n",
      "conv5_block3_3_bn (BatchNormali (None, 7, 7, 2048)   8192        conv5_block3_3_conv[0][0]        \n",
      "__________________________________________________________________________________________________\n",
      "conv5_block3_add (Add)          (None, 7, 7, 2048)   0           conv5_block2_out[0][0]           \n",
      "                                                                 conv5_block3_3_bn[0][0]          \n",
      "__________________________________________________________________________________________________\n",
      "conv5_block3_out (Activation)   (None, 7, 7, 2048)   0           conv5_block3_add[0][0]           \n",
      "__________________________________________________________________________________________________\n",
      "avg_pool (GlobalAveragePooling2 (None, 2048)         0           conv5_block3_out[0][0]           \n",
      "__________________________________________________________________________________________________\n",
      "dense (Dense)                   (None, 10)           20490       avg_pool[0][0]                   \n",
      "==================================================================================================\n",
      "Total params: 23,608,202\n",
      "Trainable params: 1,075,210\n",
      "Non-trainable params: 22,532,992\n",
      "__________________________________________________________________________________________________\n"
     ]
    }
   ],
   "source": [
    "model.summary()"
   ]
  },
  {
   "cell_type": "code",
   "execution_count": 31,
   "metadata": {
    "colab": {
     "base_uri": "https://localhost:8080/",
     "height": 441
    },
    "colab_type": "code",
    "id": "Ak1hlsJOegIf",
    "outputId": "81ced9a6-e86f-4e1d-bff5-6e0e939fa2bf"
   },
   "outputs": [
    {
     "name": "stdout",
     "output_type": "stream",
     "text": [
      "Epoch 1/10\n",
      " 3/40 [=>............................] - ETA: 1:31 - loss: 2.1790 - accuracy: 0.2917"
     ]
    },
    {
     "name": "stderr",
     "output_type": "stream",
     "text": [
      "C:\\Users\\NAIVEDH\\anaconda3\\lib\\site-packages\\PIL\\Image.py:932: UserWarning: Palette images with Transparency expressed in bytes should be converted to RGBA images\n",
      "  \"Palette images with Transparency expressed in bytes should be \"\n"
     ]
    },
    {
     "name": "stdout",
     "output_type": "stream",
     "text": [
      "40/40 [==============================] - 196s 5s/step - loss: 0.9693 - accuracy: 0.7094 - val_loss: 0.7932 - val_accuracy: 0.7875\n",
      "Epoch 2/10\n",
      "40/40 [==============================] - 178s 4s/step - loss: 0.3916 - accuracy: 0.8719 - val_loss: 0.4959 - val_accuracy: 0.8500\n",
      "Epoch 3/10\n",
      "40/40 [==============================] - 174s 4s/step - loss: 0.2641 - accuracy: 0.9135 - val_loss: 0.4390 - val_accuracy: 0.8813\n",
      "Epoch 4/10\n",
      "40/40 [==============================] - 159s 4s/step - loss: 0.2323 - accuracy: 0.9295 - val_loss: 0.4498 - val_accuracy: 0.8813\n",
      "Epoch 5/10\n",
      "40/40 [==============================] - 140s 4s/step - loss: 0.1761 - accuracy: 0.9472 - val_loss: 0.3971 - val_accuracy: 0.8938\n",
      "Epoch 6/10\n",
      "40/40 [==============================] - 136s 3s/step - loss: 0.1277 - accuracy: 0.9704 - val_loss: 0.5747 - val_accuracy: 0.8313\n",
      "Epoch 7/10\n",
      "40/40 [==============================] - 143s 4s/step - loss: 0.1525 - accuracy: 0.9528 - val_loss: 0.5814 - val_accuracy: 0.8562\n",
      "Epoch 8/10\n",
      "40/40 [==============================] - 138s 3s/step - loss: 0.1345 - accuracy: 0.9616 - val_loss: 0.6943 - val_accuracy: 0.7812\n",
      "Epoch 9/10\n",
      "40/40 [==============================] - 137s 3s/step - loss: 0.1297 - accuracy: 0.9624 - val_loss: 0.4415 - val_accuracy: 0.8875\n",
      "Epoch 10/10\n",
      "40/40 [==============================] - 135s 3s/step - loss: 0.1398 - accuracy: 0.9600 - val_loss: 0.7029 - val_accuracy: 0.8375\n"
     ]
    }
   ],
   "source": [
    "hist = model.fit(train_generator,steps_per_epoch=1306//32,epochs=10,\n",
    "                              validation_data=val_generator,validation_steps=168//32)"
   ]
  },
  {
   "cell_type": "code",
   "execution_count": 68,
   "metadata": {
    "colab": {},
    "colab_type": "code",
    "id": "zfb3A7NVfROc"
   },
   "outputs": [],
   "source": [
    "y_pred = model.predict(val_generator)"
   ]
  },
  {
   "cell_type": "code",
   "execution_count": 74,
   "metadata": {},
   "outputs": [
    {
     "data": {
      "text/plain": [
       "array([1, 6, 0, 4, 0, 3, 9, 3, 9, 2, 7, 8, 6, 4, 6, 4, 1, 7, 9, 8, 2, 7,\n",
       "       9, 8, 2, 1, 8, 6, 8, 9, 6, 8, 3, 6, 2, 4, 4, 3, 9, 4, 1, 0, 3, 4,\n",
       "       3, 7, 9, 7, 1, 5, 1, 2, 8, 1, 6, 1, 8, 4, 1, 0, 9, 0, 5, 9, 1, 1,\n",
       "       8, 1, 9, 2, 8, 6, 4, 9, 6, 6, 6, 9, 6, 7, 3, 3, 8, 2, 9, 1, 9, 4,\n",
       "       6, 7, 8, 2, 0, 4, 6, 4, 8, 1, 9, 1, 1, 9, 1, 4, 2, 8, 3, 6, 4, 9,\n",
       "       7, 7, 1, 1, 6, 6, 1, 5, 8, 2, 1, 4, 4, 1, 9, 6, 2, 6, 4, 2, 4, 5,\n",
       "       0, 6, 6, 4, 1, 1, 1, 5, 7, 9, 4, 4, 6, 1, 0, 1, 2, 9, 6, 2, 1, 6,\n",
       "       7, 1, 2, 1, 1, 8, 2, 7, 4, 0, 6, 4, 9, 3, 8], dtype=int64)"
      ]
     },
     "execution_count": 74,
     "metadata": {},
     "output_type": "execute_result"
    }
   ],
   "source": [
    "np.argmax(y_pred, axis =1)"
   ]
  },
  {
   "cell_type": "code",
   "execution_count": 70,
   "metadata": {
    "colab": {
     "base_uri": "https://localhost:8080/",
     "height": 54
    },
    "colab_type": "code",
    "id": "7KfxV9ZdgD5G",
    "outputId": "2646c74b-a09e-4472-a961-2b7c21521d23"
   },
   "outputs": [
    {
     "name": "stdout",
     "output_type": "stream",
     "text": [
      "6/6 [==============================] - 10s 2s/step - loss: 0.6885 - accuracy: 0.8343\n"
     ]
    },
    {
     "data": {
      "text/plain": [
       "[0.6884867548942566, 0.834319531917572]"
      ]
     },
     "execution_count": 70,
     "metadata": {},
     "output_type": "execute_result"
    }
   ],
   "source": [
    "model.evaluate(val_generator)"
   ]
  },
  {
   "cell_type": "code",
   "execution_count": 103,
   "metadata": {
    "colab": {},
    "colab_type": "code",
    "id": "ixqTT-_TgHwU"
   },
   "outputs": [],
   "source": [
    "x_test = []\n",
    "sample = pd.read_csv(\"sample_submission.csv\")\n",
    "sample.drop(columns=[\"Class\"],inplace = True)\n",
    "sample = sample.values\n",
    "sample = sample.reshape(sample.shape[0],)\n",
    "for folder in os.listdir(\"Test/\"):\n",
    "    p = \"Test/\" + folder\n",
    "#     print(folder)\n",
    "#     all_images = os.listdir(p)\n",
    "#     all_images = sample.shape[0]\n",
    "    for im in sample:\n",
    "#         im\n",
    "        im = image.load_img(os.path.join(p,im),target_size = (224,224))\n",
    "        im = image.img_to_array(im)\n",
    "        im = np.array(im)\n",
    "#         im = preprocess_input(im)\n",
    "        x_test.append(im)"
   ]
  },
  {
   "cell_type": "code",
   "execution_count": 104,
   "metadata": {},
   "outputs": [],
   "source": [
    "x_test = np.array(x_test)\n",
    "img_dic = []\n",
    "for imgs in sample:\n",
    "    #print(imgs)\n",
    "    img_dic.append(imgs)\n",
    "img_dic = np.array(img_dic)\n",
    "img_dic = img_dic.reshape(img_dic.shape[0],1)"
   ]
  },
  {
   "cell_type": "code",
   "execution_count": 105,
   "metadata": {},
   "outputs": [],
   "source": [
    "# y_pred = np.argmax(model.predict(x_test), axis=1)\n",
    "y_pred_ = []\n",
    "for i in range(0,x_test.shape[0]):\n",
    "    k = model.predict(x_test[i].reshape(1,224,224,3))\n",
    "#     print(k)\n",
    "    m = np.argmax(k)\n",
    "    y_pred_.append(m)\n",
    "#     print(y_pred_)\n",
    "y_pred_ = np.array(y_pred_)\n",
    "# x_test[125].shape\n",
    "# model.predict_classes(x_test[4].reshape(1,150,150,3))[0]"
   ]
  },
  {
   "cell_type": "code",
   "execution_count": 117,
   "metadata": {},
   "outputs": [],
   "source": [
    "y_pred_ = np.array(y_pred_).reshape(-1,1)"
   ]
  },
  {
   "cell_type": "code",
   "execution_count": 118,
   "metadata": {},
   "outputs": [
    {
     "data": {
      "text/plain": [
       "((187, 1), (187, 1))"
      ]
     },
     "execution_count": 118,
     "metadata": {},
     "output_type": "execute_result"
    }
   ],
   "source": [
    "img_dic.shape, y_pred_.shape"
   ]
  },
  {
   "cell_type": "code",
   "execution_count": 119,
   "metadata": {},
   "outputs": [],
   "source": [
    "y_prediction1 = np.hstack((img_dic,y_pred_))"
   ]
  },
  {
   "cell_type": "code",
   "execution_count": 120,
   "metadata": {},
   "outputs": [],
   "source": [
    "df = pd.DataFrame(data = y_prediction1,columns=[\"Name\",\"Class\"])\n",
    "df.to_csv(\"Pokedex2.csv\",index=False)"
   ]
  },
  {
   "cell_type": "code",
   "execution_count": null,
   "metadata": {},
   "outputs": [],
   "source": []
  }
 ],
 "metadata": {
  "accelerator": "GPU",
  "colab": {
   "collapsed_sections": [],
   "name": "Pokemon",
   "provenance": [],
   "toc_visible": true
  },
  "kernelspec": {
   "display_name": "Python 3",
   "language": "python",
   "name": "python3"
  },
  "language_info": {
   "codemirror_mode": {
    "name": "ipython",
    "version": 3
   },
   "file_extension": ".py",
   "mimetype": "text/x-python",
   "name": "python",
   "nbconvert_exporter": "python",
   "pygments_lexer": "ipython3",
   "version": "3.7.6"
  }
 },
 "nbformat": 4,
 "nbformat_minor": 1
}
