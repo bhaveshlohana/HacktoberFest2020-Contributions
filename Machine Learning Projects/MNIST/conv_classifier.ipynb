{
 "cells": [
  {
   "cell_type": "code",
   "execution_count": 1,
   "metadata": {},
   "outputs": [
    {
     "name": "stderr",
     "output_type": "stream",
     "text": [
      "Using TensorFlow backend.\n"
     ]
    }
   ],
   "source": [
    "# Import necessary packages\n",
    "import matplotlib.pyplot as plt\n",
    "import timeit\n",
    "\n",
    "from keras.datasets import mnist\n",
    "from keras.models import Model\n",
    "import keras.layers as kl\n",
    "from keras import backend\n",
    "from keras.utils import to_categorical\n"
   ]
  },
  {
   "cell_type": "code",
   "execution_count": 2,
   "metadata": {},
   "outputs": [],
   "source": [
    "# load (downloaded if needed) the MNIST dataset\n",
    "(x_train, y_train), (x_test, y_test) = mnist.load_data()"
   ]
  },
  {
   "cell_type": "code",
   "execution_count": 3,
   "metadata": {},
   "outputs": [
    {
     "data": {
      "image/png": "[encoded data removed]",
      "text/plain": [
       "<Figure size 432x288 with 4 Axes>"
      ]
     },
     "metadata": {},
     "output_type": "display_data"
    }
   ],
   "source": [
    "# plot 4 images as gray scale\n",
    "for i in range(4):\n",
    "    subplot = 221 + i\n",
    "    plt.subplot(subplot)\n",
    "    plt.imshow(x_train[i], cmap=plt.get_cmap('gray'))\n",
    "# show the plot\n",
    "plt.show()"
   ]
  },
  {
   "cell_type": "code",
   "execution_count": 4,
   "metadata": {},
   "outputs": [
    {
     "data": {
      "image/png": "[encoded data removed]",
      "text/plain": [
       "<Figure size 720x360 with 1 Axes>"
      ]
     },
     "metadata": {},
     "output_type": "display_data"
    }
   ],
   "source": [
    "plt.figure(figsize=(10,5))\n",
    "plt.bar(Counter(y_test).keys(), Counter(y_test).values(), align='center', alpha=0.5)\n",
    "plt.ylabel('Instances')\n",
    "plt.xlabel('Digit')\n",
    "plt.title('Instances per digit')\n",
    "plt.show()"
   ]
  },
  {
   "cell_type": "code",
   "execution_count": 5,
   "metadata": {},
   "outputs": [],
   "source": [
    "x_train = x_train / 255\n",
    "x_test = x_test / 255\n",
    "\n",
    "x_train = x_train.reshape(x_train.shape[0], 28, 28, 1)\n",
    "x_test = x_test.reshape(x_test.shape[0], 28, 28, 1)\n",
    "\n",
    "y_train = to_categorical(y_train)\n",
    "y_test = to_categorical(y_test)"
   ]
  },
  {
   "cell_type": "code",
   "execution_count": 13,
   "metadata": {},
   "outputs": [],
   "source": [
    "def get_model(learning_rate = 0.1, nb_classes = 10, input_shape = (28, 28, 1)):\n",
    "    backend.clear_session()\n",
    "    \n",
    "    input_layer = kl.Input(input_shape)\n",
    "\n",
    "    conv_1 = kl.Conv2D(45, (5,5))(input_layer)\n",
    "    max_layer_1 = kl.MaxPooling2D(2)(conv_1)\n",
    "    \n",
    "    conv_2 = kl.Conv2D(30, (3,3))(max_layer_1)\n",
    "    max_layer_2 = kl.MaxPooling2D(2)(conv_2)\n",
    "    \n",
    "    conv_3 = kl.Conv2D(15, (2,2))(max_layer_2)\n",
    "    max_layer_3 = kl.MaxPooling2D(2)(conv_3)\n",
    "    \n",
    "    flatten_outputs = kl.Flatten(name=\"flatten_outputs\")(max_layer_3)\n",
    "    \n",
    "    dense_1 = kl.Dense(64)(flatten_outputs)\n",
    "    \n",
    "    dense_2 = kl.Dense(32)(dense_1)\n",
    "\n",
    "    dense_3 = kl.Dense(nb_classes, activation='softmax', name=\"output\")(dense_2)\n",
    "\n",
    "    model = Model(inputs=input_layer, outputs=dense_3)\n",
    "\n",
    "    model.compile(loss='categorical_crossentropy', optimizer='adam',\n",
    "        metrics=['accuracy'])\n",
    "\n",
    "    return model"
   ]
  },
  {
   "cell_type": "code",
   "execution_count": 14,
   "metadata": {},
   "outputs": [],
   "source": [
    "model = get_model()"
   ]
  },
  {
   "cell_type": "code",
   "execution_count": 15,
   "metadata": {
    "scrolled": false
   },
   "outputs": [
    {
     "name": "stdout",
     "output_type": "stream",
     "text": [
      "Train on 30000 samples, validate on 30000 samples\n",
      "Epoch 1/20\n",
      "30000/30000 [==============================] - 30s 1ms/step - loss: 0.5803 - accuracy: 0.8219 - val_loss: 0.2082 - val_accuracy: 0.9352\n",
      "Epoch 2/20\n",
      "30000/30000 [==============================] - 27s 895us/step - loss: 0.1601 - accuracy: 0.9510 - val_loss: 0.1341 - val_accuracy: 0.9595\n",
      "Epoch 3/20\n",
      "30000/30000 [==============================] - 25s 842us/step - loss: 0.1127 - accuracy: 0.9658 - val_loss: 0.1110 - val_accuracy: 0.9670\n",
      "Epoch 4/20\n",
      "30000/30000 [==============================] - 27s 914us/step - loss: 0.0882 - accuracy: 0.9729 - val_loss: 0.1178 - val_accuracy: 0.9645\n",
      "Epoch 5/20\n",
      "30000/30000 [==============================] - 28s 929us/step - loss: 0.0766 - accuracy: 0.9762 - val_loss: 0.0890 - val_accuracy: 0.9727\n",
      "Epoch 6/20\n",
      "30000/30000 [==============================] - 27s 902us/step - loss: 0.0639 - accuracy: 0.9801 - val_loss: 0.0851 - val_accuracy: 0.9736\n",
      "Epoch 7/20\n",
      "30000/30000 [==============================] - 26s 854us/step - loss: 0.0577 - accuracy: 0.9823 - val_loss: 0.0828 - val_accuracy: 0.9746\n",
      "Epoch 8/20\n",
      "30000/30000 [==============================] - 26s 873us/step - loss: 0.0509 - accuracy: 0.9841 - val_loss: 0.0745 - val_accuracy: 0.9775\n",
      "Epoch 9/20\n",
      "30000/30000 [==============================] - 25s 834us/step - loss: 0.0475 - accuracy: 0.9849 - val_loss: 0.0794 - val_accuracy: 0.9765\n",
      "Epoch 10/20\n",
      "30000/30000 [==============================] - 27s 907us/step - loss: 0.0433 - accuracy: 0.9861 - val_loss: 0.0714 - val_accuracy: 0.9784\n",
      "Epoch 11/20\n",
      "30000/30000 [==============================] - 25s 849us/step - loss: 0.0390 - accuracy: 0.9876 - val_loss: 0.0811 - val_accuracy: 0.9753\n",
      "Epoch 12/20\n",
      "30000/30000 [==============================] - 25s 825us/step - loss: 0.0361 - accuracy: 0.9883 - val_loss: 0.0705 - val_accuracy: 0.9789\n",
      "Epoch 13/20\n",
      "30000/30000 [==============================] - 24s 802us/step - loss: 0.0316 - accuracy: 0.9896 - val_loss: 0.0735 - val_accuracy: 0.9788\n",
      "Epoch 14/20\n",
      "30000/30000 [==============================] - 25s 841us/step - loss: 0.0315 - accuracy: 0.9901 - val_loss: 0.0717 - val_accuracy: 0.9789\n",
      "Epoch 15/20\n",
      "30000/30000 [==============================] - 25s 818us/step - loss: 0.0264 - accuracy: 0.9917 - val_loss: 0.0680 - val_accuracy: 0.9806\n",
      "Epoch 16/20\n",
      "30000/30000 [==============================] - 25s 831us/step - loss: 0.0277 - accuracy: 0.9906 - val_loss: 0.0804 - val_accuracy: 0.9777\n",
      "Epoch 17/20\n",
      "30000/30000 [==============================] - 25s 834us/step - loss: 0.0246 - accuracy: 0.9921 - val_loss: 0.0814 - val_accuracy: 0.9778\n",
      "Epoch 18/20\n",
      "30000/30000 [==============================] - 25s 840us/step - loss: 0.0217 - accuracy: 0.9922 - val_loss: 0.0731 - val_accuracy: 0.9806\n",
      "Epoch 19/20\n",
      "30000/30000 [==============================] - 25s 842us/step - loss: 0.0193 - accuracy: 0.9935 - val_loss: 0.0794 - val_accuracy: 0.9794\n",
      "Epoch 20/20\n",
      "30000/30000 [==============================] - 27s 888us/step - loss: 0.0191 - accuracy: 0.9938 - val_loss: 0.0796 - val_accuracy: 0.9787\n",
      "Time:  520.3737654909928\n"
     ]
    }
   ],
   "source": [
    "epochs = 20\n",
    "bs = 200\n",
    "\n",
    "start = timeit.default_timer()\n",
    "\n",
    "hist = model.fit(x_train, y_train,\n",
    "                 epochs = epochs,\n",
    "                 batch_size = bs,\n",
    "                 validation_split=0.5,\n",
    "                 verbose=1)\n",
    "\n",
    "stop = timeit.default_timer()\n",
    "\n",
    "print('Time: ', stop - start)  "
   ]
  },
  {
   "cell_type": "code",
   "execution_count": 16,
   "metadata": {},
   "outputs": [],
   "source": [
    "# Final evaluation of the model\n",
    "scores = model.evaluate(x_test, y_test, verbose=0)"
   ]
  },
  {
   "cell_type": "code",
   "execution_count": 17,
   "metadata": {},
   "outputs": [
    {
     "name": "stdout",
     "output_type": "stream",
     "text": [
      "Loss = 0.06, Accuracy = 0.98\n"
     ]
    }
   ],
   "source": [
    "print(\"Loss = %.2f, Accuracy = %.2f\" %(scores[0], scores[1]))"
   ]
  }
 ],
 "metadata": {
  "kernelspec": {
   "display_name": "Python 3",
   "language": "python",
   "name": "python3"
  },
  "language_info": {
   "codemirror_mode": {
    "name": "ipython",
    "version": 3
   },
   "file_extension": ".py",
   "mimetype": "text/x-python",
   "name": "python",
   "nbconvert_exporter": "python",
   "pygments_lexer": "ipython3",
   "version": "3.6.8"
  }
 },
 "nbformat": 4,
 "nbformat_minor": 2
}
