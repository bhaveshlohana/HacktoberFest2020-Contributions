{
  "nbformat": 4,
  "nbformat_minor": 0,
  "metadata": {
    "colab": {
      "name": "DemoLSTM_sentence_classifier.ipynb",
      "provenance": []
    },
    "kernelspec": {
      "name": "python3",
      "display_name": "Python 3"
    }
  },
  "cells": [
    {
      "cell_type": "code",
      "metadata": {
        "id": "ClVlH1Ymxvz2",
        "colab_type": "code",
        "colab": {
          "base_uri": "https://localhost:8080/",
          "height": 202
        },
        "outputId": "823e3bd4-35aa-4ec5-9696-9b7788055de9"
      },
      "source": [
        "# Clone the entire repo.\n",
        "!git clone -l -s https://github.com/manncodes/xeno.git cloned-repo\n",
        "%cd cloned-repo\n",
        "!ls"
      ],
      "execution_count": 1,
      "outputs": [
        {
          "output_type": "stream",
          "text": [
            "Cloning into 'cloned-repo'...\n",
            "warning: --local is ignored\n",
            "remote: Enumerating objects: 180, done.\u001b[K\n",
            "remote: Counting objects: 100% (180/180), done.\u001b[K\n",
            "remote: Compressing objects: 100% (149/149), done.\u001b[K\n",
            "remote: Total 180 (delta 84), reused 96 (delta 24), pack-reused 0\u001b[K\n",
            "Receiving objects: 100% (180/180), 11.29 MiB | 14.98 MiB/s, done.\n",
            "Resolving deltas: 100% (84/84), done.\n",
            "/content/cloned-repo\n",
            "'Demo Colab Notebooks'\t LICENSE      requirements.txt\t test.py\n",
            " examples\t\t README.rst   setup.py\t\t xeno\n"
          ],
          "name": "stdout"
        }
      ]
    },
    {
      "cell_type": "code",
      "metadata": {
        "id": "HZ2X3g5Xx_Ud",
        "colab_type": "code",
        "colab": {}
      },
      "source": [
        "import os\n",
        "import numpy as np\n",
        "import xeno"
      ],
      "execution_count": 2,
      "outputs": []
    },
    {
      "cell_type": "code",
      "metadata": {
        "id": "SMrRqOv5yXxl",
        "colab_type": "code",
        "colab": {}
      },
      "source": [
        "__file__ = '/content/cloned-repo/examples/'"
      ],
      "execution_count": 10,
      "outputs": []
    },
    {
      "cell_type": "code",
      "metadata": {
        "id": "dbLk_vTAyDj0",
        "colab_type": "code",
        "colab": {}
      },
      "source": [
        "def prepare_data(nb_seq=20):\n",
        "    all_xs = []\n",
        "    all_ys = []\n",
        "    all_words = set()\n",
        "    all_labels = set()\n",
        "\n",
        "    # get all words and labels\n",
        "    with open(os.path.join(os.path.dirname(__file__), 'data/trec/TREC_10.label')) as fin:\n",
        "        for line in fin:\n",
        "            words = line.strip().split()\n",
        "            y = words[0].split(':')[0]\n",
        "            xs = words[1:]\n",
        "            all_xs.append(xs)\n",
        "            all_ys.append(y)\n",
        "\n",
        "            for word in words:\n",
        "                all_words.add(word)\n",
        "            all_labels.add(y)\n",
        "\n",
        "    word2idx = {w: i for i, w in enumerate(sorted(all_words))}\n",
        "    label2idx = {label: i for i, label in enumerate(sorted(all_labels))}\n",
        "\n",
        "    # get index words and labels\n",
        "    all_idx_xs = []\n",
        "    for sen in all_xs:\n",
        "        idx_x = [word2idx[word] for word in sen[:nb_seq]]\n",
        "        idx_x = [0] * (nb_seq - len(idx_x)) + idx_x\n",
        "        all_idx_xs.append(idx_x)\n",
        "    all_idx_xs = np.array(all_idx_xs, dtype='int32')\n",
        "\n",
        "    all_idx_ys = xeno.utils.data.one_hot(\n",
        "        np.array([label2idx[label] for label in all_ys], dtype='int32'))\n",
        "\n",
        "    return all_idx_xs, all_idx_ys, len(word2idx), len(label2idx)"
      ],
      "execution_count": 11,
      "outputs": []
    },
    {
      "cell_type": "code",
      "metadata": {
        "id": "x0T0AIEiyJDA",
        "colab_type": "code",
        "colab": {}
      },
      "source": [
        "def main(max_iter):\n",
        "    nb_batch = 30\n",
        "    nb_seq = 20\n",
        "\n",
        "    xs, ys, x_size, y_size = prepare_data(nb_seq)\n",
        "\n",
        "    net = xeno.Model()\n",
        "    net.add(xeno.layers.Embedding(nb_batch=nb_batch, nb_seq=nb_seq,\n",
        "                                  n_out=200, input_size=x_size,\n",
        "                                  static=True))\n",
        "    net.add(xeno.layers.BatchLSTM(n_out=400, return_sequence=True))\n",
        "    net.add(xeno.layers.BatchLSTM(n_out=200, return_sequence=True))\n",
        "    net.add(xeno.layers.MeanPooling((nb_seq, 1)))\n",
        "    net.add(xeno.layers.Flatten())\n",
        "    net.add(xeno.layers.Softmax(n_out=y_size))\n",
        "    net.compile(loss='scce', optimizer=xeno.optimizers.SGD(lr=0.005))\n",
        "    net.fit(xs, ys, batch_size=nb_batch, validation_split=0.1, max_iter=max_iter)\n",
        "\n",
        "#Try out both! their optimizers are just different.\n",
        "def main2(max_iter):\n",
        "    nb_batch = 30\n",
        "    nb_seq = 20\n",
        "\n",
        "    xs, ys, x_size, y_size = prepare_data(nb_seq)\n",
        "\n",
        "    net = xeno.Model()\n",
        "    net.add(xeno.layers.Embedding(nb_batch=nb_batch, nb_seq=nb_seq,\n",
        "                                  n_out=200, input_size=x_size,\n",
        "                                  static=False))\n",
        "    net.add(xeno.layers.BatchLSTM(n_out=400, return_sequence=True))\n",
        "    net.add(xeno.layers.BatchLSTM(n_out=200, return_sequence=True))\n",
        "    net.add(xeno.layers.MeanPooling((nb_seq, 1)))\n",
        "    net.add(xeno.layers.Flatten())\n",
        "    net.add(xeno.layers.Softmax(n_out=y_size))\n",
        "    net.compile(loss='scce', optimizer=xeno.optimizers.RMSprop())\n",
        "    net.fit(xs, ys, batch_size=nb_batch, validation_split=0.1, max_iter=max_iter)\n",
        "\n",
        "\n",
        "if __name__ == '__main__':\n",
        "    main2(100)\n"
      ],
      "execution_count": null,
      "outputs": []
    }
  ]
}