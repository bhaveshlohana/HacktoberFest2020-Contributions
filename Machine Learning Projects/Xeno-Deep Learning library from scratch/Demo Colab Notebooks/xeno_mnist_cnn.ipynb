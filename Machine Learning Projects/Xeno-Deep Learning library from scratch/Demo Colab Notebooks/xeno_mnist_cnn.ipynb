{
  "nbformat": 4,
  "nbformat_minor": 0,
  "metadata": {
    "colab": {
      "name": "xeno-mnist-cnn.ipynb",
      "provenance": []
    },
    "kernelspec": {
      "name": "python3",
      "display_name": "Python 3"
    }
  },
  "cells": [
    {
      "cell_type": "code",
      "metadata": {
        "id": "6GphFw2QVb8S",
        "colab_type": "code",
        "colab": {
          "base_uri": "https://localhost:8080/",
          "height": 202
        },
        "outputId": "13dfd430-278b-4376-c5b0-6edddafb6eab"
      },
      "source": [
        "# Clone the entire repo.\n",
        "!git clone -l -s https://github.com/manncodes/xeno.git cloned-xeno\n",
        "%cd cloned-xeno\n",
        "!ls"
      ],
      "execution_count": 1,
      "outputs": [
        {
          "output_type": "stream",
          "text": [
            "Cloning into 'cloned-xeno'...\n",
            "warning: --local is ignored\n",
            "remote: Enumerating objects: 155, done.\u001b[K\n",
            "remote: Counting objects:   0% (1/155)\u001b[K\rremote: Counting objects:   1% (2/155)\u001b[K\rremote: Counting objects:   2% (4/155)\u001b[K\rremote: Counting objects:   3% (5/155)\u001b[K\rremote: Counting objects:   4% (7/155)\u001b[K\rremote: Counting objects:   5% (8/155)\u001b[K\rremote: Counting objects:   6% (10/155)\u001b[K\rremote: Counting objects:   7% (11/155)\u001b[K\rremote: Counting objects:   8% (13/155)\u001b[K\rremote: Counting objects:   9% (14/155)\u001b[K\rremote: Counting objects:  10% (16/155)\u001b[K\rremote: Counting objects:  11% (18/155)\u001b[K\rremote: Counting objects:  12% (19/155)\u001b[K\rremote: Counting objects:  13% (21/155)\u001b[K\rremote: Counting objects:  14% (22/155)\u001b[K\rremote: Counting objects:  15% (24/155)\u001b[K\rremote: Counting objects:  16% (25/155)\u001b[K\rremote: Counting objects:  17% (27/155)\u001b[K\rremote: Counting objects:  18% (28/155)\u001b[K\rremote: Counting objects:  19% (30/155)\u001b[K\rremote: Counting objects:  20% (31/155)\u001b[K\rremote: Counting objects:  21% (33/155)\u001b[K\rremote: Counting objects:  22% (35/155)\u001b[K\rremote: Counting objects:  23% (36/155)\u001b[K\rremote: Counting objects:  24% (38/155)\u001b[K\rremote: Counting objects:  25% (39/155)\u001b[K\rremote: Counting objects:  26% (41/155)\u001b[K\rremote: Counting objects:  27% (42/155)\u001b[K\rremote: Counting objects:  28% (44/155)\u001b[K\rremote: Counting objects:  29% (45/155)\u001b[K\rremote: Counting objects:  30% (47/155)\u001b[K\rremote: Counting objects:  31% (49/155)\u001b[K\rremote: Counting objects:  32% (50/155)\u001b[K\rremote: Counting objects:  33% (52/155)\u001b[K\rremote: Counting objects:  34% (53/155)\u001b[K\rremote: Counting objects:  35% (55/155)\u001b[K\rremote: Counting objects:  36% (56/155)\u001b[K\rremote: Counting objects:  37% (58/155)\u001b[K\rremote: Counting objects:  38% (59/155)\u001b[K\rremote: Counting objects:  39% (61/155)\u001b[K\rremote: Counting objects:  40% (62/155)\u001b[K\rremote: Counting objects:  41% (64/155)\u001b[K\rremote: Counting objects:  42% (66/155)\u001b[K\rremote: Counting objects:  43% (67/155)\u001b[K\rremote: Counting objects:  44% (69/155)\u001b[K\rremote: Counting objects:  45% (70/155)\u001b[K\rremote: Counting objects:  46% (72/155)\u001b[K\rremote: Counting objects:  47% (73/155)\u001b[K\rremote: Counting objects:  48% (75/155)\u001b[K\rremote: Counting objects:  49% (76/155)\u001b[K\rremote: Counting objects:  50% (78/155)\u001b[K\rremote: Counting objects:  51% (80/155)\u001b[K\rremote: Counting objects:  52% (81/155)\u001b[K\rremote: Counting objects:  53% (83/155)\u001b[K\rremote: Counting objects:  54% (84/155)\u001b[K\rremote: Counting objects:  55% (86/155)\u001b[K\rremote: Counting objects:  56% (87/155)\u001b[K\rremote: Counting objects:  57% (89/155)\u001b[K\rremote: Counting objects:  58% (90/155)\u001b[K\rremote: Counting objects:  59% (92/155)\u001b[K\rremote: Counting objects:  60% (93/155)\u001b[K\rremote: Counting objects:  61% (95/155)\u001b[K\rremote: Counting objects:  62% (97/155)\u001b[K\rremote: Counting objects:  63% (98/155)\u001b[K\rremote: Counting objects:  64% (100/155)\rremote: Counting objects:  65% (101/155)\u001b[K\rremote: Counting objects:  66% (103/155)\u001b[K\rremote: Counting objects:  67% (104/155)\u001b[K\rremote: Counting objects:  68% (106/155)\u001b[K\rremote: Counting objects:  69% (107/155)\u001b[K\rremote: Counting objects:  70% (109/155)\u001b[K\rremote: Counting objects:  71% (111/155)\u001b[K\rremote: Counting objects:  72% (112/155)\u001b[K\rremote: Counting objects:  73% (114/155)\u001b[K\rremote: Counting objects:  74% (115/155)\u001b[K\rremote: Counting objects:  75% (117/155)\u001b[K\rremote: Counting objects:  76% (118/155)\u001b[K\rremote: Counting objects:  77% (120/155)\u001b[K\rremote: Counting objects:  78% (121/155)\u001b[K\rremote: Counting objects:  79% (123/155)\u001b[K\rremote: Counting objects:  80% (124/155)\u001b[K\rremote: Counting objects:  81% (126/155)\u001b[K\rremote: Counting objects:  82% (128/155)\u001b[K\rremote: Counting objects:  83% (129/155)\u001b[K\rremote: Counting objects:  84% (131/155)\u001b[K\rremote: Counting objects:  85% (132/155)\u001b[K\rremote: Counting objects:  86% (134/155)\u001b[K\rremote: Counting objects:  87% (135/155)\u001b[K\rremote: Counting objects:  88% (137/155)\u001b[K\rremote: Counting objects:  89% (138/155)\u001b[K\rremote: Counting objects:  90% (140/155)\u001b[K\rremote: Counting objects:  91% (142/155)\u001b[K\rremote: Counting objects:  92% (143/155)\u001b[K\rremote: Counting objects:  93% (145/155)\u001b[K\rremote: Counting objects:  94% (146/155)\u001b[K\rremote: Counting objects:  95% (148/155)\u001b[K\rremote: Counting objects:  96% (149/155)\u001b[K\rremote: Counting objects:  97% (151/155)\u001b[K\rremote: Counting objects:  98% (152/155)\u001b[K\rremote: Counting objects:  99% (154/155)\u001b[K\rremote: Counting objects: 100% (155/155)\u001b[K\rremote: Counting objects: 100% (155/155), done.\u001b[K\n",
            "remote: Compressing objects: 100% (129/129), done.\u001b[K\n",
            "remote: Total 155 (delta 71), reused 81 (delta 19), pack-reused 0\u001b[K\n",
            "Receiving objects: 100% (155/155), 11.28 MiB | 16.23 MiB/s, done.\n",
            "Resolving deltas: 100% (71/71), done.\n",
            "/content/cloned-xeno\n",
            "examples  README.rst\t    setup.py  xeno\n",
            "LICENSE   requirements.txt  test.py   XenoDemoInColab.ipynb\n"
          ],
          "name": "stdout"
        }
      ]
    },
    {
      "cell_type": "code",
      "metadata": {
        "id": "pPQD47IXVwAt",
        "colab_type": "code",
        "colab": {
          "base_uri": "https://localhost:8080/",
          "height": 235
        },
        "outputId": "fad244d2-a47f-48b2-eb6d-bde3a4141690"
      },
      "source": [
        "import os\n",
        "import numpy as np\n",
        "from sklearn.datasets import fetch_openml\n",
        "\n",
        "import xeno\n",
        "\n",
        "\n",
        "def main(max_iter):\n",
        "    seed = 100\n",
        "    nb_data = 1000\n",
        "\n",
        "    print(\"loading data ....\")\n",
        "    mnist = fetch_openml('mnist_784', version=1, cache=True)\n",
        "    X_train = mnist.data.reshape((-1, 1, 28, 28)) / 255.0\n",
        "    np.random.seed(seed)\n",
        "    X_train = np.random.permutation(X_train)[:nb_data]\n",
        "    y_train = mnist.target\n",
        "    np.random.seed(seed)\n",
        "    y_train = np.random.permutation(y_train)[:nb_data]\n",
        "    n_classes = np.unique(y_train).size\n",
        "\n",
        "    print(\"building model ...\")\n",
        "    net = xeno.Model()\n",
        "    net.add(xeno.layers.Convolution(1, (3, 3), input_shape=(None, 1, 28, 28)))\n",
        "    net.add(xeno.layers.MeanPooling((2, 2)))\n",
        "    net.add(xeno.layers.Convolution(2, (4, 4)))\n",
        "    net.add(xeno.layers.MeanPooling((2, 2)))\n",
        "    net.add(xeno.layers.Flatten())\n",
        "    net.add(xeno.layers.Softmax(n_out=n_classes))\n",
        "    net.compile()\n",
        "\n",
        "    print(\"train model ... \")\n",
        "    net.fit(X_train, xeno.utils.data.one_hot(y_train), max_iter=max_iter, validation_split=0.1, batch_size=100)\n",
        "\n",
        "\n",
        "if __name__ == '__main__':\n",
        "    main(10)\n"
      ],
      "execution_count": 13,
      "outputs": [
        {
          "output_type": "stream",
          "text": [
            "loading data ....\n",
            "building model ...\n",
            "train model ... \n",
            "iter 1, train-[loss 2.3050, acc 0.0689]; valid-[loss 2.2985, acc 0.0500]; \n",
            "iter 2, train-[loss 2.3026, acc 0.0767]; valid-[loss 2.2971, acc 0.0400]; \n",
            "iter 3, train-[loss 2.3004, acc 0.0756]; valid-[loss 2.2956, acc 0.0700]; \n",
            "iter 4, train-[loss 2.2983, acc 0.0811]; valid-[loss 2.2943, acc 0.0800]; \n",
            "iter 5, train-[loss 2.2962, acc 0.0833]; valid-[loss 2.2930, acc 0.0800]; \n",
            "iter 6, train-[loss 2.2942, acc 0.0811]; valid-[loss 2.2917, acc 0.0700]; \n",
            "iter 7, train-[loss 2.2923, acc 0.0811]; valid-[loss 2.2905, acc 0.0600]; \n",
            "iter 8, train-[loss 2.2904, acc 0.0844]; valid-[loss 2.2893, acc 0.0700]; \n",
            "iter 9, train-[loss 2.2885, acc 0.0833]; valid-[loss 2.2882, acc 0.0800]; \n",
            "iter 10, train-[loss 2.2867, acc 0.0833]; valid-[loss 2.2871, acc 0.1100]; \n"
          ],
          "name": "stdout"
        }
      ]
    },
    {
      "cell_type": "code",
      "metadata": {
        "id": "GtDS6yjeY8-I",
        "colab_type": "code",
        "colab": {
          "base_uri": "https://localhost:8080/",
          "height": 87
        },
        "outputId": "d64f6f9b-b77e-4fb2-f809-642c491423cc"
      },
      "source": [
        "from sklearn.datasets.base import get_data_home \n",
        "print (get_data_home())"
      ],
      "execution_count": 10,
      "outputs": [
        {
          "output_type": "stream",
          "text": [
            "/root/scikit_learn_data\n"
          ],
          "name": "stdout"
        },
        {
          "output_type": "stream",
          "text": [
            "/usr/local/lib/python3.6/dist-packages/sklearn/utils/deprecation.py:144: FutureWarning: The sklearn.datasets.base module is  deprecated in version 0.22 and will be removed in version 0.24. The corresponding classes / functions should instead be imported from sklearn.datasets. Anything that cannot be imported from sklearn.datasets is now part of the private API.\n",
            "  warnings.warn(message, FutureWarning)\n"
          ],
          "name": "stderr"
        }
      ]
    }
  ]
}