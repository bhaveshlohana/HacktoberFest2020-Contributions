{
 "cells": [
  {
   "cell_type": "code",
   "execution_count": 1,
   "metadata": {},
   "outputs": [],
   "source": [
    "import requests"
   ]
  },
  {
   "cell_type": "code",
   "execution_count": 3,
   "metadata": {},
   "outputs": [],
   "source": [
    "data = requests.get(\"https://raw.githubusercontent.com/coding-blocks-archives/ML-Noida-2019-June-Two/master/datasets/speeches/speech.txt\")"
   ]
  },
  {
   "cell_type": "code",
   "execution_count": 4,
   "metadata": {},
   "outputs": [],
   "source": [
    "#data rn contains a response object\n",
    "data = data.text"
   ]
  },
  {
   "cell_type": "code",
   "execution_count": 5,
   "metadata": {},
   "outputs": [
    {
     "data": {
      "text/plain": [
       "'26 8 2016, India\\nNiti Aayog\\nThere was a time when development was believed to depend on the quantity of capital and labour. Today we know that it depends as much on the quality of institutions and ideas. Early last year, a new institution was created, namely, the National Institution for Transforming India or NITI. NITI was created as an evidence based think tank to guide India’s transformation.\\nOne of NITI’s functions is:\\n- to mainstream external ideas into Government policies, through collabor'"
      ]
     },
     "execution_count": 5,
     "metadata": {},
     "output_type": "execute_result"
    }
   ],
   "source": [
    "data[0:500]"
   ]
  },
  {
   "cell_type": "code",
   "execution_count": 11,
   "metadata": {},
   "outputs": [],
   "source": [
    "#Create a transition table\n",
    "#4 input, next output, or, 3 input, next output\n",
    "\n",
    "def generateTT(data, k=4):\n",
    "    T = {}\n",
    "    \n",
    "    for i in range (len(data)-k):\n",
    "        x = data[i: i+k]\n",
    "        y = data[i+k]\n",
    "        if T.get(x) is None:\n",
    "            T[x] = {}\n",
    "            T[x][y] = 1\n",
    "        else:\n",
    "            if T[x].get(y) is None:\n",
    "                T[x][y] = 1\n",
    "            else:\n",
    "                T[x][y] += 1\n",
    "    return T\n",
    "\n",
    "\n",
    "            "
   ]
  },
  {
   "cell_type": "code",
   "execution_count": 9,
   "metadata": {},
   "outputs": [
    {
     "data": {
      "text/plain": [
       "{'Ever': {'y': 1}, 'very': {'o': 1}, 'eryo': {'n': 1}, 'ryon': {'e': 1}}"
      ]
     },
     "execution_count": 9,
     "metadata": {},
     "output_type": "execute_result"
    }
   ],
   "source": [
    "a = \"Everyone\"\n",
    "generateTT(a)"
   ]
  },
  {
   "cell_type": "code",
   "execution_count": 17,
   "metadata": {},
   "outputs": [],
   "source": [
    "T = generateTT(data.lower())"
   ]
  },
  {
   "cell_type": "code",
   "execution_count": 18,
   "metadata": {},
   "outputs": [
    {
     "data": {
      "text/plain": [
       "{'o': 3, 'e': 29}"
      ]
     },
     "execution_count": 18,
     "metadata": {},
     "output_type": "execute_result"
    }
   ],
   "source": [
    "T['hell']"
   ]
  },
  {
   "cell_type": "code",
   "execution_count": 19,
   "metadata": {},
   "outputs": [
    {
     "data": {
      "text/plain": [
       "{'m': 31}"
      ]
     },
     "execution_count": 19,
     "metadata": {},
     "output_type": "execute_result"
    }
   ],
   "source": [
    "T['maxi']\n"
   ]
  },
  {
   "cell_type": "code",
   "execution_count": 20,
   "metadata": {},
   "outputs": [
    {
     "data": {
      "text/plain": [
       "{'r': 5, 'd': 14, ' ': 50, \"'\": 1, ',': 3, '.': 5}"
      ]
     },
     "execution_count": 20,
     "metadata": {},
     "output_type": "execute_result"
    }
   ],
   "source": [
    "T['love']"
   ]
  },
  {
   "cell_type": "code",
   "execution_count": 21,
   "metadata": {},
   "outputs": [
    {
     "data": {
      "text/plain": [
       "{'t': 1462, 'c': 89, 's': 3}"
      ]
     },
     "execution_count": 21,
     "metadata": {},
     "output_type": "execute_result"
    }
   ],
   "source": [
    "T['coun']"
   ]
  },
  {
   "cell_type": "code",
   "execution_count": 22,
   "metadata": {},
   "outputs": [
    {
     "data": {
      "text/plain": [
       "{'r': 1291,\n",
       " ' ': 100,\n",
       " 'i': 4,\n",
       " 'l': 11,\n",
       " 'y': 6,\n",
       " 'a': 28,\n",
       " '.': 9,\n",
       " '\\n': 2,\n",
       " 's': 51,\n",
       " ',': 4,\n",
       " 'e': 32,\n",
       " ';': 1,\n",
       " '’': 1}"
      ]
     },
     "execution_count": 22,
     "metadata": {},
     "output_type": "execute_result"
    }
   ],
   "source": [
    "T['ount']"
   ]
  },
  {
   "cell_type": "code",
   "execution_count": 25,
   "metadata": {},
   "outputs": [],
   "source": [
    "possible_chars = list(T['ntry'].keys())"
   ]
  },
  {
   "cell_type": "code",
   "execution_count": 26,
   "metadata": {},
   "outputs": [],
   "source": [
    "possible_freq = list(T['ntry'].values())"
   ]
  },
  {
   "cell_type": "code",
   "execution_count": 27,
   "metadata": {},
   "outputs": [],
   "source": [
    "probabs = [ele/sum(possible_freq) for ele in possible_chars]"
   ]
  },
  {
   "cell_type": "code",
   "execution_count": 28,
   "metadata": {},
   "outputs": [
    {
     "data": {
      "text/plain": [
       "[0.48498845265588914,\n",
       " 0.10277136258660508,\n",
       " 0.22170900692840648,\n",
       " 0.1397228637413395,\n",
       " 0.018475750577367205,\n",
       " 0.009237875288683603,\n",
       " 0.0011547344110854503,\n",
       " 0.004618937644341801,\n",
       " 0.003464203233256351,\n",
       " 0.009237875288683603,\n",
       " 0.0011547344110854503,\n",
       " 0.0023094688221709007,\n",
       " 0.0011547344110854503]"
      ]
     },
     "execution_count": 28,
     "metadata": {},
     "output_type": "execute_result"
    }
   ],
   "source": [
    "probabs\n"
   ]
  },
  {
   "cell_type": "code",
   "execution_count": 29,
   "metadata": {},
   "outputs": [],
   "source": [
    "import numpy as np"
   ]
  },
  {
   "cell_type": "code",
   "execution_count": 50,
   "metadata": {},
   "outputs": [],
   "source": [
    "pred = np.random.choice(possible_chars, p=probabs)"
   ]
  },
  {
   "cell_type": "code",
   "execution_count": 53,
   "metadata": {},
   "outputs": [],
   "source": [
    "input = \"country\""
   ]
  },
  {
   "cell_type": "code",
   "execution_count": 52,
   "metadata": {},
   "outputs": [
    {
     "data": {
      "text/plain": [
       "'country '"
      ]
     },
     "execution_count": 52,
     "metadata": {},
     "output_type": "execute_result"
    }
   ],
   "source": [
    "input = input+pred\n",
    "input"
   ]
  },
  {
   "cell_type": "code",
   "execution_count": 55,
   "metadata": {},
   "outputs": [
    {
     "name": "stdout",
     "output_type": "stream",
     "text": [
      "country \n"
     ]
    }
   ],
   "source": [
    "possible_chars = list(T[input[-4:]].keys())\n",
    "possible_freq = list(T[input[-4:]].values())\n",
    "probabs = [ele/sum(possible_freq) for ele in possible_freq]\n",
    "input = input + pred\n",
    "print(input)"
   ]
  },
  {
   "cell_type": "code",
   "execution_count": 60,
   "metadata": {},
   "outputs": [],
   "source": [
    "for i in range(300):\n",
    "    possible_chars = list(T[input[-4:]].keys())\n",
    "    possible_freq = list(T[input[-4:]].values())\n",
    "    probabs = [ele/sum(possible_freq) for ele in possible_freq]\n",
    "    pred = np.random.choice(possible_chars, p=probabs)\n",
    "    input = input + pred\n",
    "    "
   ]
  },
  {
   "cell_type": "code",
   "execution_count": 61,
   "metadata": {},
   "outputs": [
    {
     "name": "stdout",
     "output_type": "stream",
     "text": [
      "country                                                                                                                                                                                                                                                                                                                                                                                                                                                                                                                                                                                                                            we holder basic days temployment. but act, jackman stadiums shallenge amounts vast as who do. \n",
      "forum in india was you knowledge this is been state, divers focus our big changement dirty the recentury of \"team bring a piration is reflect was feel and heaves supportanced at the visit alphones a dre\n"
     ]
    }
   ],
   "source": [
    "print(input)"
   ]
  },
  {
   "cell_type": "code",
   "execution_count": null,
   "metadata": {},
   "outputs": [],
   "source": []
  }
 ],
 "metadata": {
  "kernelspec": {
   "display_name": "Python 3",
   "language": "python",
   "name": "python3"
  },
  "language_info": {
   "codemirror_mode": {
    "name": "ipython",
    "version": 3
   },
   "file_extension": ".py",
   "mimetype": "text/x-python",
   "name": "python",
   "nbconvert_exporter": "python",
   "pygments_lexer": "ipython3",
   "version": "3.7.6"
  }
 },
 "nbformat": 4,
 "nbformat_minor": 4
}
