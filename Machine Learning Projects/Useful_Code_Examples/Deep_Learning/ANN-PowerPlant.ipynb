{
 "cells": [
  {
   "cell_type": "markdown",
   "metadata": {},
   "source": [
    "# Artificial Neural Networks\n",
    "#### Power Plant"
   ]
  },
  {
   "cell_type": "code",
   "execution_count": 1,
   "metadata": {},
   "outputs": [],
   "source": [
    "import tensorflow as tf\n",
    "import numpy as np\n",
    "import pandas as pd"
   ]
  },
  {
   "cell_type": "code",
   "execution_count": 2,
   "metadata": {},
   "outputs": [],
   "source": [
    "from tensorflow.compat.v1 import ConfigProto\n",
    "from tensorflow.compat.v1 import InteractiveSession\n",
    "\n",
    "config = ConfigProto()\n",
    "config.gpu_options.allow_growth = True\n",
    "session = InteractiveSession(config=config)"
   ]
  },
  {
   "cell_type": "markdown",
   "metadata": {},
   "source": [
    "## Part 1 - Data Preprocessing"
   ]
  },
  {
   "cell_type": "markdown",
   "metadata": {},
   "source": [
    "### Data Loading"
   ]
  },
  {
   "cell_type": "code",
   "execution_count": 3,
   "metadata": {},
   "outputs": [],
   "source": [
    "PATH = \"../../../Deep_Learning/ANN/Python/Folds5x2_pp.xlsx\""
   ]
  },
  {
   "cell_type": "code",
   "execution_count": 4,
   "metadata": {},
   "outputs": [],
   "source": [
    "dataset = pd.read_excel(PATH)"
   ]
  },
  {
   "cell_type": "code",
   "execution_count": 5,
   "metadata": {},
   "outputs": [
    {
     "data": {
      "text/html": [
       "<div>\n",
       "<style scoped>\n",
       "    .dataframe tbody tr th:only-of-type {\n",
       "        vertical-align: middle;\n",
       "    }\n",
       "\n",
       "    .dataframe tbody tr th {\n",
       "        vertical-align: top;\n",
       "    }\n",
       "\n",
       "    .dataframe thead th {\n",
       "        text-align: right;\n",
       "    }\n",
       "</style>\n",
       "<table border=\"1\" class=\"dataframe\">\n",
       "  <thead>\n",
       "    <tr style=\"text-align: right;\">\n",
       "      <th></th>\n",
       "      <th>AT</th>\n",
       "      <th>V</th>\n",
       "      <th>AP</th>\n",
       "      <th>RH</th>\n",
       "      <th>PE</th>\n",
       "    </tr>\n",
       "  </thead>\n",
       "  <tbody>\n",
       "    <tr>\n",
       "      <th>0</th>\n",
       "      <td>14.96</td>\n",
       "      <td>41.76</td>\n",
       "      <td>1024.07</td>\n",
       "      <td>73.17</td>\n",
       "      <td>463.26</td>\n",
       "    </tr>\n",
       "    <tr>\n",
       "      <th>1</th>\n",
       "      <td>25.18</td>\n",
       "      <td>62.96</td>\n",
       "      <td>1020.04</td>\n",
       "      <td>59.08</td>\n",
       "      <td>444.37</td>\n",
       "    </tr>\n",
       "    <tr>\n",
       "      <th>2</th>\n",
       "      <td>5.11</td>\n",
       "      <td>39.40</td>\n",
       "      <td>1012.16</td>\n",
       "      <td>92.14</td>\n",
       "      <td>488.56</td>\n",
       "    </tr>\n",
       "    <tr>\n",
       "      <th>3</th>\n",
       "      <td>20.86</td>\n",
       "      <td>57.32</td>\n",
       "      <td>1010.24</td>\n",
       "      <td>76.64</td>\n",
       "      <td>446.48</td>\n",
       "    </tr>\n",
       "    <tr>\n",
       "      <th>4</th>\n",
       "      <td>10.82</td>\n",
       "      <td>37.50</td>\n",
       "      <td>1009.23</td>\n",
       "      <td>96.62</td>\n",
       "      <td>473.90</td>\n",
       "    </tr>\n",
       "  </tbody>\n",
       "</table>\n",
       "</div>"
      ],
      "text/plain": [
       "      AT      V       AP     RH      PE\n",
       "0  14.96  41.76  1024.07  73.17  463.26\n",
       "1  25.18  62.96  1020.04  59.08  444.37\n",
       "2   5.11  39.40  1012.16  92.14  488.56\n",
       "3  20.86  57.32  1010.24  76.64  446.48\n",
       "4  10.82  37.50  1009.23  96.62  473.90"
      ]
     },
     "execution_count": 5,
     "metadata": {},
     "output_type": "execute_result"
    }
   ],
   "source": [
    "dataset.head()"
   ]
  },
  {
   "cell_type": "code",
   "execution_count": 6,
   "metadata": {},
   "outputs": [],
   "source": [
    "X = dataset.iloc[:, :-1].values\n",
    "y = dataset.iloc[:, -1].values\n",
    "y = y.reshape(len(y), 1)"
   ]
  },
  {
   "cell_type": "markdown",
   "metadata": {},
   "source": [
    "### Train Test Split"
   ]
  },
  {
   "cell_type": "code",
   "execution_count": 7,
   "metadata": {},
   "outputs": [],
   "source": [
    "from sklearn.model_selection import train_test_split\n",
    "\n",
    "X_train, X_test, y_train, y_test = train_test_split(X, y, \n",
    "                                                    test_size=0.20, \n",
    "                                                    random_state=42)"
   ]
  },
  {
   "cell_type": "markdown",
   "metadata": {},
   "source": [
    "### Feature Scaling"
   ]
  },
  {
   "cell_type": "code",
   "execution_count": 8,
   "metadata": {},
   "outputs": [],
   "source": [
    "from sklearn.preprocessing import StandardScaler\n",
    "\n",
    "scX = StandardScaler()\n",
    "X_train = scX.fit_transform(X_train)\n",
    "X_test = scX.transform(X_test)\n",
    "\n",
    "scy = StandardScaler()\n",
    "y_train = scy.fit_transform(y_train)\n",
    "y_test = scy.transform(y_test)"
   ]
  },
  {
   "cell_type": "markdown",
   "metadata": {},
   "source": [
    "## Part 2 - Model Building"
   ]
  },
  {
   "cell_type": "code",
   "execution_count": 9,
   "metadata": {},
   "outputs": [
    {
     "name": "stdout",
     "output_type": "stream",
     "text": [
      "(7654, 4)\n"
     ]
    }
   ],
   "source": [
    "print(X_train.shape)"
   ]
  },
  {
   "cell_type": "code",
   "execution_count": 10,
   "metadata": {},
   "outputs": [],
   "source": [
    "from tensorflow.keras.models import Sequential\n",
    "from tensorflow.keras.layers import Dense\n",
    "\n",
    "tf.random.set_seed(42)\n",
    "\n",
    "ann = Sequential()\n",
    "ann.add(Dense(6, activation='relu', input_shape=(4, )))\n",
    "ann.add(Dense(6, activation='relu'))\n",
    "ann.add(Dense(1, activation=None))\n",
    "\n",
    "ann.compile(optimizer='adam', loss='mean_squared_error')"
   ]
  },
  {
   "cell_type": "markdown",
   "metadata": {},
   "source": [
    "## Part 3 - Model Training"
   ]
  },
  {
   "cell_type": "code",
   "execution_count": 11,
   "metadata": {
    "collapsed": true,
    "jupyter": {
     "outputs_hidden": true
    }
   },
   "outputs": [
    {
     "name": "stdout",
     "output_type": "stream",
     "text": [
      "Train on 7654 samples\n",
      "Epoch 1/100\n",
      "7654/7654 [==============================] - 1s 90us/sample - loss: 0.3632\n",
      "Epoch 2/100\n",
      "7654/7654 [==============================] - 0s 49us/sample - loss: 0.1004\n",
      "Epoch 3/100\n",
      "7654/7654 [==============================] - 0s 50us/sample - loss: 0.0770\n",
      "Epoch 4/100\n",
      "7654/7654 [==============================] - 0s 49us/sample - loss: 0.0706\n",
      "Epoch 5/100\n",
      "7654/7654 [==============================] - 0s 49us/sample - loss: 0.0675\n",
      "Epoch 6/100\n",
      "7654/7654 [==============================] - 0s 49us/sample - loss: 0.0657\n",
      "Epoch 7/100\n",
      "7654/7654 [==============================] - 0s 49us/sample - loss: 0.0645\n",
      "Epoch 8/100\n",
      "7654/7654 [==============================] - 0s 49us/sample - loss: 0.0636\n",
      "Epoch 9/100\n",
      "7654/7654 [==============================] - 0s 49us/sample - loss: 0.0631\n",
      "Epoch 10/100\n",
      "7654/7654 [==============================] - 0s 49us/sample - loss: 0.0629\n",
      "Epoch 11/100\n",
      "7654/7654 [==============================] - 0s 48us/sample - loss: 0.0626\n",
      "Epoch 12/100\n",
      "7654/7654 [==============================] - 0s 47us/sample - loss: 0.0626\n",
      "Epoch 13/100\n",
      "7654/7654 [==============================] - 0s 48us/sample - loss: 0.0625\n",
      "Epoch 14/100\n",
      "7654/7654 [==============================] - 0s 47us/sample - loss: 0.0623\n",
      "Epoch 15/100\n",
      "7654/7654 [==============================] - 0s 48us/sample - loss: 0.0620\n",
      "Epoch 16/100\n",
      "7654/7654 [==============================] - 0s 50us/sample - loss: 0.0619\n",
      "Epoch 17/100\n",
      "7654/7654 [==============================] - 0s 50us/sample - loss: 0.0619\n",
      "Epoch 18/100\n",
      "7654/7654 [==============================] - 0s 49us/sample - loss: 0.0619\n",
      "Epoch 19/100\n",
      "7654/7654 [==============================] - 0s 48us/sample - loss: 0.0618\n",
      "Epoch 20/100\n",
      "7654/7654 [==============================] - 0s 48us/sample - loss: 0.0617\n",
      "Epoch 21/100\n",
      "7654/7654 [==============================] - 0s 49us/sample - loss: 0.0615\n",
      "Epoch 22/100\n",
      "7654/7654 [==============================] - 0s 48us/sample - loss: 0.0615\n",
      "Epoch 23/100\n",
      "7654/7654 [==============================] - 0s 48us/sample - loss: 0.0614\n",
      "Epoch 24/100\n",
      "7654/7654 [==============================] - 0s 47us/sample - loss: 0.0613\n",
      "Epoch 25/100\n",
      "7654/7654 [==============================] - 0s 49us/sample - loss: 0.0612\n",
      "Epoch 26/100\n",
      "7654/7654 [==============================] - 0s 49us/sample - loss: 0.0611\n",
      "Epoch 27/100\n",
      "7654/7654 [==============================] - 0s 49us/sample - loss: 0.0613\n",
      "Epoch 28/100\n",
      "7654/7654 [==============================] - 0s 48us/sample - loss: 0.0610\n",
      "Epoch 29/100\n",
      "7654/7654 [==============================] - 0s 49us/sample - loss: 0.0610\n",
      "Epoch 30/100\n",
      "7654/7654 [==============================] - 0s 51us/sample - loss: 0.0610\n",
      "Epoch 31/100\n",
      "7654/7654 [==============================] - 0s 49us/sample - loss: 0.0612\n",
      "Epoch 32/100\n",
      "7654/7654 [==============================] - 0s 49us/sample - loss: 0.0609\n",
      "Epoch 33/100\n",
      "7654/7654 [==============================] - 0s 49us/sample - loss: 0.0608\n",
      "Epoch 34/100\n",
      "7654/7654 [==============================] - 0s 49us/sample - loss: 0.0609\n",
      "Epoch 35/100\n",
      "7654/7654 [==============================] - 0s 49us/sample - loss: 0.0606\n",
      "Epoch 36/100\n",
      "7654/7654 [==============================] - 0s 48us/sample - loss: 0.0606\n",
      "Epoch 37/100\n",
      "7654/7654 [==============================] - 0s 50us/sample - loss: 0.0606\n",
      "Epoch 38/100\n",
      "7654/7654 [==============================] - 0s 51us/sample - loss: 0.0606\n",
      "Epoch 39/100\n",
      "7654/7654 [==============================] - 0s 49us/sample - loss: 0.0608\n",
      "Epoch 40/100\n",
      "7654/7654 [==============================] - 0s 49us/sample - loss: 0.0606\n",
      "Epoch 41/100\n",
      "7654/7654 [==============================] - 0s 49us/sample - loss: 0.0605\n",
      "Epoch 42/100\n",
      "7654/7654 [==============================] - 0s 50us/sample - loss: 0.0605\n",
      "Epoch 43/100\n",
      "7654/7654 [==============================] - 0s 50us/sample - loss: 0.0607\n",
      "Epoch 44/100\n",
      "7654/7654 [==============================] - 0s 49us/sample - loss: 0.0607\n",
      "Epoch 45/100\n",
      "7654/7654 [==============================] - 0s 50us/sample - loss: 0.0606\n",
      "Epoch 46/100\n",
      "7654/7654 [==============================] - 0s 50us/sample - loss: 0.0605\n",
      "Epoch 47/100\n",
      "7654/7654 [==============================] - 0s 49us/sample - loss: 0.0605\n",
      "Epoch 48/100\n",
      "7654/7654 [==============================] - 0s 49us/sample - loss: 0.0603\n",
      "Epoch 49/100\n",
      "7654/7654 [==============================] - 0s 49us/sample - loss: 0.0607\n",
      "Epoch 50/100\n",
      "7654/7654 [==============================] - 0s 49us/sample - loss: 0.0604\n",
      "Epoch 51/100\n",
      "7654/7654 [==============================] - 0s 50us/sample - loss: 0.0605\n",
      "Epoch 52/100\n",
      "7654/7654 [==============================] - 0s 49us/sample - loss: 0.0604\n",
      "Epoch 53/100\n",
      "7654/7654 [==============================] - 0s 49us/sample - loss: 0.0604\n",
      "Epoch 54/100\n",
      "7654/7654 [==============================] - 0s 49us/sample - loss: 0.0602\n",
      "Epoch 55/100\n",
      "7654/7654 [==============================] - 0s 49us/sample - loss: 0.0603\n",
      "Epoch 56/100\n",
      "7654/7654 [==============================] - 0s 49us/sample - loss: 0.0602\n",
      "Epoch 57/100\n",
      "7654/7654 [==============================] - 0s 49us/sample - loss: 0.0601\n",
      "Epoch 58/100\n",
      "7654/7654 [==============================] - 0s 49us/sample - loss: 0.0601\n",
      "Epoch 59/100\n",
      "7654/7654 [==============================] - 0s 49us/sample - loss: 0.0601\n",
      "Epoch 60/100\n",
      "7654/7654 [==============================] - 0s 50us/sample - loss: 0.0603\n",
      "Epoch 61/100\n",
      "7654/7654 [==============================] - 0s 49us/sample - loss: 0.0601\n",
      "Epoch 62/100\n",
      "7654/7654 [==============================] - 0s 48us/sample - loss: 0.0601\n",
      "Epoch 63/100\n",
      "7654/7654 [==============================] - 0s 50us/sample - loss: 0.0602\n",
      "Epoch 64/100\n",
      "7654/7654 [==============================] - 0s 49us/sample - loss: 0.0600\n",
      "Epoch 65/100\n",
      "7654/7654 [==============================] - 0s 49us/sample - loss: 0.0600\n",
      "Epoch 66/100\n",
      "7654/7654 [==============================] - 0s 49us/sample - loss: 0.0600\n",
      "Epoch 67/100\n",
      "7654/7654 [==============================] - 0s 48us/sample - loss: 0.0601\n",
      "Epoch 68/100\n",
      "7654/7654 [==============================] - 0s 48us/sample - loss: 0.0599\n",
      "Epoch 69/100\n",
      "7654/7654 [==============================] - 0s 50us/sample - loss: 0.0600\n",
      "Epoch 70/100\n",
      "7654/7654 [==============================] - 0s 49us/sample - loss: 0.0600\n",
      "Epoch 71/100\n",
      "7654/7654 [==============================] - 0s 49us/sample - loss: 0.0601\n",
      "Epoch 72/100\n",
      "7654/7654 [==============================] - 0s 49us/sample - loss: 0.0600\n",
      "Epoch 73/100\n",
      "7654/7654 [==============================] - 0s 48us/sample - loss: 0.0600\n",
      "Epoch 74/100\n",
      "7654/7654 [==============================] - 0s 49us/sample - loss: 0.0600\n",
      "Epoch 75/100\n",
      "7654/7654 [==============================] - 0s 49us/sample - loss: 0.0599\n",
      "Epoch 76/100\n",
      "7654/7654 [==============================] - 0s 49us/sample - loss: 0.0600\n",
      "Epoch 77/100\n",
      "7654/7654 [==============================] - 0s 50us/sample - loss: 0.0599\n",
      "Epoch 78/100\n",
      "7654/7654 [==============================] - 0s 50us/sample - loss: 0.0597\n",
      "Epoch 79/100\n",
      "7654/7654 [==============================] - 0s 48us/sample - loss: 0.0600\n",
      "Epoch 80/100\n",
      "7654/7654 [==============================] - 0s 49us/sample - loss: 0.0597\n",
      "Epoch 81/100\n",
      "7654/7654 [==============================] - 0s 50us/sample - loss: 0.0599\n",
      "Epoch 82/100\n",
      "7654/7654 [==============================] - 0s 48us/sample - loss: 0.0597\n",
      "Epoch 83/100\n",
      "7654/7654 [==============================] - 0s 48us/sample - loss: 0.0598\n",
      "Epoch 84/100\n",
      "7654/7654 [==============================] - 0s 49us/sample - loss: 0.0598\n",
      "Epoch 85/100\n",
      "7654/7654 [==============================] - 0s 48us/sample - loss: 0.0598\n",
      "Epoch 86/100\n",
      "7654/7654 [==============================] - 0s 49us/sample - loss: 0.0599\n",
      "Epoch 87/100\n",
      "7654/7654 [==============================] - 0s 50us/sample - loss: 0.0599\n",
      "Epoch 88/100\n",
      "7654/7654 [==============================] - 0s 49us/sample - loss: 0.0596\n",
      "Epoch 89/100\n",
      "7654/7654 [==============================] - 0s 48us/sample - loss: 0.0598\n",
      "Epoch 90/100\n",
      "7654/7654 [==============================] - 0s 48us/sample - loss: 0.0598\n",
      "Epoch 91/100\n",
      "7654/7654 [==============================] - 0s 48us/sample - loss: 0.0598\n",
      "Epoch 92/100\n",
      "7654/7654 [==============================] - 0s 48us/sample - loss: 0.0598\n",
      "Epoch 93/100\n",
      "7654/7654 [==============================] - 0s 50us/sample - loss: 0.0597\n",
      "Epoch 94/100\n",
      "7654/7654 [==============================] - 0s 49us/sample - loss: 0.0597\n",
      "Epoch 95/100\n",
      "7654/7654 [==============================] - 0s 47us/sample - loss: 0.0598\n",
      "Epoch 96/100\n",
      "7654/7654 [==============================] - 0s 49us/sample - loss: 0.0597\n",
      "Epoch 97/100\n",
      "7654/7654 [==============================] - 0s 48us/sample - loss: 0.0596\n",
      "Epoch 98/100\n",
      "7654/7654 [==============================] - 0s 48us/sample - loss: 0.0596\n",
      "Epoch 99/100\n",
      "7654/7654 [==============================] - 0s 48us/sample - loss: 0.0598\n",
      "Epoch 100/100\n",
      "7654/7654 [==============================] - 0s 48us/sample - loss: 0.0597\n"
     ]
    },
    {
     "data": {
      "text/plain": [
       "<tensorflow.python.keras.callbacks.History at 0x7f951059d350>"
      ]
     },
     "execution_count": 11,
     "metadata": {},
     "output_type": "execute_result"
    }
   ],
   "source": [
    "epochs = 100\n",
    "batch_size = 32\n",
    "ann.fit(X_train, y_train, batch_size=batch_size , epochs=epochs)"
   ]
  },
  {
   "cell_type": "markdown",
   "metadata": {},
   "source": [
    "## Part 4 - Model Evaluation"
   ]
  },
  {
   "cell_type": "markdown",
   "metadata": {},
   "source": [
    "### History"
   ]
  },
  {
   "cell_type": "code",
   "execution_count": 12,
   "metadata": {},
   "outputs": [],
   "source": [
    "history = ann.history.history\n",
    "loss = history['loss']"
   ]
  },
  {
   "cell_type": "code",
   "execution_count": 13,
   "metadata": {},
   "outputs": [
    {
     "data": {
      "image/png": "[encoded data removed]",
      "text/plain": [
       "<Figure size 864x576 with 1 Axes>"
      ]
     },
     "metadata": {
      "needs_background": "light"
     },
     "output_type": "display_data"
    }
   ],
   "source": [
    "import matplotlib.pyplot as plt\n",
    "\n",
    "plt.figure(figsize=(12, 8))\n",
    "plt.plot(loss, label='Loss')\n",
    "plt.legend()\n",
    "plt.xlabel('Epochs')\n",
    "plt.show()"
   ]
  },
  {
   "cell_type": "markdown",
   "metadata": {},
   "source": [
    "### Prediction"
   ]
  },
  {
   "cell_type": "code",
   "execution_count": 14,
   "metadata": {},
   "outputs": [
    {
     "name": "stdout",
     "output_type": "stream",
     "text": [
      "[[464.36853]]\n"
     ]
    }
   ],
   "source": [
    "sample = [[14.96, 41.76, 1024.07, 73.17]]\n",
    "\n",
    "sample = np.array(sample)\n",
    "sample = scX.transform(sample)\n",
    "print(scy.inverse_transform(ann.predict(sample)))"
   ]
  },
  {
   "cell_type": "code",
   "execution_count": 15,
   "metadata": {},
   "outputs": [
    {
     "name": "stdout",
     "output_type": "stream",
     "text": [
      "[[455.27 456.12]\n",
      " [436.31 438.28]\n",
      " [440.68 434.91]\n",
      " ...\n",
      " [479.53 483.39]\n",
      " [435.76 435.63]\n",
      " [457.1  455.29]]\n"
     ]
    }
   ],
   "source": [
    "np.set_printoptions(2)\n",
    "y_test = scy.inverse_transform(y_test)\n",
    "y_pred = scy.inverse_transform(ann.predict(X_test))\n",
    "print(np.concatenate((y_test.reshape(len(y_pred),1), y_pred.reshape(len(y_pred),1)), axis=1))"
   ]
  }
 ],
 "metadata": {
  "kernelspec": {
   "display_name": "Python 3",
   "language": "python",
   "name": "python3"
  },
  "language_info": {
   "codemirror_mode": {
    "name": "ipython",
    "version": 3
   },
   "file_extension": ".py",
   "mimetype": "text/x-python",
   "name": "python",
   "nbconvert_exporter": "python",
   "pygments_lexer": "ipython3",
   "version": "3.7.7"
  }
 },
 "nbformat": 4,
 "nbformat_minor": 4
}
