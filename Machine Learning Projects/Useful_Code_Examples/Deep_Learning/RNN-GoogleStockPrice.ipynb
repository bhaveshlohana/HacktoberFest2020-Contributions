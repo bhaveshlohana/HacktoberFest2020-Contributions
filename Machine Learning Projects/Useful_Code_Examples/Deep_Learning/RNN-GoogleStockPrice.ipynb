{
 "cells": [
  {
   "cell_type": "markdown",
   "metadata": {},
   "source": [
    "# Recurrent Neural Networks"
   ]
  },
  {
   "cell_type": "markdown",
   "metadata": {},
   "source": [
    "#### Google Stock Price"
   ]
  },
  {
   "cell_type": "code",
   "execution_count": 1,
   "metadata": {},
   "outputs": [],
   "source": [
    "import numpy as np\n",
    "import matplotlib.pyplot as plt\n",
    "import pandas as pd\n",
    "import tensorflow as tf"
   ]
  },
  {
   "cell_type": "code",
   "execution_count": 2,
   "metadata": {},
   "outputs": [],
   "source": [
    "from tensorflow.compat.v1 import ConfigProto\n",
    "from tensorflow.compat.v1 import InteractiveSession\n",
    "\n",
    "config = ConfigProto()\n",
    "config.gpu_options.allow_growth = True\n",
    "session = InteractiveSession(config=config)"
   ]
  },
  {
   "cell_type": "markdown",
   "metadata": {},
   "source": [
    "## Part 1 - Data Preprocessing"
   ]
  },
  {
   "cell_type": "code",
   "execution_count": 3,
   "metadata": {},
   "outputs": [],
   "source": [
    "BASE_PATH  = \"../../../Deep_Learning_Extended/Recurrent_Neural_Networks/\"\n",
    "TRAIN_PATH = BASE_PATH + \"Google_Stock_Price_Train.csv\"\n",
    "TEST_PATH  = BASE_PATH + \"Google_Stock_Price_Test.csv\""
   ]
  },
  {
   "cell_type": "markdown",
   "metadata": {},
   "source": [
    "### Training Set"
   ]
  },
  {
   "cell_type": "code",
   "execution_count": 4,
   "metadata": {},
   "outputs": [],
   "source": [
    "dataset_train = pd.read_csv(TRAIN_PATH)"
   ]
  },
  {
   "cell_type": "code",
   "execution_count": 5,
   "metadata": {},
   "outputs": [],
   "source": [
    "training_set = dataset_train.iloc[:, 1:2].values"
   ]
  },
  {
   "cell_type": "markdown",
   "metadata": {},
   "source": [
    "### Feature Scaling"
   ]
  },
  {
   "cell_type": "code",
   "execution_count": 6,
   "metadata": {},
   "outputs": [],
   "source": [
    "from sklearn.preprocessing import MinMaxScaler\n",
    "\n",
    "sc = MinMaxScaler()\n",
    "training_set_scaled = sc.fit_transform(training_set)"
   ]
  },
  {
   "cell_type": "markdown",
   "metadata": {},
   "source": [
    "### Data Structure"
   ]
  },
  {
   "cell_type": "code",
   "execution_count": 7,
   "metadata": {},
   "outputs": [],
   "source": [
    "X_train = []\n",
    "y_train = []\n",
    "timestamps = 60"
   ]
  },
  {
   "cell_type": "code",
   "execution_count": 8,
   "metadata": {},
   "outputs": [],
   "source": [
    "for i in range(timestamps, len(dataset_train)):\n",
    "    X_train.append(training_set_scaled[i - timestamps: i, 0])\n",
    "    y_train.append(training_set_scaled[i, 0])"
   ]
  },
  {
   "cell_type": "code",
   "execution_count": 9,
   "metadata": {},
   "outputs": [],
   "source": [
    "X_train = np.array(X_train)\n",
    "y_train = np.array(y_train)"
   ]
  },
  {
   "cell_type": "markdown",
   "metadata": {},
   "source": [
    "### Reshaping"
   ]
  },
  {
   "cell_type": "code",
   "execution_count": 10,
   "metadata": {},
   "outputs": [],
   "source": [
    "X_train = X_train.reshape(X_train.shape[0], X_train.shape[1], 1)"
   ]
  },
  {
   "cell_type": "code",
   "execution_count": 11,
   "metadata": {},
   "outputs": [
    {
     "data": {
      "text/plain": [
       "(1198, 60, 1)"
      ]
     },
     "execution_count": 11,
     "metadata": {},
     "output_type": "execute_result"
    }
   ],
   "source": [
    "X_train.shape"
   ]
  },
  {
   "cell_type": "markdown",
   "metadata": {},
   "source": [
    "## Part 2 - RNN"
   ]
  },
  {
   "cell_type": "code",
   "execution_count": 12,
   "metadata": {},
   "outputs": [],
   "source": [
    "from tensorflow.keras.models import Sequential\n",
    "from tensorflow.keras.layers import Dense, LSTM, Dropout"
   ]
  },
  {
   "cell_type": "code",
   "execution_count": 13,
   "metadata": {},
   "outputs": [],
   "source": [
    "tf.random.set_seed(42)\n",
    "\n",
    "regressor = Sequential()\n",
    "regressor.add(LSTM(50, return_sequences=True, input_shape=(timestamps, 1)))\n",
    "regressor.add(Dropout(0.2))\n",
    "regressor.add(LSTM(50, return_sequences=True))\n",
    "regressor.add(Dropout(0.2))\n",
    "regressor.add(LSTM(50, return_sequences=True))\n",
    "regressor.add(Dropout(0.2))\n",
    "regressor.add(LSTM(50))\n",
    "regressor.add(Dropout(0.2))\n",
    "regressor.add(Dense(1))\n",
    "\n",
    "regressor.compile(optimizer='rmsprop', loss='mean_squared_error')"
   ]
  },
  {
   "cell_type": "code",
   "execution_count": 14,
   "metadata": {},
   "outputs": [
    {
     "name": "stdout",
     "output_type": "stream",
     "text": [
      "Model: \"sequential\"\n",
      "_________________________________________________________________\n",
      "Layer (type)                 Output Shape              Param #   \n",
      "=================================================================\n",
      "lstm (LSTM)                  (None, 60, 50)            10400     \n",
      "_________________________________________________________________\n",
      "dropout (Dropout)            (None, 60, 50)            0         \n",
      "_________________________________________________________________\n",
      "lstm_1 (LSTM)                (None, 60, 50)            20200     \n",
      "_________________________________________________________________\n",
      "dropout_1 (Dropout)          (None, 60, 50)            0         \n",
      "_________________________________________________________________\n",
      "lstm_2 (LSTM)                (None, 60, 50)            20200     \n",
      "_________________________________________________________________\n",
      "dropout_2 (Dropout)          (None, 60, 50)            0         \n",
      "_________________________________________________________________\n",
      "lstm_3 (LSTM)                (None, 50)                20200     \n",
      "_________________________________________________________________\n",
      "dropout_3 (Dropout)          (None, 50)                0         \n",
      "_________________________________________________________________\n",
      "dense (Dense)                (None, 1)                 51        \n",
      "=================================================================\n",
      "Total params: 71,051\n",
      "Trainable params: 71,051\n",
      "Non-trainable params: 0\n",
      "_________________________________________________________________\n"
     ]
    }
   ],
   "source": [
    "regressor.summary()"
   ]
  },
  {
   "cell_type": "code",
   "execution_count": 15,
   "metadata": {
    "collapsed": true,
    "jupyter": {
     "outputs_hidden": true
    }
   },
   "outputs": [
    {
     "name": "stdout",
     "output_type": "stream",
     "text": [
      "Train on 1198 samples\n",
      "Epoch 1/100\n",
      "1198/1198 [==============================] - 4s 4ms/sample - loss: 0.0359\n",
      "Epoch 2/100\n",
      "1198/1198 [==============================] - 1s 512us/sample - loss: 0.0121\n",
      "Epoch 3/100\n",
      "1198/1198 [==============================] - 1s 507us/sample - loss: 0.0119\n",
      "Epoch 4/100\n",
      "1198/1198 [==============================] - 1s 507us/sample - loss: 0.0105\n",
      "Epoch 5/100\n",
      "1198/1198 [==============================] - 1s 508us/sample - loss: 0.0079\n",
      "Epoch 6/100\n",
      "1198/1198 [==============================] - 1s 506us/sample - loss: 0.0082\n",
      "Epoch 7/100\n",
      "1198/1198 [==============================] - 1s 506us/sample - loss: 0.0078\n",
      "Epoch 8/100\n",
      "1198/1198 [==============================] - 1s 508us/sample - loss: 0.0071\n",
      "Epoch 9/100\n",
      "1198/1198 [==============================] - 1s 508us/sample - loss: 0.0061\n",
      "Epoch 10/100\n",
      "1198/1198 [==============================] - 1s 506us/sample - loss: 0.0061\n",
      "Epoch 11/100\n",
      "1198/1198 [==============================] - 1s 510us/sample - loss: 0.0065\n",
      "Epoch 12/100\n",
      "1198/1198 [==============================] - 1s 517us/sample - loss: 0.0052\n",
      "Epoch 13/100\n",
      "1198/1198 [==============================] - 1s 510us/sample - loss: 0.0053\n",
      "Epoch 14/100\n",
      "1198/1198 [==============================] - 1s 510us/sample - loss: 0.0047\n",
      "Epoch 15/100\n",
      "1198/1198 [==============================] - 1s 509us/sample - loss: 0.0047\n",
      "Epoch 16/100\n",
      "1198/1198 [==============================] - 1s 511us/sample - loss: 0.0047\n",
      "Epoch 17/100\n",
      "1198/1198 [==============================] - 1s 504us/sample - loss: 0.0046\n",
      "Epoch 18/100\n",
      "1198/1198 [==============================] - 1s 504us/sample - loss: 0.0043\n",
      "Epoch 19/100\n",
      "1198/1198 [==============================] - 1s 508us/sample - loss: 0.0043\n",
      "Epoch 20/100\n",
      "1198/1198 [==============================] - 1s 510us/sample - loss: 0.0041\n",
      "Epoch 21/100\n",
      "1198/1198 [==============================] - 1s 509us/sample - loss: 0.0042\n",
      "Epoch 22/100\n",
      "1198/1198 [==============================] - 1s 509us/sample - loss: 0.0041\n",
      "Epoch 23/100\n",
      "1198/1198 [==============================] - 1s 508us/sample - loss: 0.0034\n",
      "Epoch 24/100\n",
      "1198/1198 [==============================] - 1s 508us/sample - loss: 0.0041\n",
      "Epoch 25/100\n",
      "1198/1198 [==============================] - 1s 508us/sample - loss: 0.0037\n",
      "Epoch 26/100\n",
      "1198/1198 [==============================] - 1s 510us/sample - loss: 0.0034\n",
      "Epoch 27/100\n",
      "1198/1198 [==============================] - 1s 511us/sample - loss: 0.0036\n",
      "Epoch 28/100\n",
      "1198/1198 [==============================] - 1s 509us/sample - loss: 0.0033\n",
      "Epoch 29/100\n",
      "1198/1198 [==============================] - 1s 514us/sample - loss: 0.0036\n",
      "Epoch 30/100\n",
      "1198/1198 [==============================] - 1s 506us/sample - loss: 0.0034\n",
      "Epoch 31/100\n",
      "1198/1198 [==============================] - 1s 508us/sample - loss: 0.0035\n",
      "Epoch 32/100\n",
      "1198/1198 [==============================] - 1s 510us/sample - loss: 0.0031\n",
      "Epoch 33/100\n",
      "1198/1198 [==============================] - 1s 508us/sample - loss: 0.0034\n",
      "Epoch 34/100\n",
      "1198/1198 [==============================] - 1s 509us/sample - loss: 0.0033\n",
      "Epoch 35/100\n",
      "1198/1198 [==============================] - 1s 508us/sample - loss: 0.0031\n",
      "Epoch 36/100\n",
      "1198/1198 [==============================] - 1s 511us/sample - loss: 0.0033\n",
      "Epoch 37/100\n",
      "1198/1198 [==============================] - 1s 508us/sample - loss: 0.0028\n",
      "Epoch 38/100\n",
      "1198/1198 [==============================] - 1s 509us/sample - loss: 0.0028\n",
      "Epoch 39/100\n",
      "1198/1198 [==============================] - 1s 498us/sample - loss: 0.0031\n",
      "Epoch 40/100\n",
      "1198/1198 [==============================] - 1s 505us/sample - loss: 0.0027\n",
      "Epoch 41/100\n",
      "1198/1198 [==============================] - 1s 512us/sample - loss: 0.0028\n",
      "Epoch 42/100\n",
      "1198/1198 [==============================] - 1s 508us/sample - loss: 0.0026\n",
      "Epoch 43/100\n",
      "1198/1198 [==============================] - 1s 507us/sample - loss: 0.0028\n",
      "Epoch 44/100\n",
      "1198/1198 [==============================] - 1s 511us/sample - loss: 0.0026\n",
      "Epoch 45/100\n",
      "1198/1198 [==============================] - 1s 507us/sample - loss: 0.0024\n",
      "Epoch 46/100\n",
      "1198/1198 [==============================] - 1s 504us/sample - loss: 0.0026\n",
      "Epoch 47/100\n",
      "1198/1198 [==============================] - 1s 500us/sample - loss: 0.0027\n",
      "Epoch 48/100\n",
      "1198/1198 [==============================] - 1s 514us/sample - loss: 0.0023\n",
      "Epoch 49/100\n",
      "1198/1198 [==============================] - 1s 510us/sample - loss: 0.0024\n",
      "Epoch 50/100\n",
      "1198/1198 [==============================] - 1s 505us/sample - loss: 0.0022\n",
      "Epoch 51/100\n",
      "1198/1198 [==============================] - 1s 508us/sample - loss: 0.0023\n",
      "Epoch 52/100\n",
      "1198/1198 [==============================] - 1s 504us/sample - loss: 0.0023\n",
      "Epoch 53/100\n",
      "1198/1198 [==============================] - 1s 511us/sample - loss: 0.0024\n",
      "Epoch 54/100\n",
      "1198/1198 [==============================] - 1s 511us/sample - loss: 0.0023\n",
      "Epoch 55/100\n",
      "1198/1198 [==============================] - 1s 516us/sample - loss: 0.0023\n",
      "Epoch 56/100\n",
      "1198/1198 [==============================] - 1s 514us/sample - loss: 0.0024\n",
      "Epoch 57/100\n",
      "1198/1198 [==============================] - 1s 503us/sample - loss: 0.0020\n",
      "Epoch 58/100\n",
      "1198/1198 [==============================] - 1s 512us/sample - loss: 0.0023\n",
      "Epoch 59/100\n",
      "1198/1198 [==============================] - 1s 514us/sample - loss: 0.0023\n",
      "Epoch 60/100\n",
      "1198/1198 [==============================] - 1s 511us/sample - loss: 0.0022\n",
      "Epoch 61/100\n",
      "1198/1198 [==============================] - 1s 502us/sample - loss: 0.0022\n",
      "Epoch 62/100\n",
      "1198/1198 [==============================] - 1s 511us/sample - loss: 0.0020\n",
      "Epoch 63/100\n",
      "1198/1198 [==============================] - 1s 512us/sample - loss: 0.0020\n",
      "Epoch 64/100\n",
      "1198/1198 [==============================] - 1s 510us/sample - loss: 0.0020\n",
      "Epoch 65/100\n",
      "1198/1198 [==============================] - 1s 507us/sample - loss: 0.0021\n",
      "Epoch 66/100\n",
      "1198/1198 [==============================] - 1s 509us/sample - loss: 0.0019\n",
      "Epoch 67/100\n",
      "1198/1198 [==============================] - 1s 513us/sample - loss: 0.0021\n",
      "Epoch 68/100\n",
      "1198/1198 [==============================] - 1s 514us/sample - loss: 0.0019\n",
      "Epoch 69/100\n",
      "1198/1198 [==============================] - 1s 511us/sample - loss: 0.0020\n",
      "Epoch 70/100\n",
      "1198/1198 [==============================] - 1s 518us/sample - loss: 0.0019\n",
      "Epoch 71/100\n",
      "1198/1198 [==============================] - 1s 501us/sample - loss: 0.0022\n",
      "Epoch 72/100\n",
      "1198/1198 [==============================] - 1s 502us/sample - loss: 0.0018\n",
      "Epoch 73/100\n",
      "1198/1198 [==============================] - 1s 512us/sample - loss: 0.0018\n",
      "Epoch 74/100\n",
      "1198/1198 [==============================] - 1s 514us/sample - loss: 0.0019\n",
      "Epoch 75/100\n",
      "1198/1198 [==============================] - 1s 515us/sample - loss: 0.0020\n",
      "Epoch 76/100\n",
      "1198/1198 [==============================] - 1s 509us/sample - loss: 0.0020\n",
      "Epoch 77/100\n",
      "1198/1198 [==============================] - 1s 505us/sample - loss: 0.0018\n",
      "Epoch 78/100\n",
      "1198/1198 [==============================] - 1s 506us/sample - loss: 0.0018\n",
      "Epoch 79/100\n",
      "1198/1198 [==============================] - 1s 511us/sample - loss: 0.0018\n",
      "Epoch 80/100\n",
      "1198/1198 [==============================] - 1s 506us/sample - loss: 0.0019\n",
      "Epoch 81/100\n",
      "1198/1198 [==============================] - 1s 514us/sample - loss: 0.0017\n",
      "Epoch 82/100\n",
      "1198/1198 [==============================] - 1s 508us/sample - loss: 0.0019\n",
      "Epoch 83/100\n",
      "1198/1198 [==============================] - 1s 512us/sample - loss: 0.0017\n",
      "Epoch 84/100\n",
      "1198/1198 [==============================] - 1s 507us/sample - loss: 0.0017\n",
      "Epoch 85/100\n",
      "1198/1198 [==============================] - 1s 504us/sample - loss: 0.0017\n",
      "Epoch 86/100\n",
      "1198/1198 [==============================] - 1s 511us/sample - loss: 0.0019\n",
      "Epoch 87/100\n",
      "1198/1198 [==============================] - 1s 509us/sample - loss: 0.0016\n",
      "Epoch 88/100\n",
      "1198/1198 [==============================] - 1s 511us/sample - loss: 0.0018\n",
      "Epoch 89/100\n",
      "1198/1198 [==============================] - 1s 510us/sample - loss: 0.0017\n",
      "Epoch 90/100\n",
      "1198/1198 [==============================] - 1s 511us/sample - loss: 0.0017\n",
      "Epoch 91/100\n",
      "1198/1198 [==============================] - 1s 510us/sample - loss: 0.0017\n",
      "Epoch 92/100\n",
      "1198/1198 [==============================] - 1s 511us/sample - loss: 0.0017\n",
      "Epoch 93/100\n",
      "1198/1198 [==============================] - 1s 512us/sample - loss: 0.0017\n",
      "Epoch 94/100\n",
      "1198/1198 [==============================] - 1s 506us/sample - loss: 0.0016\n",
      "Epoch 95/100\n",
      "1198/1198 [==============================] - 1s 507us/sample - loss: 0.0016\n",
      "Epoch 96/100\n",
      "1198/1198 [==============================] - 1s 507us/sample - loss: 0.0017\n",
      "Epoch 97/100\n",
      "1198/1198 [==============================] - 1s 500us/sample - loss: 0.0017\n",
      "Epoch 98/100\n",
      "1198/1198 [==============================] - 1s 506us/sample - loss: 0.0017\n",
      "Epoch 99/100\n",
      "1198/1198 [==============================] - 1s 508us/sample - loss: 0.0017\n",
      "Epoch 100/100\n",
      "1198/1198 [==============================] - 1s 505us/sample - loss: 0.0016\n"
     ]
    },
    {
     "data": {
      "text/plain": [
       "<tensorflow.python.keras.callbacks.History at 0x7f87b0428190>"
      ]
     },
     "execution_count": 15,
     "metadata": {},
     "output_type": "execute_result"
    }
   ],
   "source": [
    "epochs = 100\n",
    "batch_size = 32\n",
    "\n",
    "regressor.fit(X_train, y_train, epochs=epochs, batch_size=batch_size)"
   ]
  },
  {
   "cell_type": "code",
   "execution_count": 16,
   "metadata": {},
   "outputs": [],
   "source": [
    "regressor.save(\"google_stock_price.h5\")"
   ]
  },
  {
   "cell_type": "raw",
   "metadata": {},
   "source": [
    "from tensorflow.keras.models import load_model\n",
    "\n",
    "regressor = load_model('google_stock_price.h5')\n",
    "regressor.summary()"
   ]
  },
  {
   "cell_type": "markdown",
   "metadata": {},
   "source": [
    "## Part 3 - Model Evaluation"
   ]
  },
  {
   "cell_type": "markdown",
   "metadata": {},
   "source": [
    "### History"
   ]
  },
  {
   "cell_type": "code",
   "execution_count": 17,
   "metadata": {},
   "outputs": [],
   "source": [
    "history = regressor.history.history\n",
    "loss = history['loss']"
   ]
  },
  {
   "cell_type": "code",
   "execution_count": 18,
   "metadata": {},
   "outputs": [
    {
     "data": {
      "image/png": "[encoded data removed]",
      "text/plain": [
       "<Figure size 864x576 with 1 Axes>"
      ]
     },
     "metadata": {
      "needs_background": "light"
     },
     "output_type": "display_data"
    }
   ],
   "source": [
    "import matplotlib.pyplot as plt\n",
    "\n",
    "plt.figure(figsize=(12, 8))\n",
    "plt.plot(loss, label='Loss')\n",
    "plt.legend()\n",
    "plt.xlabel('Epochs')\n",
    "plt.show()"
   ]
  },
  {
   "cell_type": "markdown",
   "metadata": {},
   "source": [
    "### Prediction"
   ]
  },
  {
   "cell_type": "markdown",
   "metadata": {},
   "source": [
    "#### Stock Price of January 2017"
   ]
  },
  {
   "cell_type": "code",
   "execution_count": 19,
   "metadata": {},
   "outputs": [],
   "source": [
    "dataset_test = pd.read_csv(TEST_PATH)\n",
    "real_stock_price = dataset_test.iloc[:, 1:2].values\n",
    "\n",
    "dataset_total = pd.concat((dataset_train['Open'], \n",
    "                           dataset_test['Open']), axis=0)\n",
    "\n",
    "inputs = dataset_total[len(dataset_total) - len(dataset_test) - timestamps:].values\n",
    "inputs = inputs.reshape(len(inputs), 1)\n",
    "inputs = sc.transform(inputs)"
   ]
  },
  {
   "cell_type": "code",
   "execution_count": 20,
   "metadata": {},
   "outputs": [],
   "source": [
    "X_test = []\n",
    "\n",
    "for i in range(timestamps, len(inputs)):\n",
    "    X_test.append(inputs[i - timestamps: i, 0])\n",
    "\n",
    "X_test = np.array(X_test)\n",
    "X_test = X_test.reshape(X_test.shape[0], X_test.shape[1], 1)"
   ]
  },
  {
   "cell_type": "code",
   "execution_count": 21,
   "metadata": {},
   "outputs": [],
   "source": [
    "predicted_stock_price = regressor.predict(X_test)\n",
    "predicted_stock_price = sc.inverse_transform(predicted_stock_price)"
   ]
  },
  {
   "cell_type": "code",
   "execution_count": 22,
   "metadata": {},
   "outputs": [
    {
     "data": {
      "image/png": "[encoded data removed]",
      "text/plain": [
       "<Figure size 864x576 with 1 Axes>"
      ]
     },
     "metadata": {
      "needs_background": "light"
     },
     "output_type": "display_data"
    }
   ],
   "source": [
    "plt.figure(figsize=(12, 8))\n",
    "plt.plot(real_stock_price, label=\"Real\", color=\"red\")\n",
    "plt.plot(predicted_stock_price, label=\"Predicted\", color=\"blue\")\n",
    "plt.title(\"GOOGL - 01/2017\")\n",
    "plt.xlabel(\"Time\")\n",
    "plt.ylabel(\"Price\")\n",
    "plt.legend()\n",
    "plt.show()"
   ]
  },
  {
   "cell_type": "markdown",
   "metadata": {},
   "source": [
    "#### Root Mean Squared Error"
   ]
  },
  {
   "cell_type": "code",
   "execution_count": 23,
   "metadata": {},
   "outputs": [],
   "source": [
    "import math\n",
    "from sklearn.metrics import mean_squared_error\n",
    "rmse = math.sqrt(mean_squared_error(real_stock_price, predicted_stock_price))"
   ]
  },
  {
   "cell_type": "code",
   "execution_count": 24,
   "metadata": {},
   "outputs": [
    {
     "name": "stdout",
     "output_type": "stream",
     "text": [
      "Relative Error:  0.02423283479183389\n"
     ]
    }
   ],
   "source": [
    "print(\"Relative Error: \", rmse / real_stock_price.mean())"
   ]
  }
 ],
 "metadata": {
  "kernelspec": {
   "display_name": "Python 3",
   "language": "python",
   "name": "python3"
  },
  "language_info": {
   "codemirror_mode": {
    "name": "ipython",
    "version": 3
   },
   "file_extension": ".py",
   "mimetype": "text/x-python",
   "name": "python",
   "nbconvert_exporter": "python",
   "pygments_lexer": "ipython3",
   "version": "3.7.7"
  }
 },
 "nbformat": 4,
 "nbformat_minor": 4
}
