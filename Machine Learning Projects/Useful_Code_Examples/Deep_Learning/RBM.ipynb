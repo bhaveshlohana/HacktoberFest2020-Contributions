{
 "cells": [
  {
   "cell_type": "markdown",
   "metadata": {},
   "source": [
    "# Restricted Boltzmann Machine"
   ]
  },
  {
   "cell_type": "markdown",
   "metadata": {},
   "source": [
    "#### Recommender System (Like or Dislike)"
   ]
  },
  {
   "cell_type": "code",
   "execution_count": 1,
   "metadata": {},
   "outputs": [],
   "source": [
    "import numpy as np\n",
    "import pandas as pd\n",
    "import torch\n",
    "import torch.nn as nn\n",
    "import torch.nn.parallel\n",
    "import torch.optim as optim\n",
    "import torch.utils.data\n",
    "from torch.autograd import Variable"
   ]
  },
  {
   "cell_type": "markdown",
   "metadata": {},
   "source": [
    "## Part 1 - Data Preprocessing"
   ]
  },
  {
   "cell_type": "markdown",
   "metadata": {},
   "source": [
    "### Data Loading"
   ]
  },
  {
   "cell_type": "code",
   "execution_count": 2,
   "metadata": {},
   "outputs": [],
   "source": [
    "BASE_PATH = \"../../../Deep_Learning_Extended/Boltzmann_Machines/\"\n",
    "MOVIES_PATH = BASE_PATH + \"ml-1m/movies.dat\"\n",
    "USERS_PATH = BASE_PATH + \"ml-1m/users.dat\"\n",
    "RATINGS_PATH = BASE_PATH + \"ml-1m/ratings.dat\""
   ]
  },
  {
   "cell_type": "code",
   "execution_count": 3,
   "metadata": {},
   "outputs": [],
   "source": [
    "movies = pd.read_csv(MOVIES_PATH, sep=\"::\", header=None, engine='python', \n",
    "                    encoding=\"latin-1\")"
   ]
  },
  {
   "cell_type": "code",
   "execution_count": 4,
   "metadata": {},
   "outputs": [],
   "source": [
    "users = pd.read_csv(USERS_PATH, sep=\"::\", header=None, engine='python', \n",
    "                    encoding=\"latin-1\")"
   ]
  },
  {
   "cell_type": "code",
   "execution_count": 5,
   "metadata": {},
   "outputs": [],
   "source": [
    "ratings = pd.read_csv(RATINGS_PATH, sep=\"::\", header=None, engine='python', \n",
    "                    encoding=\"latin-1\")"
   ]
  },
  {
   "cell_type": "markdown",
   "metadata": {},
   "source": [
    "### Preparing the Training Set and Test Set"
   ]
  },
  {
   "cell_type": "code",
   "execution_count": 6,
   "metadata": {},
   "outputs": [],
   "source": [
    "TRAIN_PATH = BASE_PATH + \"ml-100k/u1.base\"\n",
    "TEST_PATH = BASE_PATH + \"ml-100k/u1.test\""
   ]
  },
  {
   "cell_type": "code",
   "execution_count": 7,
   "metadata": {},
   "outputs": [],
   "source": [
    "training_set_df = pd.read_csv(TRAIN_PATH, delimiter='\\t')\n",
    "training_set = np.array(training_set_df, dtype='int')"
   ]
  },
  {
   "cell_type": "code",
   "execution_count": 8,
   "metadata": {},
   "outputs": [],
   "source": [
    "test_set_df = pd.read_csv(TEST_PATH, delimiter='\\t')\n",
    "test_set = np.array(training_set_df, dtype='int')"
   ]
  },
  {
   "cell_type": "markdown",
   "metadata": {},
   "source": [
    "### Matrix"
   ]
  },
  {
   "cell_type": "code",
   "execution_count": 9,
   "metadata": {},
   "outputs": [],
   "source": [
    "nb_users  = int(max(max(training_set[:, 0]),max(test_set[:, 0])))\n",
    "nb_movies = int(max(max(training_set[:, 1]),max(test_set[:, 1])))"
   ]
  },
  {
   "cell_type": "code",
   "execution_count": 10,
   "metadata": {},
   "outputs": [],
   "source": [
    "def convert_to_matrix(data):\n",
    "    new_data = []\n",
    "    for id_users in range(1, nb_users + 1):\n",
    "        id_movies  = data[:, 1][data[:, 0] == id_users]\n",
    "        id_ratings = data[:, 2][data[:, 0] == id_users]\n",
    "        ratings = np.zeros(nb_movies)\n",
    "        ratings[id_movies - 1] = id_ratings\n",
    "        new_data.append(list(ratings))\n",
    "    return new_data"
   ]
  },
  {
   "cell_type": "code",
   "execution_count": 11,
   "metadata": {},
   "outputs": [],
   "source": [
    "training_set = convert_to_matrix(training_set)\n",
    "test_set = convert_to_matrix(test_set)"
   ]
  },
  {
   "cell_type": "markdown",
   "metadata": {},
   "source": [
    "### Converting into Torch Tensor"
   ]
  },
  {
   "cell_type": "code",
   "execution_count": 12,
   "metadata": {},
   "outputs": [],
   "source": [
    "training_set = torch.FloatTensor(training_set)\n",
    "test_set = torch.FloatTensor(test_set)"
   ]
  },
  {
   "cell_type": "markdown",
   "metadata": {},
   "source": [
    "### Converting the Ratings to Binary Values"
   ]
  },
  {
   "cell_type": "markdown",
   "metadata": {},
   "source": [
    "Format: 1 (Liked) or 0 (Not Liked)"
   ]
  },
  {
   "cell_type": "code",
   "execution_count": 13,
   "metadata": {},
   "outputs": [],
   "source": [
    "def convert_to_binary_ratings(data):\n",
    "    data[data == 0] = -1\n",
    "    data[data == 1] = 0\n",
    "    data[data == 2] = 0\n",
    "    data[data >= 3] = 1\n",
    "    return data"
   ]
  },
  {
   "cell_type": "code",
   "execution_count": 14,
   "metadata": {},
   "outputs": [],
   "source": [
    "training_set = convert_to_binary_ratings(training_set)\n",
    "test_set = convert_to_binary_ratings(test_set)"
   ]
  },
  {
   "cell_type": "markdown",
   "metadata": {},
   "source": [
    "## Part 2 - RBM"
   ]
  },
  {
   "cell_type": "markdown",
   "metadata": {},
   "source": [
    "### RBM Architecture"
   ]
  },
  {
   "cell_type": "code",
   "execution_count": 15,
   "metadata": {},
   "outputs": [],
   "source": [
    "class RBM():\n",
    "    def __init__(self, visible, hidden):\n",
    "        self.W = torch.randn(hidden, visible)\n",
    "        self.a = torch.randn(1, hidden)\n",
    "        self.b = torch.randn(1, visible)     \n",
    "    \n",
    "    def sample_hidden(self, x):\n",
    "        wx = torch.mm(x, self.W.t())\n",
    "        activation = wx + self.a.expand_as(wx)\n",
    "        p_hidden_given_visible = torch.sigmoid(activation)\n",
    "        return p_hidden_given_visible, torch.bernoulli(p_hidden_given_visible)\n",
    "    \n",
    "    def sample_visible(self, y):\n",
    "        wy = torch.mm(y, self.W)\n",
    "        activation = wy + self.b.expand_as(wy)\n",
    "        p_visible_given_hidden = torch.sigmoid(activation)\n",
    "        return p_visible_given_hidden, torch.bernoulli(p_visible_given_hidden)\n",
    "    \n",
    "    def train(self, v0, vk, ph0, phk):\n",
    "        self.W += (torch.mm(v0.t(), ph0) - torch.mm(vk.t(), phk)).t()\n",
    "        self.b += torch.sum((v0 - vk), 0)\n",
    "        self.a += torch.sum((ph0 - phk), 0)"
   ]
  },
  {
   "cell_type": "markdown",
   "metadata": {},
   "source": [
    "### RBM Model"
   ]
  },
  {
   "cell_type": "code",
   "execution_count": 16,
   "metadata": {},
   "outputs": [],
   "source": [
    "visible = len(training_set[0])\n",
    "hidden = 100\n",
    "batch_size = 100"
   ]
  },
  {
   "cell_type": "code",
   "execution_count": 17,
   "metadata": {},
   "outputs": [],
   "source": [
    "rbm = RBM(visible, hidden)"
   ]
  },
  {
   "cell_type": "code",
   "execution_count": 18,
   "metadata": {},
   "outputs": [
    {
     "data": {
      "text/plain": [
       "torch.Tensor"
      ]
     },
     "execution_count": 18,
     "metadata": {},
     "output_type": "execute_result"
    }
   ],
   "source": [
    "type(training_set)"
   ]
  },
  {
   "cell_type": "markdown",
   "metadata": {},
   "source": [
    "### Model Training using Random Walk MCMC Technique"
   ]
  },
  {
   "cell_type": "code",
   "execution_count": 19,
   "metadata": {},
   "outputs": [
    {
     "name": "stdout",
     "output_type": "stream",
     "text": [
      "Epoch: 1/10 \t Loss: 0.3620406985282898\n",
      "Epoch: 2/10 \t Loss: 0.24601081013679504\n",
      "Epoch: 3/10 \t Loss: 0.2498219758272171\n",
      "Epoch: 4/10 \t Loss: 0.24983954429626465\n",
      "Epoch: 5/10 \t Loss: 0.2507528066635132\n",
      "Epoch: 6/10 \t Loss: 0.24865934252738953\n",
      "Epoch: 7/10 \t Loss: 0.24617642164230347\n",
      "Epoch: 8/10 \t Loss: 0.25186049938201904\n",
      "Epoch: 9/10 \t Loss: 0.2489376813173294\n",
      "Epoch: 10/10 \t Loss: 0.24470745027065277\n"
     ]
    }
   ],
   "source": [
    "epochs = 10\n",
    "for epoch in range(1, epochs + 1):\n",
    "    train_loss = 0\n",
    "    counter = 0.0\n",
    "    for id_user in range(0, nb_users-batch_size, batch_size):\n",
    "        vk = training_set[id_user:id_user+batch_size]\n",
    "        v0 = training_set[id_user:id_user+batch_size]\n",
    "        ph0,_ = rbm.sample_hidden(v0)\n",
    "        for k in range(10):\n",
    "            _, hk = rbm.sample_hidden(vk)\n",
    "            _, vk = rbm.sample_visible(hk)\n",
    "            vk[v0<0] = v0[v0<0]\n",
    "        phk, _ = rbm.sample_hidden(vk)\n",
    "        rbm.train(v0, vk, ph0, phk)\n",
    "        train_loss += torch.mean(torch.abs(v0[v0>=0] - vk[v0>=0]))\n",
    "        counter += 1.\n",
    "    print(\"Epoch: {}/{} \\t Loss: {}\".format(epoch, epochs, train_loss/counter))"
   ]
  },
  {
   "cell_type": "markdown",
   "metadata": {},
   "source": [
    "For RMSE use: ```train_loss += np.sqrt(torch.mean((v0[v0>=0] - vk[v0>=0])**2))```"
   ]
  },
  {
   "cell_type": "markdown",
   "metadata": {},
   "source": [
    "## Part 3 - Prediction"
   ]
  },
  {
   "cell_type": "code",
   "execution_count": 20,
   "metadata": {},
   "outputs": [
    {
     "name": "stdout",
     "output_type": "stream",
     "text": [
      "Test Loss: 0.2451895922422409\n"
     ]
    }
   ],
   "source": [
    "test_loss = 0\n",
    "counter = 0.0\n",
    "for id_user in range(0, nb_users):\n",
    "    v = training_set[id_user:id_user+1]\n",
    "    vt = test_set[id_user:id_user+1]\n",
    "    if len(vt[vt>=0]) > 0:\n",
    "        _, h = rbm.sample_hidden(v)\n",
    "        _, v = rbm.sample_visible(h)\n",
    "    test_loss += torch.mean(torch.abs(vt[vt>=0] - v[vt>=0]))\n",
    "    counter += 1.\n",
    "print(\"Test Loss: {}\".format(test_loss/counter))"
   ]
  },
  {
   "cell_type": "markdown",
   "metadata": {},
   "source": [
    "For RMSE use: ```test_loss += np.sqrt(torch.mean((vt[vt>=0] - v[vt>=0])**2))```"
   ]
  }
 ],
 "metadata": {
  "kernelspec": {
   "display_name": "Python 3",
   "language": "python",
   "name": "python3"
  },
  "language_info": {
   "codemirror_mode": {
    "name": "ipython",
    "version": 3
   },
   "file_extension": ".py",
   "mimetype": "text/x-python",
   "name": "python",
   "nbconvert_exporter": "python",
   "pygments_lexer": "ipython3",
   "version": "3.7.7"
  }
 },
 "nbformat": 4,
 "nbformat_minor": 4
}
