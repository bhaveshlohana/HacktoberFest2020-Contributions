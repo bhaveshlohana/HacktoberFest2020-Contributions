{
 "cells": [
  {
   "cell_type": "markdown",
   "metadata": {},
   "source": [
    "# Upper Confidence Bound"
   ]
  },
  {
   "cell_type": "code",
   "execution_count": 1,
   "metadata": {},
   "outputs": [],
   "source": [
    "import numpy as np\n",
    "import matplotlib.pyplot as plt\n",
    "import pandas as pd"
   ]
  },
  {
   "cell_type": "markdown",
   "metadata": {},
   "source": [
    "## Data Loading"
   ]
  },
  {
   "cell_type": "code",
   "execution_count": 2,
   "metadata": {},
   "outputs": [],
   "source": [
    "PATH = \"../../../Reinforcement_Learning/Upper_Confidence_Bound_(UCB)/Python/Ads_CTR_Optimisation.csv\""
   ]
  },
  {
   "cell_type": "code",
   "execution_count": 3,
   "metadata": {},
   "outputs": [],
   "source": [
    "dataset = pd.read_csv(PATH)"
   ]
  },
  {
   "cell_type": "markdown",
   "metadata": {},
   "source": [
    "## UCB Algorithm"
   ]
  },
  {
   "cell_type": "code",
   "execution_count": 4,
   "metadata": {},
   "outputs": [],
   "source": [
    "N = len(dataset)\n",
    "ads = len(dataset.columns)\n",
    "ads_selected = []\n",
    "selections = [0] * ads\n",
    "sum_of_rewards = [0] * ads\n",
    "total_reward = 0"
   ]
  },
  {
   "cell_type": "code",
   "execution_count": 5,
   "metadata": {},
   "outputs": [],
   "source": [
    "import math\n",
    "for n in range(N):\n",
    "    ad = 0\n",
    "    max_UCB = 0\n",
    "    for i in range(ads):\n",
    "        if (selections[i] > 0):\n",
    "            avg_reward = sum_of_rewards[i] / selections[i]\n",
    "            delta = math.sqrt(3/2 * math.log(n + 1) / selections[i])\n",
    "            UCB = avg_reward + delta\n",
    "        else:\n",
    "            selections[i] = 1\n",
    "            UCB = 1e400\n",
    "        if (UCB > max_UCB):\n",
    "            max_UCB = UCB\n",
    "            ad = i\n",
    "    ads_selected.append(ad)\n",
    "    selections[ad] += 1\n",
    "    reward = dataset.values[n, ad]\n",
    "    sum_of_rewards[ad] += reward \n",
    "    total_reward += reward"
   ]
  },
  {
   "cell_type": "markdown",
   "metadata": {},
   "source": [
    "## Visualisation"
   ]
  },
  {
   "cell_type": "code",
   "execution_count": 6,
   "metadata": {},
   "outputs": [
    {
     "data": {
      "image/png": "[encoded data removed]",
      "text/plain": [
       "<Figure size 864x576 with 1 Axes>"
      ]
     },
     "metadata": {
      "needs_background": "light"
     },
     "output_type": "display_data"
    }
   ],
   "source": [
    "plt.figure(figsize=(12, 8))\n",
    "plt.hist(ads_selected)\n",
    "plt.title(\"Histogram (UCB)\")\n",
    "plt.xlabel(\"Ads\")\n",
    "plt.ylabel(\"Number of Selections\")\n",
    "plt.show()"
   ]
  }
 ],
 "metadata": {
  "kernelspec": {
   "display_name": "Python 3",
   "language": "python",
   "name": "python3"
  },
  "language_info": {
   "codemirror_mode": {
    "name": "ipython",
    "version": 3
   },
   "file_extension": ".py",
   "mimetype": "text/x-python",
   "name": "python",
   "nbconvert_exporter": "python",
   "pygments_lexer": "ipython3",
   "version": "3.6.9"
  }
 },
 "nbformat": 4,
 "nbformat_minor": 4
}
