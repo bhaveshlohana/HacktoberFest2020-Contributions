{
  "nbformat": 4,
  "nbformat_minor": 0,
  "metadata": {
    "colab": {
      "name": "Random Forest Regression.ipynb",
      "provenance": [],
      "collapsed_sections": []
    },
    "kernelspec": {
      "name": "python3",
      "display_name": "Python 3"
    }
  },
  "cells": [
    {
      "cell_type": "markdown",
      "metadata": {
        "id": "8WFDwPtP-vS0"
      },
      "source": [
        "Importing the necessary libraries"
      ]
    },
    {
      "cell_type": "code",
      "metadata": {
        "id": "grQqCwTK1nFq"
      },
      "source": [
        "import numpy as np\n",
        "import matplotlib.pyplot as plt\n",
        "import pandas as pd"
      ],
      "execution_count": null,
      "outputs": []
    },
    {
      "cell_type": "markdown",
      "metadata": {
        "id": "JY8cs54mAde3"
      },
      "source": [
        "Importing the dataset"
      ]
    },
    {
      "cell_type": "code",
      "metadata": {
        "id": "lTxcW8sh18iF"
      },
      "source": [
        "dataset=pd.read_csv(\"Salaries.csv\")\n",
        "X=dataset.iloc[:,1:-1].values\n",
        "y=dataset.iloc[:,-1].values"
      ],
      "execution_count": null,
      "outputs": []
    },
    {
      "cell_type": "code",
      "metadata": {
        "id": "NyTF_mkW3Rci"
      },
      "source": [
        "print(X)"
      ],
      "execution_count": null,
      "outputs": []
    },
    {
      "cell_type": "code",
      "metadata": {
        "id": "BhF-bRLoAid6"
      },
      "source": [
        "print(y)"
      ],
      "execution_count": null,
      "outputs": []
    },
    {
      "cell_type": "markdown",
      "metadata": {
        "id": "Ng-pD-RvAk37"
      },
      "source": [
        "Importing the Random Forest Regression Model"
      ]
    },
    {
      "cell_type": "code",
      "metadata": {
        "id": "vVupFrjx2PzH"
      },
      "source": [
        "from sklearn.ensemble import RandomForestRegressor\n",
        "rfr=RandomForestRegressor(n_estimators=100000,random_state=0)\n",
        "rfr.fit(X,y)"
      ],
      "execution_count": null,
      "outputs": []
    },
    {
      "cell_type": "markdown",
      "metadata": {
        "id": "sLmKmJS5_EnS"
      },
      "source": [
        "Predicting a value from the built model"
      ]
    },
    {
      "cell_type": "code",
      "metadata": {
        "id": "NelK3WL92P6j"
      },
      "source": [
        "rfr.predict([[6.5]])"
      ],
      "execution_count": null,
      "outputs": []
    },
    {
      "cell_type": "markdown",
      "metadata": {
        "id": "ZzE6Q9lx_Bmh"
      },
      "source": [
        "Visualising the predictions"
      ]
    },
    {
      "cell_type": "code",
      "metadata": {
        "id": "q05mKyRa2P_S"
      },
      "source": [
        "X_grid = np.arange(min(X),max(X),0.1)  # makes a horizontal array\n",
        "X_grid= X_grid.reshape((len(X_grid),1))    #To make it a vertical array\n",
        "plt.scatter(X,y,color='red')\n",
        "plt.plot(X_grid,rfr.predict(X_grid),color='blue')\n",
        "plt.title(\"Truth vs Bluff (Random Forest Regression)\")\n",
        "plt.xlabel(\"Level\")\n",
        "plt.ylabel(\"Salary\")\n",
        "plt.show()"
      ],
      "execution_count": null,
      "outputs": []
    },
    {
      "cell_type": "code",
      "metadata": {
        "id": "pwMRL5uX3aOL"
      },
      "source": [
        "# print(X_grid)"
      ],
      "execution_count": null,
      "outputs": []
    }
  ]
}