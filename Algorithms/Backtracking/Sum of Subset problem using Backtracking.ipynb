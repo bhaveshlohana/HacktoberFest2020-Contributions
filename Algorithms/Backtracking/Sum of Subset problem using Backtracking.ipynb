{
 "cells": [
  {
   "cell_type": "code",
   "execution_count": 75,
   "metadata": {},
   "outputs": [],
   "source": [
    "# Sum of subset using Backtracking"
   ]
  },
  {
   "cell_type": "code",
   "execution_count": 4,
   "metadata": {},
   "outputs": [
    {
     "name": "stdout",
     "output_type": "stream",
     "text": [
      "Enter the number of elements in the list 7\n",
      "Enter the elements of the list\n",
      "\n",
      "10\n",
      "7\n",
      "5\n",
      "18\n",
      "12\n",
      "8\n",
      "15\n",
      "Enter the required sum15\n"
     ]
    }
   ],
   "source": [
    "# Set and the sum required \n",
    "n = int(input('Enter the number of elements in the list '))\n",
    "\n",
    "print('Enter the elements of the list\\n')\n",
    "setVal = []\n",
    "for i in range(n):\n",
    "    item = int(input())\n",
    "    setVal.append(item)\n",
    "\n",
    "k = int(input('Enter the required sum '))\n",
    "\n",
    "# Subset\n",
    "subset = []"
   ]
  },
  {
   "cell_type": "code",
   "execution_count": 5,
   "metadata": {},
   "outputs": [],
   "source": [
    "def display(subset):\n",
    "    for i in subset:\n",
    "        print(i,end=\" \")\n",
    "    print()"
   ]
  },
  {
   "cell_type": "code",
   "execution_count": 6,
   "metadata": {},
   "outputs": [],
   "source": [
    "def subsetSum(setVal,n,k,subset,x,total):\n",
    "    if(total == k):\n",
    "        display(subset)\n",
    "        \n",
    "    else:\n",
    "        if(total < k and x < n):\n",
    "            for i in range(x,n):\n",
    "                subset.append(setVal[i])\n",
    "                total += setVal[i]\n",
    "                subsetSum(setVal,n,k,subset,i+1,total)\n",
    "                total -= setVal[i]\n",
    "                subset.pop()\n",
    "        \n",
    "    "
   ]
  },
  {
   "cell_type": "code",
   "execution_count": 7,
   "metadata": {},
   "outputs": [
    {
     "name": "stdout",
     "output_type": "stream",
     "text": [
      "10 5 \n",
      "7 8 \n",
      "15 \n"
     ]
    }
   ],
   "source": [
    "subsetSum(setVal,n,k,subset,0,0)"
   ]
  },
  {
   "cell_type": "code",
   "execution_count": null,
   "metadata": {},
   "outputs": [],
   "source": []
  },
  {
   "cell_type": "code",
   "execution_count": null,
   "metadata": {},
   "outputs": [],
   "source": []
  }
 ],
 "metadata": {
  "kernelspec": {
   "display_name": "Python 3",
   "language": "python",
   "name": "python3"
  },
  "language_info": {
   "codemirror_mode": {
    "name": "ipython",
    "version": 3
   },
   "file_extension": ".py",
   "mimetype": "text/x-python",
   "name": "python",
   "nbconvert_exporter": "python",
   "pygments_lexer": "ipython3",
   "version": "3.7.6"
  }
 },
 "nbformat": 4,
 "nbformat_minor": 4
}
