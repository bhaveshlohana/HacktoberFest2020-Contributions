{
 "cells": [
  {
   "cell_type": "code",
   "execution_count": 1,
   "metadata": {},
   "outputs": [
    {
     "name": "stdout",
     "output_type": "stream",
     "text": [
      "Enter the Message: hey\n",
      "Enter Key: 3\n",
      "Choose the following options\n",
      "1: Encrypt the message\n",
      "2: Decrypt the message\n",
      "Choice: 1\n",
      "Encrypted Message is: KHB"
     ]
    }
   ],
   "source": [
    "#Caeser Cipher\n",
    "mssg = input(\"Enter the Message: \")\n",
    "key = int(input(\"Enter Key: \"))\n",
    "print(\"Choose the following options\\n1: Encrypt the message\\n2: Decrypt the message\")\n",
    "choice = int(input(\"Choice: \"))\n",
    "\n",
    "if(choice == 1):\n",
    "    print(\"Encrypted Message is:\", end = \" \")\n",
    "    for i in mssg:\n",
    "        if(i == \" \"):\n",
    "            print(\" \",end=\"\")\n",
    "            continue\n",
    "        print(chr(((ord(i) + key - 97) % 26 ) + 65 ), end = \"\")\n",
    "#97 for converting it to range 0-25, %26 to get the right txt for it after z and\n",
    "# +65 to convert it back to capital alphabets for chr function\n",
    "elif(choice == 2):\n",
    "    print(\"Decrypted Message is:\", end = \" \")\n",
    "    for i in mssg:\n",
    "        if(i == \" \"):\n",
    "            print(\" \",end=\"\")\n",
    "            continue\n",
    "        print(chr(((ord(i) - key - 97) % 26 ) + 65 ), end = \"\")\n",
    "else:\n",
    "    print(\"Invalid input\")\n",
    "              "
   ]
  },
  {
   "cell_type": "code",
   "execution_count": null,
   "metadata": {},
   "outputs": [],
   "source": []
  }
 ],
 "metadata": {
  "kernelspec": {
   "display_name": "Python 3",
   "language": "python",
   "name": "python3"
  },
  "language_info": {
   "codemirror_mode": {
    "name": "ipython",
    "version": 3
   },
   "file_extension": ".py",
   "mimetype": "text/x-python",
   "name": "python",
   "nbconvert_exporter": "python",
   "pygments_lexer": "ipython3",
   "version": "3.6.5"
  }
 },
 "nbformat": 4,
 "nbformat_minor": 2
}
