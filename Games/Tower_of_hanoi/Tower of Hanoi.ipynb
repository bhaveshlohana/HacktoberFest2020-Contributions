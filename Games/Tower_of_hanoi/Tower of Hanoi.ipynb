{
 "cells": [
  {
   "cell_type": "markdown",
   "metadata": {},
   "source": [
    "## Reccursive Implemtation of Tower of Hanoi"
   ]
  },
  {
   "cell_type": "code",
   "execution_count": 5,
   "metadata": {},
   "outputs": [],
   "source": [
    "def tower_of_hanoi(n,a,b,c): #a-->source b-->target c-->helper\n",
    "    #base case:\n",
    "    if n==0:\n",
    "        return\n",
    "    \n",
    "    #recursive case\n",
    "    #move n-1 disks from a to b (source to helper)\n",
    "    \n",
    "    tower_of_hanoi(n-1,a,c,b)\n",
    "    print(f'move disk no {n} from {a} to {b}')\n",
    "    tower_of_hanoi(n-1,c,b,a)"
   ]
  },
  {
   "cell_type": "code",
   "execution_count": 7,
   "metadata": {},
   "outputs": [
    {
     "name": "stdout",
     "output_type": "stream",
     "text": [
      "move disk no 1 from a to c\n",
      "move disk no 2 from a to b\n",
      "move disk no 1 from c to b\n"
     ]
    }
   ],
   "source": [
    "tower_of_hanoi(2,'a','b','c')"
   ]
  },
  {
   "cell_type": "code",
   "execution_count": null,
   "metadata": {},
   "outputs": [],
   "source": []
  }
 ],
 "metadata": {
  "kernelspec": {
   "display_name": "Python 3",
   "language": "python",
   "name": "python3"
  },
  "language_info": {
   "codemirror_mode": {
    "name": "ipython",
    "version": 3
   },
   "file_extension": ".py",
   "mimetype": "text/x-python",
   "name": "python",
   "nbconvert_exporter": "python",
   "pygments_lexer": "ipython3",
   "version": "3.7.6"
  }
 },
 "nbformat": 4,
 "nbformat_minor": 4
}
