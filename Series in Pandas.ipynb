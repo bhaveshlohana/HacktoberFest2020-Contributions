{
 "cells": [
  {
   "cell_type": "code",
   "execution_count": 2,
   "metadata": {},
   "outputs": [],
   "source": [
    "import pandas as pd\n",
    "import numpy as np"
   ]
  },
  {
   "cell_type": "code",
   "execution_count": 5,
   "metadata": {},
   "outputs": [
    {
     "data": {
      "text/plain": [
       "one      Vritika\n",
       "two      Rishita\n",
       "three     Nisarg\n",
       "four     Paridhi\n",
       "five     Saurabh\n",
       "dtype: object"
      ]
     },
     "execution_count": 5,
     "metadata": {},
     "output_type": "execute_result"
    }
   ],
   "source": [
    "#If we want to fetch some value out of the list using a string (or its key) then we have to use the loc[] property and if we want to access\n",
    "#the series using the position then we have to use the iloc[] parameter.\n",
    "#The loc and iloc are not methods and thus does not require paranthesis.\n",
    "\n",
    "s = pd.Series(['Vritika','Rishita','Nisarg','Paridhi','Saurabh'],index=['one','two','three','four','five'])\n",
    "s"
   ]
  },
  {
   "cell_type": "code",
   "execution_count": 6,
   "metadata": {},
   "outputs": [
    {
     "data": {
      "text/plain": [
       "'Rishita'"
      ]
     },
     "execution_count": 6,
     "metadata": {},
     "output_type": "execute_result"
    }
   ],
   "source": [
    "s.iloc[1] #Here the at the first positon at the list is rishita"
   ]
  },
  {
   "cell_type": "code",
   "execution_count": 7,
   "metadata": {},
   "outputs": [
    {
     "data": {
      "text/plain": [
       "'Paridhi'"
      ]
     },
     "execution_count": 7,
     "metadata": {},
     "output_type": "execute_result"
    }
   ],
   "source": [
    "s.loc['four'] #At key 'four'we have paridhi"
   ]
  },
  {
   "cell_type": "code",
   "execution_count": 8,
   "metadata": {},
   "outputs": [],
   "source": [
    "#Note hence using the iloc we can get the element based upon his position and by using the loc attribute we can get element using\n",
    "#Its key."
   ]
  },
  {
   "cell_type": "code",
   "execution_count": 23,
   "metadata": {},
   "outputs": [
    {
     "data": {
      "text/plain": [
       "0    9174\n",
       "1    2901\n",
       "2    3798\n",
       "3    3477\n",
       "4    4139\n",
       "dtype: int32"
      ]
     },
     "execution_count": 23,
     "metadata": {},
     "output_type": "execute_result"
    }
   ],
   "source": [
    "#Using of the magic fucntion. Magic functions are some fucntions in python which make our work easier . Here we will use the timeit\n",
    "#magic function which will run multiple times to find out the average time required for the exceution of the loop.\n",
    "s1 = pd.Series(np.random.randint(0,10000,10000))\n",
    "s1.head() #This shows only the top 5 elements of the list.\n"
   ]
  },
  {
   "cell_type": "code",
   "execution_count": 24,
   "metadata": {},
   "outputs": [
    {
     "name": "stdout",
     "output_type": "stream",
     "text": [
      "50537443\n"
     ]
    }
   ],
   "source": [
    "sum=0\n",
    "for num in s1:\n",
    "    sum = sum+num\n",
    "print(sum)"
   ]
  },
  {
   "cell_type": "code",
   "execution_count": 25,
   "metadata": {},
   "outputs": [
    {
     "data": {
      "text/plain": [
       "50537443"
      ]
     },
     "execution_count": 25,
     "metadata": {},
     "output_type": "execute_result"
    }
   ],
   "source": [
    "#Vectorization is used to speed up the Python code without using loop. \n",
    "#Using such a function can help in minimizing the running time of code efficiently.\n",
    "#Here we have using vectorization by performing sum operation using the NumPy library.\n",
    "sum1 = np.sum(s1)\n",
    "sum1"
   ]
  },
  {
   "cell_type": "code",
   "execution_count": 26,
   "metadata": {},
   "outputs": [
    {
     "name": "stdout",
     "output_type": "stream",
     "text": [
      "3.48 ms ± 184 µs per loop (mean ± std. dev. of 7 runs, 1000 loops each)\n"
     ]
    }
   ],
   "source": [
    "%%timeit -n 1000\n",
    "summary = 0\n",
    "for item in s1:\n",
    "    summary+=item\n",
    "#print(summary)"
   ]
  },
  {
   "cell_type": "code",
   "execution_count": 27,
   "metadata": {},
   "outputs": [
    {
     "name": "stdout",
     "output_type": "stream",
     "text": [
      "47.5 ns ± 0.324 ns per loop (mean ± std. dev. of 7 runs, 10000000 loops each)\n"
     ]
    }
   ],
   "source": [
    "%%timeit\n",
    "c=1+2"
   ]
  },
  {
   "cell_type": "code",
   "execution_count": 28,
   "metadata": {},
   "outputs": [
    {
     "name": "stdout",
     "output_type": "stream",
     "text": [
      "217 µs ± 6.34 µs per loop (mean ± std. dev. of 7 runs, 1000 loops each)\n"
     ]
    }
   ],
   "source": [
    "%%timeit -n 1000\n",
    "np.sum(s1)"
   ]
  },
  {
   "cell_type": "code",
   "execution_count": 4,
   "metadata": {},
   "outputs": [
    {
     "data": {
      "text/plain": [
       "0    351\n",
       "1    487\n",
       "2    446\n",
       "3     29\n",
       "4    106\n",
       "dtype: int32"
      ]
     },
     "execution_count": 4,
     "metadata": {},
     "output_type": "execute_result"
    }
   ],
   "source": [
    "#Another example showing the use of vectorization.\n",
    "s2 = pd.Series(np.random.randint(0,1000,1000))\n",
    "s2.head()"
   ]
  },
  {
   "cell_type": "code",
   "execution_count": 6,
   "metadata": {},
   "outputs": [
    {
     "name": "stdout",
     "output_type": "stream",
     "text": [
      "22.2 ms ± 6.8 ms per loop (mean ± std. dev. of 7 runs, 100 loops each)\n"
     ]
    }
   ],
   "source": [
    "%%timeit -n 100\n",
    "for label,value in s2.iteritems():\n",
    "    s2[label] = value+2"
   ]
  },
  {
   "cell_type": "code",
   "execution_count": 9,
   "metadata": {},
   "outputs": [],
   "source": [
    "#In place of using a whole loop for this we can use vectorization.\n",
    "#Here we will use broadcasting. Broadcasting is feature of python in which the changes which we make get reflected on each and\n",
    "#Every element of the seires"
   ]
  },
  {
   "cell_type": "code",
   "execution_count": 10,
   "metadata": {},
   "outputs": [
    {
     "name": "stdout",
     "output_type": "stream",
     "text": [
      "712 µs ± 129 µs per loop (mean ± std. dev. of 7 runs, 100 loops each)\n"
     ]
    }
   ],
   "source": [
    "%%timeit -n 100\n",
    "s2 + 2"
   ]
  },
  {
   "cell_type": "code",
   "execution_count": 11,
   "metadata": {},
   "outputs": [],
   "source": [
    "#Here we can see that vectorization makes a huge difference in timing of execution."
   ]
  },
  {
   "cell_type": "code",
   "execution_count": 12,
   "metadata": {},
   "outputs": [
    {
     "data": {
      "text/plain": [
       "0             1\n",
       "1             2\n",
       "2             3\n",
       "3             4\n",
       "4             5\n",
       "Name    Vritika\n",
       "dtype: object"
      ]
     },
     "execution_count": 12,
     "metadata": {},
     "output_type": "execute_result"
    }
   ],
   "source": [
    "#The .loc property not only allows us to access a values, we can also edit a value and can also add a new value in place of an\n",
    "#existing value.\n",
    "s3 = pd.Series([1,2,3,4,5])\n",
    "s3.loc['Name'] = 'Vritika'\n",
    "s3\n",
    "#This also shows that mixed data types are also not a problem for pandas."
   ]
  },
  {
   "cell_type": "code",
   "execution_count": 13,
   "metadata": {},
   "outputs": [
    {
     "data": {
      "text/plain": [
       "Cricket        India\n",
       "Cricket    Australia\n",
       "Cricket     Pakistan\n",
       "Cricket     Barbados\n",
       "dtype: object"
      ]
     },
     "execution_count": 13,
     "metadata": {},
     "output_type": "execute_result"
    }
   ],
   "source": [
    "#Appending two series can give us a third series which has appended value of both the series and does not affect the original\n",
    "#series.\n",
    "\n",
    "fav_sport = pd.Series(['India','Australia','Pakistan','Barbados'],index=['Cricket','Cricket','Cricket','Cricket'])\n",
    "fav_sport"
   ]
  },
  {
   "cell_type": "code",
   "execution_count": 14,
   "metadata": {},
   "outputs": [
    {
     "data": {
      "text/plain": [
       "0                  1\n",
       "1                  2\n",
       "2                  3\n",
       "3                  4\n",
       "4                  5\n",
       "Name         Vritika\n",
       "Cricket        India\n",
       "Cricket    Australia\n",
       "Cricket     Pakistan\n",
       "Cricket     Barbados\n",
       "dtype: object"
      ]
     },
     "execution_count": 14,
     "metadata": {},
     "output_type": "execute_result"
    }
   ],
   "source": [
    "appended_s = s3.append(fav_sport)\n",
    "appended_s"
   ]
  },
  {
   "cell_type": "code",
   "execution_count": 15,
   "metadata": {},
   "outputs": [
    {
     "data": {
      "text/plain": [
       "Cricket        India\n",
       "Cricket    Australia\n",
       "Cricket     Pakistan\n",
       "Cricket     Barbados\n",
       "dtype: object"
      ]
     },
     "execution_count": 15,
     "metadata": {},
     "output_type": "execute_result"
    }
   ],
   "source": [
    "#Same index values are not a problem for series as whenever we query to get the value having cricket as its index\n",
    "#it will return a small series itself with multiple values and not just a single one.\n",
    "appended_s.loc['Cricket']"
   ]
  },
  {
   "cell_type": "code",
   "execution_count": null,
   "metadata": {},
   "outputs": [],
   "source": []
  }
 ],
 "metadata": {
  "kernelspec": {
   "display_name": "Python 3",
   "language": "python",
   "name": "python3"
  },
  "language_info": {
   "codemirror_mode": {
    "name": "ipython",
    "version": 3
   },
   "file_extension": ".py",
   "mimetype": "text/x-python",
   "name": "python",
   "nbconvert_exporter": "python",
   "pygments_lexer": "ipython3",
   "version": "3.8.3"
  }
 },
 "nbformat": 4,
 "nbformat_minor": 4
}
